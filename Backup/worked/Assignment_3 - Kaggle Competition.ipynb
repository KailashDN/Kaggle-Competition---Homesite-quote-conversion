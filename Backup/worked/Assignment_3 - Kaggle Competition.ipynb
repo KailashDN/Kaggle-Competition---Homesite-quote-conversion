{
 "cells": [
  {
   "cell_type": "code",
   "execution_count": 211,
   "metadata": {},
   "outputs": [],
   "source": [
    "# Imports\n",
    "\n",
    "# pandas\n",
    "import pandas as pd\n",
    "from pandas import Series,DataFrame\n",
    "\n",
    "# numpy, matplotlib, seaborn\n",
    "import numpy as np\n",
    "import matplotlib.pyplot as plt\n",
    "import seaborn as sns\n",
    "sns.set_style('whitegrid')\n",
    "%matplotlib inline\n",
    "\n",
    "# machine learning\n",
    "from sklearn.linear_model import LogisticRegression\n",
    "from sklearn.svm import SVC, LinearSVC\n",
    "from sklearn.ensemble import RandomForestClassifier,GradientBoostingClassifier\n",
    "from sklearn.neighbors import KNeighborsClassifier\n",
    "from sklearn.naive_bayes import GaussianNB\n",
    "from sklearn.model_selection import train_test_split, cross_val_score, GridSearchCV, cross_validate\n",
    "from sklearn.metrics import accuracy_score, log_loss, roc_auc_score\n",
    "\n",
    "import xgboost as xgb\n",
    "import statsmodels.api as sm\n",
    "\n",
    "# For 2nd model\n",
    "from xgboost.sklearn import XGBClassifier\n",
    "from sklearn import metrics   #Additional scklearn functions\n",
    "# from sklearn.grid_search import GridSearchCV   #Perforing grid search\n",
    "\n",
    "# Importing H2O\n",
    "import time, warnings, h2o, logging, os, sys, psutil, random\n",
    "from h2o.automl import H2OAutoML\n",
    "\n",
    "from h2o.estimators.random_forest import H2ORandomForestEstimator\n",
    "from h2o.estimators.gbm import H2OGradientBoostingEstimator\n",
    "from h2o.estimators.stackedensemble import H2OStackedEnsembleEstimator\n",
    "from h2o.grid.grid_search import H2OGridSearch\n",
    "# from __future__ import print_function\n",
    "\n",
    "from h2o.estimators import H2OXGBoostEstimator\n",
    "\n",
    "import warnings\n",
    "warnings.filterwarnings('ignore')"
   ]
  },
  {
   "cell_type": "code",
   "execution_count": 2,
   "metadata": {
    "scrolled": true
   },
   "outputs": [
    {
     "data": {
      "text/html": [
       "<div>\n",
       "<style scoped>\n",
       "    .dataframe tbody tr th:only-of-type {\n",
       "        vertical-align: middle;\n",
       "    }\n",
       "\n",
       "    .dataframe tbody tr th {\n",
       "        vertical-align: top;\n",
       "    }\n",
       "\n",
       "    .dataframe thead th {\n",
       "        text-align: right;\n",
       "    }\n",
       "</style>\n",
       "<table border=\"1\" class=\"dataframe\">\n",
       "  <thead>\n",
       "    <tr style=\"text-align: right;\">\n",
       "      <th></th>\n",
       "      <th>QuoteNumber</th>\n",
       "      <th>Original_Quote_Date</th>\n",
       "      <th>QuoteConversion_Flag</th>\n",
       "      <th>Field6</th>\n",
       "      <th>Field7</th>\n",
       "      <th>Field8</th>\n",
       "      <th>Field9</th>\n",
       "      <th>Field10</th>\n",
       "      <th>Field11</th>\n",
       "      <th>Field12</th>\n",
       "      <th>...</th>\n",
       "      <th>GeographicField59A</th>\n",
       "      <th>GeographicField59B</th>\n",
       "      <th>GeographicField60A</th>\n",
       "      <th>GeographicField60B</th>\n",
       "      <th>GeographicField61A</th>\n",
       "      <th>GeographicField61B</th>\n",
       "      <th>GeographicField62A</th>\n",
       "      <th>GeographicField62B</th>\n",
       "      <th>GeographicField63</th>\n",
       "      <th>GeographicField64</th>\n",
       "    </tr>\n",
       "  </thead>\n",
       "  <tbody>\n",
       "    <tr>\n",
       "      <th>0</th>\n",
       "      <td>1</td>\n",
       "      <td>2013-08-16</td>\n",
       "      <td>0</td>\n",
       "      <td>B</td>\n",
       "      <td>23</td>\n",
       "      <td>0.9403</td>\n",
       "      <td>0.0006</td>\n",
       "      <td>965</td>\n",
       "      <td>1.0200</td>\n",
       "      <td>N</td>\n",
       "      <td>...</td>\n",
       "      <td>9</td>\n",
       "      <td>9</td>\n",
       "      <td>-1</td>\n",
       "      <td>8</td>\n",
       "      <td>-1</td>\n",
       "      <td>18</td>\n",
       "      <td>-1</td>\n",
       "      <td>10</td>\n",
       "      <td>N</td>\n",
       "      <td>CA</td>\n",
       "    </tr>\n",
       "    <tr>\n",
       "      <th>1</th>\n",
       "      <td>2</td>\n",
       "      <td>2014-04-22</td>\n",
       "      <td>0</td>\n",
       "      <td>F</td>\n",
       "      <td>7</td>\n",
       "      <td>1.0006</td>\n",
       "      <td>0.0040</td>\n",
       "      <td>548</td>\n",
       "      <td>1.2433</td>\n",
       "      <td>N</td>\n",
       "      <td>...</td>\n",
       "      <td>10</td>\n",
       "      <td>10</td>\n",
       "      <td>-1</td>\n",
       "      <td>11</td>\n",
       "      <td>-1</td>\n",
       "      <td>17</td>\n",
       "      <td>-1</td>\n",
       "      <td>20</td>\n",
       "      <td>N</td>\n",
       "      <td>NJ</td>\n",
       "    </tr>\n",
       "    <tr>\n",
       "      <th>2</th>\n",
       "      <td>4</td>\n",
       "      <td>2014-08-25</td>\n",
       "      <td>0</td>\n",
       "      <td>F</td>\n",
       "      <td>7</td>\n",
       "      <td>1.0006</td>\n",
       "      <td>0.0040</td>\n",
       "      <td>548</td>\n",
       "      <td>1.2433</td>\n",
       "      <td>N</td>\n",
       "      <td>...</td>\n",
       "      <td>15</td>\n",
       "      <td>18</td>\n",
       "      <td>-1</td>\n",
       "      <td>21</td>\n",
       "      <td>-1</td>\n",
       "      <td>11</td>\n",
       "      <td>-1</td>\n",
       "      <td>8</td>\n",
       "      <td>N</td>\n",
       "      <td>NJ</td>\n",
       "    </tr>\n",
       "    <tr>\n",
       "      <th>3</th>\n",
       "      <td>6</td>\n",
       "      <td>2013-04-15</td>\n",
       "      <td>0</td>\n",
       "      <td>J</td>\n",
       "      <td>10</td>\n",
       "      <td>0.9769</td>\n",
       "      <td>0.0004</td>\n",
       "      <td>1,165</td>\n",
       "      <td>1.2665</td>\n",
       "      <td>N</td>\n",
       "      <td>...</td>\n",
       "      <td>6</td>\n",
       "      <td>5</td>\n",
       "      <td>-1</td>\n",
       "      <td>10</td>\n",
       "      <td>-1</td>\n",
       "      <td>9</td>\n",
       "      <td>-1</td>\n",
       "      <td>21</td>\n",
       "      <td>N</td>\n",
       "      <td>TX</td>\n",
       "    </tr>\n",
       "    <tr>\n",
       "      <th>4</th>\n",
       "      <td>8</td>\n",
       "      <td>2014-01-25</td>\n",
       "      <td>0</td>\n",
       "      <td>E</td>\n",
       "      <td>23</td>\n",
       "      <td>0.9472</td>\n",
       "      <td>0.0006</td>\n",
       "      <td>1,487</td>\n",
       "      <td>1.3045</td>\n",
       "      <td>N</td>\n",
       "      <td>...</td>\n",
       "      <td>18</td>\n",
       "      <td>22</td>\n",
       "      <td>-1</td>\n",
       "      <td>10</td>\n",
       "      <td>-1</td>\n",
       "      <td>11</td>\n",
       "      <td>-1</td>\n",
       "      <td>12</td>\n",
       "      <td>N</td>\n",
       "      <td>IL</td>\n",
       "    </tr>\n",
       "  </tbody>\n",
       "</table>\n",
       "<p>5 rows × 299 columns</p>\n",
       "</div>"
      ],
      "text/plain": [
       "   QuoteNumber Original_Quote_Date  QuoteConversion_Flag Field6  Field7  \\\n",
       "0            1          2013-08-16                     0      B      23   \n",
       "1            2          2014-04-22                     0      F       7   \n",
       "2            4          2014-08-25                     0      F       7   \n",
       "3            6          2013-04-15                     0      J      10   \n",
       "4            8          2014-01-25                     0      E      23   \n",
       "\n",
       "   Field8  Field9 Field10  Field11 Field12        ...          \\\n",
       "0  0.9403  0.0006     965   1.0200       N        ...           \n",
       "1  1.0006  0.0040     548   1.2433       N        ...           \n",
       "2  1.0006  0.0040     548   1.2433       N        ...           \n",
       "3  0.9769  0.0004   1,165   1.2665       N        ...           \n",
       "4  0.9472  0.0006   1,487   1.3045       N        ...           \n",
       "\n",
       "   GeographicField59A  GeographicField59B  GeographicField60A  \\\n",
       "0                   9                   9                  -1   \n",
       "1                  10                  10                  -1   \n",
       "2                  15                  18                  -1   \n",
       "3                   6                   5                  -1   \n",
       "4                  18                  22                  -1   \n",
       "\n",
       "   GeographicField60B  GeographicField61A  GeographicField61B  \\\n",
       "0                   8                  -1                  18   \n",
       "1                  11                  -1                  17   \n",
       "2                  21                  -1                  11   \n",
       "3                  10                  -1                   9   \n",
       "4                  10                  -1                  11   \n",
       "\n",
       "   GeographicField62A  GeographicField62B  GeographicField63  \\\n",
       "0                  -1                  10                  N   \n",
       "1                  -1                  20                  N   \n",
       "2                  -1                   8                  N   \n",
       "3                  -1                  21                  N   \n",
       "4                  -1                  12                  N   \n",
       "\n",
       "   GeographicField64  \n",
       "0                 CA  \n",
       "1                 NJ  \n",
       "2                 NJ  \n",
       "3                 TX  \n",
       "4                 IL  \n",
       "\n",
       "[5 rows x 299 columns]"
      ]
     },
     "execution_count": 2,
     "metadata": {},
     "output_type": "execute_result"
    }
   ],
   "source": [
    "# get homesite & test csv files as a DataFrame\n",
    "# homesite_df = pd.read_csv(\"C://Users//kaila//OneDrive//Desktop//DSMT//Assignment_3_KaggleCompetition//homesite-quote-conversion//train.csv\")\n",
    "# test_df     = pd.read_csv(\"C://Users//kaila//OneDrive//Desktop//DSMT//Assignment_3_KaggleCompetition//homesite-quote-conversion//test.csv\")\n",
    "\n",
    "homesite_df = pd.read_csv(\"train.csv\")\n",
    "test_df     = pd.read_csv(\"test.csv\")\n",
    "\n",
    "# preview the data\n",
    "homesite_df.head()"
   ]
  },
  {
   "cell_type": "code",
   "execution_count": 257,
   "metadata": {
    "scrolled": true
   },
   "outputs": [
    {
     "name": "stdout",
     "output_type": "stream",
     "text": [
      "<class 'pandas.core.frame.DataFrame'>\n",
      "RangeIndex: 260753 entries, 0 to 260752\n",
      "Columns: 300 entries, QuoteConversion_Flag to Week\n",
      "dtypes: float64(6), int64(294)\n",
      "memory usage: 596.8 MB\n"
     ]
    }
   ],
   "source": [
    "homesite_df.info()"
   ]
  },
  {
   "cell_type": "code",
   "execution_count": 258,
   "metadata": {},
   "outputs": [
    {
     "data": {
      "text/html": [
       "<div>\n",
       "<style scoped>\n",
       "    .dataframe tbody tr th:only-of-type {\n",
       "        vertical-align: middle;\n",
       "    }\n",
       "\n",
       "    .dataframe tbody tr th {\n",
       "        vertical-align: top;\n",
       "    }\n",
       "\n",
       "    .dataframe thead th {\n",
       "        text-align: right;\n",
       "    }\n",
       "</style>\n",
       "<table border=\"1\" class=\"dataframe\">\n",
       "  <thead>\n",
       "    <tr style=\"text-align: right;\">\n",
       "      <th></th>\n",
       "      <th>QuoteConversion_Flag</th>\n",
       "      <th>Field6</th>\n",
       "      <th>Field7</th>\n",
       "      <th>Field8</th>\n",
       "      <th>Field9</th>\n",
       "      <th>Field10</th>\n",
       "      <th>Field11</th>\n",
       "      <th>Field12</th>\n",
       "      <th>CoverageField1A</th>\n",
       "      <th>CoverageField1B</th>\n",
       "      <th>...</th>\n",
       "      <th>GeographicField60B</th>\n",
       "      <th>GeographicField61A</th>\n",
       "      <th>GeographicField61B</th>\n",
       "      <th>GeographicField62A</th>\n",
       "      <th>GeographicField62B</th>\n",
       "      <th>GeographicField63</th>\n",
       "      <th>GeographicField64</th>\n",
       "      <th>Year</th>\n",
       "      <th>Month</th>\n",
       "      <th>Week</th>\n",
       "    </tr>\n",
       "  </thead>\n",
       "  <tbody>\n",
       "    <tr>\n",
       "      <th>count</th>\n",
       "      <td>260753.000000</td>\n",
       "      <td>260753.000000</td>\n",
       "      <td>260753.000000</td>\n",
       "      <td>260753.000000</td>\n",
       "      <td>260753.000000</td>\n",
       "      <td>260753.000000</td>\n",
       "      <td>260753.000000</td>\n",
       "      <td>260753.000000</td>\n",
       "      <td>260753.000000</td>\n",
       "      <td>260753.000000</td>\n",
       "      <td>...</td>\n",
       "      <td>260753.000000</td>\n",
       "      <td>260753.000000</td>\n",
       "      <td>260753.000000</td>\n",
       "      <td>260753.000000</td>\n",
       "      <td>260753.000000</td>\n",
       "      <td>260753.000000</td>\n",
       "      <td>260753.000000</td>\n",
       "      <td>260753.000000</td>\n",
       "      <td>260753.000000</td>\n",
       "      <td>260753.000000</td>\n",
       "    </tr>\n",
       "    <tr>\n",
       "      <th>mean</th>\n",
       "      <td>0.187511</td>\n",
       "      <td>3.679823</td>\n",
       "      <td>18.293339</td>\n",
       "      <td>0.938346</td>\n",
       "      <td>0.001451</td>\n",
       "      <td>3.917800</td>\n",
       "      <td>1.162718</td>\n",
       "      <td>0.072429</td>\n",
       "      <td>9.012533</td>\n",
       "      <td>13.000403</td>\n",
       "      <td>...</td>\n",
       "      <td>12.994362</td>\n",
       "      <td>-0.343601</td>\n",
       "      <td>13.042734</td>\n",
       "      <td>-0.341009</td>\n",
       "      <td>14.122948</td>\n",
       "      <td>1.023152</td>\n",
       "      <td>1.401108</td>\n",
       "      <td>2013.776532</td>\n",
       "      <td>5.675532</td>\n",
       "      <td>15.414465</td>\n",
       "    </tr>\n",
       "    <tr>\n",
       "      <th>std</th>\n",
       "      <td>0.390322</td>\n",
       "      <td>2.184370</td>\n",
       "      <td>7.382803</td>\n",
       "      <td>0.037086</td>\n",
       "      <td>0.001486</td>\n",
       "      <td>2.466246</td>\n",
       "      <td>0.116833</td>\n",
       "      <td>0.259197</td>\n",
       "      <td>5.576509</td>\n",
       "      <td>7.219264</td>\n",
       "      <td>...</td>\n",
       "      <td>7.219943</td>\n",
       "      <td>4.078673</td>\n",
       "      <td>7.145248</td>\n",
       "      <td>4.086511</td>\n",
       "      <td>5.829091</td>\n",
       "      <td>0.150438</td>\n",
       "      <td>1.210544</td>\n",
       "      <td>0.726497</td>\n",
       "      <td>3.305120</td>\n",
       "      <td>8.760221</td>\n",
       "    </tr>\n",
       "    <tr>\n",
       "      <th>min</th>\n",
       "      <td>0.000000</td>\n",
       "      <td>0.000000</td>\n",
       "      <td>1.000000</td>\n",
       "      <td>0.874600</td>\n",
       "      <td>0.000400</td>\n",
       "      <td>0.000000</td>\n",
       "      <td>1.000000</td>\n",
       "      <td>0.000000</td>\n",
       "      <td>-1.000000</td>\n",
       "      <td>-1.000000</td>\n",
       "      <td>...</td>\n",
       "      <td>-1.000000</td>\n",
       "      <td>-1.000000</td>\n",
       "      <td>-1.000000</td>\n",
       "      <td>-1.000000</td>\n",
       "      <td>-1.000000</td>\n",
       "      <td>0.000000</td>\n",
       "      <td>0.000000</td>\n",
       "      <td>2013.000000</td>\n",
       "      <td>1.000000</td>\n",
       "      <td>1.000000</td>\n",
       "    </tr>\n",
       "    <tr>\n",
       "      <th>25%</th>\n",
       "      <td>0.000000</td>\n",
       "      <td>1.000000</td>\n",
       "      <td>11.000000</td>\n",
       "      <td>0.915300</td>\n",
       "      <td>0.000600</td>\n",
       "      <td>2.000000</td>\n",
       "      <td>1.020000</td>\n",
       "      <td>0.000000</td>\n",
       "      <td>5.000000</td>\n",
       "      <td>7.000000</td>\n",
       "      <td>...</td>\n",
       "      <td>7.000000</td>\n",
       "      <td>-1.000000</td>\n",
       "      <td>7.000000</td>\n",
       "      <td>-1.000000</td>\n",
       "      <td>8.000000</td>\n",
       "      <td>1.000000</td>\n",
       "      <td>0.000000</td>\n",
       "      <td>2013.000000</td>\n",
       "      <td>3.000000</td>\n",
       "      <td>8.000000</td>\n",
       "    </tr>\n",
       "    <tr>\n",
       "      <th>50%</th>\n",
       "      <td>0.000000</td>\n",
       "      <td>5.000000</td>\n",
       "      <td>23.000000</td>\n",
       "      <td>0.940300</td>\n",
       "      <td>0.000600</td>\n",
       "      <td>4.000000</td>\n",
       "      <td>1.188600</td>\n",
       "      <td>0.000000</td>\n",
       "      <td>8.000000</td>\n",
       "      <td>13.000000</td>\n",
       "      <td>...</td>\n",
       "      <td>13.000000</td>\n",
       "      <td>-1.000000</td>\n",
       "      <td>13.000000</td>\n",
       "      <td>-1.000000</td>\n",
       "      <td>13.000000</td>\n",
       "      <td>1.000000</td>\n",
       "      <td>2.000000</td>\n",
       "      <td>2014.000000</td>\n",
       "      <td>5.000000</td>\n",
       "      <td>15.000000</td>\n",
       "    </tr>\n",
       "    <tr>\n",
       "      <th>75%</th>\n",
       "      <td>0.000000</td>\n",
       "      <td>5.000000</td>\n",
       "      <td>24.000000</td>\n",
       "      <td>0.968500</td>\n",
       "      <td>0.003800</td>\n",
       "      <td>6.000000</td>\n",
       "      <td>1.266500</td>\n",
       "      <td>0.000000</td>\n",
       "      <td>12.000000</td>\n",
       "      <td>19.000000</td>\n",
       "      <td>...</td>\n",
       "      <td>19.000000</td>\n",
       "      <td>-1.000000</td>\n",
       "      <td>19.000000</td>\n",
       "      <td>-1.000000</td>\n",
       "      <td>19.000000</td>\n",
       "      <td>1.000000</td>\n",
       "      <td>2.000000</td>\n",
       "      <td>2014.000000</td>\n",
       "      <td>8.000000</td>\n",
       "      <td>23.000000</td>\n",
       "    </tr>\n",
       "    <tr>\n",
       "      <th>max</th>\n",
       "      <td>1.000000</td>\n",
       "      <td>7.000000</td>\n",
       "      <td>28.000000</td>\n",
       "      <td>1.010100</td>\n",
       "      <td>0.004000</td>\n",
       "      <td>7.000000</td>\n",
       "      <td>1.304500</td>\n",
       "      <td>1.000000</td>\n",
       "      <td>25.000000</td>\n",
       "      <td>25.000000</td>\n",
       "      <td>...</td>\n",
       "      <td>25.000000</td>\n",
       "      <td>25.000000</td>\n",
       "      <td>25.000000</td>\n",
       "      <td>25.000000</td>\n",
       "      <td>25.000000</td>\n",
       "      <td>2.000000</td>\n",
       "      <td>3.000000</td>\n",
       "      <td>2015.000000</td>\n",
       "      <td>12.000000</td>\n",
       "      <td>31.000000</td>\n",
       "    </tr>\n",
       "  </tbody>\n",
       "</table>\n",
       "<p>8 rows × 300 columns</p>\n",
       "</div>"
      ],
      "text/plain": [
       "       QuoteConversion_Flag         Field6         Field7         Field8  \\\n",
       "count         260753.000000  260753.000000  260753.000000  260753.000000   \n",
       "mean               0.187511       3.679823      18.293339       0.938346   \n",
       "std                0.390322       2.184370       7.382803       0.037086   \n",
       "min                0.000000       0.000000       1.000000       0.874600   \n",
       "25%                0.000000       1.000000      11.000000       0.915300   \n",
       "50%                0.000000       5.000000      23.000000       0.940300   \n",
       "75%                0.000000       5.000000      24.000000       0.968500   \n",
       "max                1.000000       7.000000      28.000000       1.010100   \n",
       "\n",
       "              Field9        Field10        Field11        Field12  \\\n",
       "count  260753.000000  260753.000000  260753.000000  260753.000000   \n",
       "mean        0.001451       3.917800       1.162718       0.072429   \n",
       "std         0.001486       2.466246       0.116833       0.259197   \n",
       "min         0.000400       0.000000       1.000000       0.000000   \n",
       "25%         0.000600       2.000000       1.020000       0.000000   \n",
       "50%         0.000600       4.000000       1.188600       0.000000   \n",
       "75%         0.003800       6.000000       1.266500       0.000000   \n",
       "max         0.004000       7.000000       1.304500       1.000000   \n",
       "\n",
       "       CoverageField1A  CoverageField1B      ...        GeographicField60B  \\\n",
       "count    260753.000000    260753.000000      ...             260753.000000   \n",
       "mean          9.012533        13.000403      ...                 12.994362   \n",
       "std           5.576509         7.219264      ...                  7.219943   \n",
       "min          -1.000000        -1.000000      ...                 -1.000000   \n",
       "25%           5.000000         7.000000      ...                  7.000000   \n",
       "50%           8.000000        13.000000      ...                 13.000000   \n",
       "75%          12.000000        19.000000      ...                 19.000000   \n",
       "max          25.000000        25.000000      ...                 25.000000   \n",
       "\n",
       "       GeographicField61A  GeographicField61B  GeographicField62A  \\\n",
       "count       260753.000000       260753.000000       260753.000000   \n",
       "mean            -0.343601           13.042734           -0.341009   \n",
       "std              4.078673            7.145248            4.086511   \n",
       "min             -1.000000           -1.000000           -1.000000   \n",
       "25%             -1.000000            7.000000           -1.000000   \n",
       "50%             -1.000000           13.000000           -1.000000   \n",
       "75%             -1.000000           19.000000           -1.000000   \n",
       "max             25.000000           25.000000           25.000000   \n",
       "\n",
       "       GeographicField62B  GeographicField63  GeographicField64  \\\n",
       "count       260753.000000      260753.000000      260753.000000   \n",
       "mean            14.122948           1.023152           1.401108   \n",
       "std              5.829091           0.150438           1.210544   \n",
       "min             -1.000000           0.000000           0.000000   \n",
       "25%              8.000000           1.000000           0.000000   \n",
       "50%             13.000000           1.000000           2.000000   \n",
       "75%             19.000000           1.000000           2.000000   \n",
       "max             25.000000           2.000000           3.000000   \n",
       "\n",
       "                Year          Month           Week  \n",
       "count  260753.000000  260753.000000  260753.000000  \n",
       "mean     2013.776532       5.675532      15.414465  \n",
       "std         0.726497       3.305120       8.760221  \n",
       "min      2013.000000       1.000000       1.000000  \n",
       "25%      2013.000000       3.000000       8.000000  \n",
       "50%      2014.000000       5.000000      15.000000  \n",
       "75%      2014.000000       8.000000      23.000000  \n",
       "max      2015.000000      12.000000      31.000000  \n",
       "\n",
       "[8 rows x 300 columns]"
      ]
     },
     "execution_count": 258,
     "metadata": {},
     "output_type": "execute_result"
    }
   ],
   "source": [
    "homesite_df.describe()"
   ]
  },
  {
   "cell_type": "code",
   "execution_count": 3,
   "metadata": {},
   "outputs": [
    {
     "name": "stdout",
     "output_type": "stream",
     "text": [
      "<class 'pandas.core.frame.DataFrame'>\n",
      "RangeIndex: 260753 entries, 0 to 260752\n",
      "Columns: 299 entries, QuoteNumber to GeographicField64\n",
      "dtypes: float64(6), int64(265), object(28)\n",
      "memory usage: 594.8+ MB\n",
      "----------------------------\n",
      "<class 'pandas.core.frame.DataFrame'>\n",
      "RangeIndex: 173836 entries, 0 to 173835\n",
      "Columns: 298 entries, QuoteNumber to GeographicField64\n",
      "dtypes: float64(6), int64(264), object(28)\n",
      "memory usage: 395.2+ MB\n"
     ]
    }
   ],
   "source": [
    "homesite_df.info()\n",
    "print(\"---------------------------------------------------------------\")\n",
    "test_df.info()"
   ]
  },
  {
   "cell_type": "code",
   "execution_count": 4,
   "metadata": {},
   "outputs": [],
   "source": [
    "# drop unnecessary columns, these columns won't be useful in analysis and prediction\n",
    "homesite_df = homesite_df.drop(['QuoteNumber'], axis=1)"
   ]
  },
  {
   "cell_type": "code",
   "execution_count": 5,
   "metadata": {},
   "outputs": [],
   "source": [
    "# date\n",
    "\n",
    "# Convert Date to Year, Month, and Week\n",
    "homesite_df['Year']  = homesite_df['Original_Quote_Date'].apply(lambda x: int(str(x)[:4]))\n",
    "homesite_df['Month'] = homesite_df['Original_Quote_Date'].apply(lambda x: int(str(x)[5:7]))\n",
    "homesite_df['Week']  = homesite_df['Original_Quote_Date'].apply(lambda x: int(str(x)[8:10]))\n",
    "\n",
    "test_df['Year']  = test_df['Original_Quote_Date'].apply(lambda x: int(str(x)[:4]))\n",
    "test_df['Month'] = test_df['Original_Quote_Date'].apply(lambda x: int(str(x)[5:7]))\n",
    "test_df['Week']  = test_df['Original_Quote_Date'].apply(lambda x: int(str(x)[8:10]))\n",
    "\n",
    "homesite_df.drop(['Original_Quote_Date'], axis=1,inplace=True)\n",
    "test_df.drop(['Original_Quote_Date'], axis=1,inplace=True)"
   ]
  },
  {
   "cell_type": "code",
   "execution_count": 247,
   "metadata": {},
   "outputs": [
    {
     "data": {
      "text/plain": [
       "QuoteConversion_Flag    0\n",
       "Field6                  0\n",
       "Field7                  0\n",
       "Field8                  0\n",
       "Field9                  0\n",
       "Field10                 0\n",
       "Field11                 0\n",
       "Field12                 0\n",
       "CoverageField1A         0\n",
       "CoverageField1B         0\n",
       "CoverageField2A         0\n",
       "CoverageField2B         0\n",
       "CoverageField3A         0\n",
       "CoverageField3B         0\n",
       "CoverageField4A         0\n",
       "CoverageField4B         0\n",
       "CoverageField5A         0\n",
       "CoverageField5B         0\n",
       "CoverageField6A         0\n",
       "CoverageField6B         0\n",
       "CoverageField8          0\n",
       "CoverageField9          0\n",
       "CoverageField11A        0\n",
       "CoverageField11B        0\n",
       "SalesField1A            0\n",
       "SalesField1B            0\n",
       "SalesField2A            0\n",
       "SalesField2B            0\n",
       "SalesField3             0\n",
       "SalesField4             0\n",
       "                       ..\n",
       "GeographicField50B      0\n",
       "GeographicField51A      0\n",
       "GeographicField51B      0\n",
       "GeographicField52A      0\n",
       "GeographicField52B      0\n",
       "GeographicField53A      0\n",
       "GeographicField53B      0\n",
       "GeographicField54A      0\n",
       "GeographicField54B      0\n",
       "GeographicField55A      0\n",
       "GeographicField55B      0\n",
       "GeographicField56A      0\n",
       "GeographicField56B      0\n",
       "GeographicField57A      0\n",
       "GeographicField57B      0\n",
       "GeographicField58A      0\n",
       "GeographicField58B      0\n",
       "GeographicField59A      0\n",
       "GeographicField59B      0\n",
       "GeographicField60A      0\n",
       "GeographicField60B      0\n",
       "GeographicField61A      0\n",
       "GeographicField61B      0\n",
       "GeographicField62A      0\n",
       "GeographicField62B      0\n",
       "GeographicField63       0\n",
       "GeographicField64       0\n",
       "Year                    0\n",
       "Month                   0\n",
       "Week                    0\n",
       "Length: 300, dtype: int64"
      ]
     },
     "execution_count": 247,
     "metadata": {},
     "output_type": "execute_result"
    }
   ],
   "source": [
    "homesite_df.isnull().sum()"
   ]
  },
  {
   "cell_type": "code",
   "execution_count": 6,
   "metadata": {
    "scrolled": true
   },
   "outputs": [
    {
     "data": {
      "text/plain": [
       "<matplotlib.axes._subplots.AxesSubplot at 0x1746bfbf1d0>"
      ]
     },
     "execution_count": 6,
     "metadata": {},
     "output_type": "execute_result"
    },
    {
     "data": {
      "image/png": "[encoded data removed]",
      "text/plain": [
       "<Figure size 432x288 with 1 Axes>"
      ]
     },
     "metadata": {
      "needs_background": "light"
     },
     "output_type": "display_data"
    }
   ],
   "source": [
    "# customers purchased insurance plan\n",
    "# Plot\n",
    "sns.countplot(x=\"QuoteConversion_Flag\", data=homesite_df)"
   ]
  },
  {
   "cell_type": "code",
   "execution_count": 7,
   "metadata": {},
   "outputs": [
    {
     "data": {
      "text/plain": [
       "<matplotlib.axes._subplots.AxesSubplot at 0x1746b41ae10>"
      ]
     },
     "execution_count": 7,
     "metadata": {},
     "output_type": "execute_result"
    },
    {
     "data": {
      "image/png": "[encoded data removed]",
      "text/plain": [
       "<Figure size 1080x360 with 2 Axes>"
      ]
     },
     "metadata": {
      "needs_background": "light"
     },
     "output_type": "display_data"
    }
   ],
   "source": [
    "# year\n",
    "# Which year has higher number of customers purchased insurance plan\n",
    "\n",
    "# Plot\n",
    "fig, (axis1,axis2) = plt.subplots(1,2,figsize=(15,5))\n",
    "\n",
    "sns.countplot(x=\"QuoteConversion_Flag\",hue=\"Year\", data=homesite_df, ax=axis1)\n",
    "sns.countplot(x=homesite_df[\"Year\"].loc[homesite_df[\"QuoteConversion_Flag\"] == 1], \n",
    "              order=[2013,2014,2015], ax=axis2)"
   ]
  },
  {
   "cell_type": "code",
   "execution_count": 8,
   "metadata": {},
   "outputs": [
    {
     "data": {
      "text/plain": [
       "<matplotlib.axes._subplots.AxesSubplot at 0x1746b63e6d8>"
      ]
     },
     "execution_count": 8,
     "metadata": {},
     "output_type": "execute_result"
    },
    {
     "data": {
      "image/png": "[encoded data removed]",
      "text/plain": [
       "<Figure size 432x288 with 1 Axes>"
      ]
     },
     "metadata": {
      "needs_background": "light"
     },
     "output_type": "display_data"
    }
   ],
   "source": [
    "# month\n",
    "# Which month has higher number of customers purchased insurance plan\n",
    "\n",
    "# Plot\n",
    "sns.countplot(x=homesite_df[\"Month\"].loc[homesite_df[\"QuoteConversion_Flag\"] == 1], \n",
    "              order=[1,2,3,4,5,6,7,8,9,10,11,12])"
   ]
  },
  {
   "cell_type": "code",
   "execution_count": 9,
   "metadata": {},
   "outputs": [],
   "source": [
    "# fill NaN values\n",
    "homesite_df.fillna(-1, inplace=True)\n",
    "test_df.fillna(-1, inplace=True)"
   ]
  },
  {
   "cell_type": "code",
   "execution_count": 10,
   "metadata": {},
   "outputs": [],
   "source": [
    "# There are some columns with non-numerical values(i.e. dtype='object'),\n",
    "# So, We will create a corresponding unique numerical value for each non-numerical value in a column of training and testing set.\n",
    "\n",
    "from sklearn import preprocessing\n",
    "\n",
    "for f in homesite_df.columns:\n",
    "    if homesite_df[f].dtype=='object':\n",
    "        lbl = preprocessing.LabelEncoder()\n",
    "        lbl.fit(np.unique(list(homesite_df[f].values) + list(test_df[f].values)))\n",
    "        homesite_df[f] = lbl.transform(list(homesite_df[f].values))\n",
    "        test_df[f] = lbl.transform(list(test_df[f].values))"
   ]
  },
  {
   "cell_type": "markdown",
   "metadata": {},
   "source": [
    "### Plotting Correlation Matrix"
   ]
  },
  {
   "cell_type": "code",
   "execution_count": null,
   "metadata": {},
   "outputs": [],
   "source": [
    "X_train.corr()"
   ]
  },
  {
   "cell_type": "code",
   "execution_count": null,
   "metadata": {},
   "outputs": [],
   "source": [
    "counter=0\n",
    "plt_cnt=0\n",
    "for columns in X_train:\n",
    "    if counter == 0:\n",
    "        df_heat= pd.DataFrame(homesite_df[\"QuoteConversion_Flag\"])\n",
    "        plt_cnt=plt_cnt+1\n",
    "    if counter<30:\n",
    "        counter=counter+1\n",
    "        df_heat[columns]= + homesite_df[columns]\n",
    "    if counter==30:\n",
    "        print(\"Plot Number: \" , plt_cnt)\n",
    "        plt.figure(figsize=(20,12))\n",
    "        sns.heatmap(data=df_heat.iloc[:,:].corr(),annot=True,fmt='.2f',cmap='coolwarm')\n",
    "        plt.show()\n",
    "        counter=0\n",
    "        df_heat=df_heat.iloc[0:0]"
   ]
  },
  {
   "cell_type": "markdown",
   "metadata": {},
   "source": [
    "## Logistic Regression Model"
   ]
  },
  {
   "cell_type": "code",
   "execution_count": 11,
   "metadata": {},
   "outputs": [],
   "source": [
    "logReg = LogisticRegression(random_state=0)"
   ]
  },
  {
   "cell_type": "code",
   "execution_count": 12,
   "metadata": {},
   "outputs": [],
   "source": [
    "ylog= homesite_df[\"QuoteConversion_Flag\"]\n",
    "xlog = homesite_df.drop(\"QuoteConversion_Flag\",axis=1)\n",
    "\n",
    "# Xlog_test  = test_df.drop(\"QuoteNumber\",axis=1).copy()\n",
    "# Ylog_test  = test_df[\"QuoteConversion_Flag\"]"
   ]
  },
  {
   "cell_type": "code",
   "execution_count": 13,
   "metadata": {},
   "outputs": [],
   "source": [
    "Xlog_train, Xlog_test, ylog_train, ylog_test = train_test_split(xlog,ylog,test_size=0.1)"
   ]
  },
  {
   "cell_type": "code",
   "execution_count": 14,
   "metadata": {},
   "outputs": [
    {
     "name": "stdout",
     "output_type": "stream",
     "text": [
      "(234677, 299) (234677,)\n",
      "(26076, 299) (26076,)\n"
     ]
    }
   ],
   "source": [
    "print (Xlog_train.shape, ylog_train.shape)\n",
    "print (Xlog_test.shape, ylog_test.shape)"
   ]
  },
  {
   "cell_type": "code",
   "execution_count": 15,
   "metadata": {},
   "outputs": [
    {
     "name": "stdout",
     "output_type": "stream",
     "text": [
      "LogisticRegression(C=1.0, class_weight=None, dual=False, fit_intercept=True,\n",
      "          intercept_scaling=1, max_iter=100, multi_class='warn',\n",
      "          n_jobs=None, penalty='l2', random_state=0, solver='warn',\n",
      "          tol=0.0001, verbose=0, warm_start=False)\n"
     ]
    }
   ],
   "source": [
    "# Predicting the test set results and creating confusion matrix\n",
    "results_logistic = logReg.fit(Xlog_train, ylog_train)\n",
    "print (results_logistic)"
   ]
  },
  {
   "cell_type": "code",
   "execution_count": 16,
   "metadata": {},
   "outputs": [
    {
     "data": {
      "text/plain": [
       "array([0, 0, 0, ..., 0, 0, 0], dtype=int64)"
      ]
     },
     "execution_count": 16,
     "metadata": {},
     "output_type": "execute_result"
    }
   ],
   "source": [
    "ylog_pred = logReg.predict(Xlog_test)\n",
    "ylog_pred"
   ]
  },
  {
   "cell_type": "code",
   "execution_count": 17,
   "metadata": {},
   "outputs": [
    {
     "data": {
      "text/plain": [
       "array([0, 0, 0, ..., 0, 0, 0], dtype=int64)"
      ]
     },
     "execution_count": 17,
     "metadata": {},
     "output_type": "execute_result"
    }
   ],
   "source": [
    "np.array(ylog_test)"
   ]
  },
  {
   "cell_type": "code",
   "execution_count": 18,
   "metadata": {},
   "outputs": [
    {
     "name": "stdout",
     "output_type": "stream",
     "text": [
      "[[20470   732]\n",
      " [ 2612  2262]]\n"
     ]
    }
   ],
   "source": [
    "# Predicting the test set results and creating confusion matrix\n",
    "from sklearn.metrics import confusion_matrix\n",
    "confusion_matrix = confusion_matrix(ylog_test, ylog_pred)\n",
    "print(confusion_matrix)"
   ]
  },
  {
   "cell_type": "code",
   "execution_count": 19,
   "metadata": {},
   "outputs": [
    {
     "name": "stdout",
     "output_type": "stream",
     "text": [
      "Accuracy of logistic regression classifier on test set: 1.00\n"
     ]
    }
   ],
   "source": [
    "print('Accuracy of logistic regression classifier on test set: {:.2f}'.format(logReg.score(Xlog_test, ylog_pred)))"
   ]
  },
  {
   "cell_type": "code",
   "execution_count": 20,
   "metadata": {},
   "outputs": [
    {
     "name": "stdout",
     "output_type": "stream",
     "text": [
      "              precision    recall  f1-score   support\n",
      "\n",
      "           0       0.89      0.97      0.92     21202\n",
      "           1       0.76      0.46      0.57      4874\n",
      "\n",
      "   micro avg       0.87      0.87      0.87     26076\n",
      "   macro avg       0.82      0.71      0.75     26076\n",
      "weighted avg       0.86      0.87      0.86     26076\n",
      "\n"
     ]
    }
   ],
   "source": [
    "from sklearn.metrics import classification_report\n",
    "print(classification_report(ylog_test, ylog_pred))"
   ]
  },
  {
   "cell_type": "code",
   "execution_count": 21,
   "metadata": {},
   "outputs": [],
   "source": [
    "# summary_log = sm.Logit(ylog, xlog).fit()\n",
    "# summary_log.summary()"
   ]
  },
  {
   "cell_type": "code",
   "execution_count": 22,
   "metadata": {},
   "outputs": [
    {
     "data": {
      "text/plain": [
       "array([[0.73411732, 0.26588268],\n",
       "       [0.85758357, 0.14241643],\n",
       "       [0.98419029, 0.01580971],\n",
       "       ...,\n",
       "       [0.62861288, 0.37138712],\n",
       "       [0.99762758, 0.00237242],\n",
       "       [0.82273742, 0.17726258]])"
      ]
     },
     "execution_count": 22,
     "metadata": {},
     "output_type": "execute_result"
    }
   ],
   "source": [
    "logReg.predict_proba(Xlog_train)"
   ]
  },
  {
   "cell_type": "code",
   "execution_count": 23,
   "metadata": {},
   "outputs": [
    {
     "data": {
      "text/plain": [
       "array([[0.72227694, 0.27772306],\n",
       "       [0.91428507, 0.08571493],\n",
       "       [0.96955784, 0.03044216],\n",
       "       ...,\n",
       "       [0.84080814, 0.15919186],\n",
       "       [0.99297845, 0.00702155],\n",
       "       [0.72322322, 0.27677678]])"
      ]
     },
     "execution_count": 23,
     "metadata": {},
     "output_type": "execute_result"
    }
   ],
   "source": [
    "logReg.predict_proba(Xlog_test)"
   ]
  },
  {
   "cell_type": "code",
   "execution_count": 24,
   "metadata": {},
   "outputs": [
    {
     "data": {
      "image/png": "[encoded data removed]",
      "text/plain": [
       "<Figure size 432x288 with 1 Axes>"
      ]
     },
     "metadata": {
      "needs_background": "light"
     },
     "output_type": "display_data"
    }
   ],
   "source": [
    "from sklearn.metrics import roc_auc_score\n",
    "from sklearn.metrics import roc_curve\n",
    "logit_roc_auc = roc_auc_score(ylog_test, logReg.predict(Xlog_test))\n",
    "fpr, tpr, thresholds = roc_curve(ylog_test, logReg.predict_proba(Xlog_test)[:,1])\n",
    "plt.figure()\n",
    "plt.plot(fpr, tpr, label='Logistic Regression (area = %0.2f)' % logit_roc_auc)\n",
    "plt.plot([0, 1], [0, 1],'r--')\n",
    "plt.xlim([0.0, 1.0])\n",
    "plt.ylim([0.0, 1.05])\n",
    "plt.xlabel('False Positive Rate')\n",
    "plt.ylabel('True Positive Rate')\n",
    "plt.title('Receiver operating characteristic')\n",
    "plt.legend(loc=\"lower right\")\n",
    "plt.savefig('Log_ROC')\n",
    "plt.show()"
   ]
  },
  {
   "cell_type": "markdown",
   "metadata": {},
   "source": [
    "## XGBoost Model"
   ]
  },
  {
   "cell_type": "markdown",
   "metadata": {},
   "source": [
    "### XGB - Model 1"
   ]
  },
  {
   "cell_type": "code",
   "execution_count": 25,
   "metadata": {},
   "outputs": [],
   "source": [
    "# define training and testing sets\n",
    "\n",
    "X_train = homesite_df.drop(\"QuoteConversion_Flag\",axis=1)\n",
    "Y_train = homesite_df[\"QuoteConversion_Flag\"]\n",
    "X_test  = test_df.drop(\"QuoteNumber\",axis=1).copy()"
   ]
  },
  {
   "cell_type": "code",
   "execution_count": 26,
   "metadata": {},
   "outputs": [],
   "source": [
    "# Xgboost \n",
    "\n",
    "params = {\"objective\": \"binary:logistic\"}\n",
    "\n",
    "T_train_xgb = xgb.DMatrix(X_train, Y_train)\n",
    "X_test_xgb  = xgb.DMatrix(X_test)"
   ]
  },
  {
   "cell_type": "code",
   "execution_count": 27,
   "metadata": {},
   "outputs": [],
   "source": [
    "Xgbm = xgb.train(params, T_train_xgb, 50)"
   ]
  },
  {
   "cell_type": "code",
   "execution_count": 28,
   "metadata": {},
   "outputs": [],
   "source": [
    "Y_pred = Xgbm.predict(X_test_xgb)"
   ]
  },
  {
   "cell_type": "code",
   "execution_count": 187,
   "metadata": {},
   "outputs": [
    {
     "data": {
      "text/plain": [
       "(173836,)"
      ]
     },
     "execution_count": 187,
     "metadata": {},
     "output_type": "execute_result"
    }
   ],
   "source": [
    "Y_pred.shape"
   ]
  },
  {
   "cell_type": "code",
   "execution_count": 30,
   "metadata": {},
   "outputs": [],
   "source": [
    "df1=pd.DataFrame([test_df.QuoteNumber,np.array(Y_pred)])"
   ]
  },
  {
   "cell_type": "code",
   "execution_count": 31,
   "metadata": {
    "scrolled": true
   },
   "outputs": [
    {
     "data": {
      "text/html": [
       "<div>\n",
       "<style scoped>\n",
       "    .dataframe tbody tr th:only-of-type {\n",
       "        vertical-align: middle;\n",
       "    }\n",
       "\n",
       "    .dataframe tbody tr th {\n",
       "        vertical-align: top;\n",
       "    }\n",
       "\n",
       "    .dataframe thead th {\n",
       "        text-align: right;\n",
       "    }\n",
       "</style>\n",
       "<table border=\"1\" class=\"dataframe\">\n",
       "  <thead>\n",
       "    <tr style=\"text-align: right;\">\n",
       "      <th></th>\n",
       "      <th>0</th>\n",
       "      <th>1</th>\n",
       "      <th>2</th>\n",
       "      <th>3</th>\n",
       "      <th>4</th>\n",
       "      <th>5</th>\n",
       "      <th>6</th>\n",
       "      <th>7</th>\n",
       "      <th>8</th>\n",
       "      <th>9</th>\n",
       "      <th>...</th>\n",
       "      <th>173826</th>\n",
       "      <th>173827</th>\n",
       "      <th>173828</th>\n",
       "      <th>173829</th>\n",
       "      <th>173830</th>\n",
       "      <th>173831</th>\n",
       "      <th>173832</th>\n",
       "      <th>173833</th>\n",
       "      <th>173834</th>\n",
       "      <th>173835</th>\n",
       "    </tr>\n",
       "  </thead>\n",
       "  <tbody>\n",
       "    <tr>\n",
       "      <th>QuoteNumber</th>\n",
       "      <td>3.000000</td>\n",
       "      <td>5.000000</td>\n",
       "      <td>7.000000</td>\n",
       "      <td>9.000000</td>\n",
       "      <td>10.000000</td>\n",
       "      <td>11.00000</td>\n",
       "      <td>15.000000</td>\n",
       "      <td>16.000000</td>\n",
       "      <td>17.000000</td>\n",
       "      <td>21.000000</td>\n",
       "      <td>...</td>\n",
       "      <td>434554.000000</td>\n",
       "      <td>434558.000000</td>\n",
       "      <td>434560.000000</td>\n",
       "      <td>434563.000000</td>\n",
       "      <td>434565.000000</td>\n",
       "      <td>434570.000000</td>\n",
       "      <td>434573.000000</td>\n",
       "      <td>434574.000000</td>\n",
       "      <td>434575.000000</td>\n",
       "      <td>434589.00000</td>\n",
       "    </tr>\n",
       "    <tr>\n",
       "      <th>Unnamed 0</th>\n",
       "      <td>0.000954</td>\n",
       "      <td>0.043804</td>\n",
       "      <td>0.028649</td>\n",
       "      <td>0.011978</td>\n",
       "      <td>0.172735</td>\n",
       "      <td>0.02068</td>\n",
       "      <td>0.000309</td>\n",
       "      <td>0.030525</td>\n",
       "      <td>0.000091</td>\n",
       "      <td>0.000091</td>\n",
       "      <td>...</td>\n",
       "      <td>0.048629</td>\n",
       "      <td>0.000295</td>\n",
       "      <td>0.000112</td>\n",
       "      <td>0.997603</td>\n",
       "      <td>0.269796</td>\n",
       "      <td>0.179163</td>\n",
       "      <td>0.219987</td>\n",
       "      <td>0.998138</td>\n",
       "      <td>0.000472</td>\n",
       "      <td>0.20232</td>\n",
       "    </tr>\n",
       "  </tbody>\n",
       "</table>\n",
       "<p>2 rows × 173836 columns</p>\n",
       "</div>"
      ],
      "text/plain": [
       "               0         1         2         3          4         5       \\\n",
       "QuoteNumber  3.000000  5.000000  7.000000  9.000000  10.000000  11.00000   \n",
       "Unnamed 0    0.000954  0.043804  0.028649  0.011978   0.172735   0.02068   \n",
       "\n",
       "                6          7          8          9           ...       \\\n",
       "QuoteNumber  15.000000  16.000000  17.000000  21.000000      ...        \n",
       "Unnamed 0     0.000309   0.030525   0.000091   0.000091      ...        \n",
       "\n",
       "                    173826         173827         173828         173829  \\\n",
       "QuoteNumber  434554.000000  434558.000000  434560.000000  434563.000000   \n",
       "Unnamed 0         0.048629       0.000295       0.000112       0.997603   \n",
       "\n",
       "                    173830         173831         173832         173833  \\\n",
       "QuoteNumber  434565.000000  434570.000000  434573.000000  434574.000000   \n",
       "Unnamed 0         0.269796       0.179163       0.219987       0.998138   \n",
       "\n",
       "                    173834        173835  \n",
       "QuoteNumber  434575.000000  434589.00000  \n",
       "Unnamed 0         0.000472       0.20232  \n",
       "\n",
       "[2 rows x 173836 columns]"
      ]
     },
     "execution_count": 31,
     "metadata": {},
     "output_type": "execute_result"
    }
   ],
   "source": [
    "df1"
   ]
  },
  {
   "cell_type": "code",
   "execution_count": 32,
   "metadata": {},
   "outputs": [],
   "source": [
    "# df_output=df1.T\n",
    "# df_output.to_csv(r'C://Users//kaila//OneDrive//Desktop//DSMT//XGBoostTest5.csv')"
   ]
  },
  {
   "cell_type": "code",
   "execution_count": 33,
   "metadata": {},
   "outputs": [],
   "source": [
    "sub = pd.DataFrame(columns=['QuoteNumber','QuoteConversion_Flag'])\n",
    "sub['QuoteNumber'] = test_df.QuoteNumber\n",
    "sub['QuoteConversion_Flag'] = Y_pred"
   ]
  },
  {
   "cell_type": "code",
   "execution_count": 34,
   "metadata": {},
   "outputs": [
    {
     "name": "stdout",
     "output_type": "stream",
     "text": [
      "Saved file: PredictionsL8_round.csv\n"
     ]
    }
   ],
   "source": [
    "subfile = 'PredictionsL8_round.csv'\n",
    "sub.to_csv(subfile,index=False)\n",
    "print('Saved file: ' + subfile)"
   ]
  },
  {
   "cell_type": "markdown",
   "metadata": {},
   "source": [
    "### XGB - Model 2"
   ]
  },
  {
   "cell_type": "code",
   "execution_count": 35,
   "metadata": {},
   "outputs": [],
   "source": [
    "X_train = homesite_df\n",
    "Y_train = homesite_df[\"QuoteConversion_Flag\"]\n",
    "X_test  = test_df.drop(\"QuoteNumber\",axis=1).copy()\n",
    "# Y_test  = test_df[\"QuoteNumber\"]\n",
    "\n",
    "target='QuoteConversion_Flag'"
   ]
  },
  {
   "cell_type": "code",
   "execution_count": 37,
   "metadata": {},
   "outputs": [],
   "source": [
    "def modelfit(alg, dtrain, predictors, useTrainCV=True, cv_folds=5, early_stopping_rounds=50):    \n",
    "    if useTrainCV:\n",
    "        xgb_param = alg.get_xgb_params()\n",
    "        xgtrain = xgb.DMatrix(dtrain[predictors].values, label=dtrain[target].values)\n",
    "        cvresult = xgb.cv(xgb_param, xgtrain, num_boost_round=alg.get_params()['n_estimators'], nfold=cv_folds,\n",
    "            metrics='auc', early_stopping_rounds=early_stopping_rounds, show_stdv=False)\n",
    "        alg.set_params(n_estimators=cvresult.shape[0])\n",
    "            \n",
    "    #Fit the algorithm on the data\n",
    "    alg.fit(dtrain[predictors], dtrain['QuoteConversion_Flag'],eval_metric='auc')\n",
    "        \n",
    "    #Predict training set:\n",
    "    dtrain_predictions = alg.predict(dtrain[predictors])\n",
    "    dtrain_predprob = alg.predict_proba(dtrain[predictors])[:,1]\n",
    "        \n",
    "    #Print model report:\n",
    "    print (\"\\nModel Report\")\n",
    "    print (\"Accuracy : %.4g\" % metrics.accuracy_score(dtrain['QuoteConversion_Flag'].values, dtrain_predictions))\n",
    "    print (\"AUC Score (Train): %f\" % metrics.roc_auc_score(dtrain['QuoteConversion_Flag'], dtrain_predprob))\n",
    "\n",
    "    feat_imp = pd.Series(alg.get_booster().get_fscore()).sort_values(ascending=False)\n",
    "    feat_imp.plot(kind='bar', title='Feature Importances',figsize=(20,12))\n",
    "    plt.ylabel('Feature Importance Score')\n",
    "        \n",
    "    return dtrain_predictions,dtrain_predictions, cvresult, feat_imp"
   ]
  },
  {
   "cell_type": "code",
   "execution_count": 38,
   "metadata": {},
   "outputs": [
    {
     "name": "stdout",
     "output_type": "stream",
     "text": [
      "\n",
      "Model Report\n",
      "Accuracy : 0.9395\n",
      "AUC Score (Train): 0.977199\n"
     ]
    },
    {
     "data": {
      "image/png": "[encoded data removed]",
      "text/plain": [
       "<Figure size 1440x864 with 1 Axes>"
      ]
     },
     "metadata": {
      "needs_background": "light"
     },
     "output_type": "display_data"
    }
   ],
   "source": [
    "predictors = [x for x in X_train.columns if x not in [target]]\n",
    "\n",
    "xgb1 = XGBClassifier(\n",
    " max_depth=8,\n",
    " learning_rate =0.1,\n",
    " n_estimators=500,\n",
    " objective= 'binary:logistic',\n",
    " min_child_weight=1,\n",
    " gamma=10,\n",
    " subsample=0.8,\n",
    " colsample_bytree=0.8,\n",
    " nthread=11,\n",
    " scale_pos_weight=1,\n",
    "# reg_alpha=L1,\n",
    " seed=27)\n",
    "\n",
    "train_pred, train_prob, cvresult, feat_imp = modelfit(xgb1, X_train, predictors)"
   ]
  },
  {
   "cell_type": "code",
   "execution_count": 39,
   "metadata": {
    "scrolled": true
   },
   "outputs": [
    {
     "data": {
      "text/plain": [
       "array([0, 0, 0, ..., 0, 0, 0], dtype=int64)"
      ]
     },
     "execution_count": 39,
     "metadata": {},
     "output_type": "execute_result"
    }
   ],
   "source": [
    "train_pred"
   ]
  },
  {
   "cell_type": "code",
   "execution_count": 40,
   "metadata": {
    "scrolled": true
   },
   "outputs": [
    {
     "data": {
      "text/plain": [
       "array([0, 0, 0, ..., 0, 0, 0], dtype=int64)"
      ]
     },
     "execution_count": 40,
     "metadata": {},
     "output_type": "execute_result"
    }
   ],
   "source": [
    "train_prob"
   ]
  },
  {
   "cell_type": "code",
   "execution_count": 41,
   "metadata": {},
   "outputs": [
    {
     "data": {
      "text/html": [
       "<div>\n",
       "<style scoped>\n",
       "    .dataframe tbody tr th:only-of-type {\n",
       "        vertical-align: middle;\n",
       "    }\n",
       "\n",
       "    .dataframe tbody tr th {\n",
       "        vertical-align: top;\n",
       "    }\n",
       "\n",
       "    .dataframe thead th {\n",
       "        text-align: right;\n",
       "    }\n",
       "</style>\n",
       "<table border=\"1\" class=\"dataframe\">\n",
       "  <thead>\n",
       "    <tr style=\"text-align: right;\">\n",
       "      <th></th>\n",
       "      <th>train-auc-mean</th>\n",
       "      <th>train-auc-std</th>\n",
       "      <th>test-auc-mean</th>\n",
       "      <th>test-auc-std</th>\n",
       "    </tr>\n",
       "  </thead>\n",
       "  <tbody>\n",
       "    <tr>\n",
       "      <th>0</th>\n",
       "      <td>0.920473</td>\n",
       "      <td>0.006674</td>\n",
       "      <td>0.920538</td>\n",
       "      <td>0.006222</td>\n",
       "    </tr>\n",
       "    <tr>\n",
       "      <th>1</th>\n",
       "      <td>0.929447</td>\n",
       "      <td>0.003903</td>\n",
       "      <td>0.929124</td>\n",
       "      <td>0.004887</td>\n",
       "    </tr>\n",
       "    <tr>\n",
       "      <th>2</th>\n",
       "      <td>0.935040</td>\n",
       "      <td>0.002564</td>\n",
       "      <td>0.934812</td>\n",
       "      <td>0.003584</td>\n",
       "    </tr>\n",
       "    <tr>\n",
       "      <th>3</th>\n",
       "      <td>0.937968</td>\n",
       "      <td>0.001744</td>\n",
       "      <td>0.937540</td>\n",
       "      <td>0.002852</td>\n",
       "    </tr>\n",
       "    <tr>\n",
       "      <th>4</th>\n",
       "      <td>0.940198</td>\n",
       "      <td>0.001308</td>\n",
       "      <td>0.939831</td>\n",
       "      <td>0.002158</td>\n",
       "    </tr>\n",
       "    <tr>\n",
       "      <th>5</th>\n",
       "      <td>0.940572</td>\n",
       "      <td>0.001433</td>\n",
       "      <td>0.940249</td>\n",
       "      <td>0.001929</td>\n",
       "    </tr>\n",
       "    <tr>\n",
       "      <th>6</th>\n",
       "      <td>0.942024</td>\n",
       "      <td>0.001156</td>\n",
       "      <td>0.941812</td>\n",
       "      <td>0.001553</td>\n",
       "    </tr>\n",
       "    <tr>\n",
       "      <th>7</th>\n",
       "      <td>0.942816</td>\n",
       "      <td>0.001320</td>\n",
       "      <td>0.942682</td>\n",
       "      <td>0.001979</td>\n",
       "    </tr>\n",
       "    <tr>\n",
       "      <th>8</th>\n",
       "      <td>0.943780</td>\n",
       "      <td>0.001198</td>\n",
       "      <td>0.943572</td>\n",
       "      <td>0.001637</td>\n",
       "    </tr>\n",
       "    <tr>\n",
       "      <th>9</th>\n",
       "      <td>0.944717</td>\n",
       "      <td>0.000902</td>\n",
       "      <td>0.944471</td>\n",
       "      <td>0.001525</td>\n",
       "    </tr>\n",
       "    <tr>\n",
       "      <th>10</th>\n",
       "      <td>0.945520</td>\n",
       "      <td>0.000548</td>\n",
       "      <td>0.945188</td>\n",
       "      <td>0.001107</td>\n",
       "    </tr>\n",
       "    <tr>\n",
       "      <th>11</th>\n",
       "      <td>0.946228</td>\n",
       "      <td>0.000821</td>\n",
       "      <td>0.946013</td>\n",
       "      <td>0.000986</td>\n",
       "    </tr>\n",
       "    <tr>\n",
       "      <th>12</th>\n",
       "      <td>0.946572</td>\n",
       "      <td>0.001087</td>\n",
       "      <td>0.946383</td>\n",
       "      <td>0.001268</td>\n",
       "    </tr>\n",
       "    <tr>\n",
       "      <th>13</th>\n",
       "      <td>0.947127</td>\n",
       "      <td>0.000911</td>\n",
       "      <td>0.946889</td>\n",
       "      <td>0.001148</td>\n",
       "    </tr>\n",
       "    <tr>\n",
       "      <th>14</th>\n",
       "      <td>0.947724</td>\n",
       "      <td>0.000832</td>\n",
       "      <td>0.947456</td>\n",
       "      <td>0.001294</td>\n",
       "    </tr>\n",
       "    <tr>\n",
       "      <th>15</th>\n",
       "      <td>0.948259</td>\n",
       "      <td>0.000878</td>\n",
       "      <td>0.947974</td>\n",
       "      <td>0.001430</td>\n",
       "    </tr>\n",
       "    <tr>\n",
       "      <th>16</th>\n",
       "      <td>0.948713</td>\n",
       "      <td>0.001098</td>\n",
       "      <td>0.948419</td>\n",
       "      <td>0.001337</td>\n",
       "    </tr>\n",
       "    <tr>\n",
       "      <th>17</th>\n",
       "      <td>0.949248</td>\n",
       "      <td>0.000989</td>\n",
       "      <td>0.948887</td>\n",
       "      <td>0.001303</td>\n",
       "    </tr>\n",
       "    <tr>\n",
       "      <th>18</th>\n",
       "      <td>0.949601</td>\n",
       "      <td>0.000860</td>\n",
       "      <td>0.949238</td>\n",
       "      <td>0.001257</td>\n",
       "    </tr>\n",
       "    <tr>\n",
       "      <th>19</th>\n",
       "      <td>0.949969</td>\n",
       "      <td>0.000671</td>\n",
       "      <td>0.949632</td>\n",
       "      <td>0.001310</td>\n",
       "    </tr>\n",
       "    <tr>\n",
       "      <th>20</th>\n",
       "      <td>0.950269</td>\n",
       "      <td>0.000660</td>\n",
       "      <td>0.949969</td>\n",
       "      <td>0.001141</td>\n",
       "    </tr>\n",
       "    <tr>\n",
       "      <th>21</th>\n",
       "      <td>0.950697</td>\n",
       "      <td>0.000618</td>\n",
       "      <td>0.950384</td>\n",
       "      <td>0.001030</td>\n",
       "    </tr>\n",
       "    <tr>\n",
       "      <th>22</th>\n",
       "      <td>0.951078</td>\n",
       "      <td>0.000476</td>\n",
       "      <td>0.950781</td>\n",
       "      <td>0.000945</td>\n",
       "    </tr>\n",
       "    <tr>\n",
       "      <th>23</th>\n",
       "      <td>0.951535</td>\n",
       "      <td>0.000582</td>\n",
       "      <td>0.951221</td>\n",
       "      <td>0.001128</td>\n",
       "    </tr>\n",
       "    <tr>\n",
       "      <th>24</th>\n",
       "      <td>0.952113</td>\n",
       "      <td>0.000543</td>\n",
       "      <td>0.951811</td>\n",
       "      <td>0.001158</td>\n",
       "    </tr>\n",
       "    <tr>\n",
       "      <th>25</th>\n",
       "      <td>0.952490</td>\n",
       "      <td>0.000499</td>\n",
       "      <td>0.952166</td>\n",
       "      <td>0.001147</td>\n",
       "    </tr>\n",
       "    <tr>\n",
       "      <th>26</th>\n",
       "      <td>0.952969</td>\n",
       "      <td>0.000474</td>\n",
       "      <td>0.952620</td>\n",
       "      <td>0.001130</td>\n",
       "    </tr>\n",
       "    <tr>\n",
       "      <th>27</th>\n",
       "      <td>0.953256</td>\n",
       "      <td>0.000444</td>\n",
       "      <td>0.952901</td>\n",
       "      <td>0.001106</td>\n",
       "    </tr>\n",
       "    <tr>\n",
       "      <th>28</th>\n",
       "      <td>0.953581</td>\n",
       "      <td>0.000362</td>\n",
       "      <td>0.953201</td>\n",
       "      <td>0.001128</td>\n",
       "    </tr>\n",
       "    <tr>\n",
       "      <th>29</th>\n",
       "      <td>0.953922</td>\n",
       "      <td>0.000398</td>\n",
       "      <td>0.953541</td>\n",
       "      <td>0.001094</td>\n",
       "    </tr>\n",
       "    <tr>\n",
       "      <th>...</th>\n",
       "      <td>...</td>\n",
       "      <td>...</td>\n",
       "      <td>...</td>\n",
       "      <td>...</td>\n",
       "    </tr>\n",
       "    <tr>\n",
       "      <th>457</th>\n",
       "      <td>0.977472</td>\n",
       "      <td>0.000070</td>\n",
       "      <td>0.966193</td>\n",
       "      <td>0.000707</td>\n",
       "    </tr>\n",
       "    <tr>\n",
       "      <th>458</th>\n",
       "      <td>0.977494</td>\n",
       "      <td>0.000064</td>\n",
       "      <td>0.966202</td>\n",
       "      <td>0.000706</td>\n",
       "    </tr>\n",
       "    <tr>\n",
       "      <th>459</th>\n",
       "      <td>0.977513</td>\n",
       "      <td>0.000063</td>\n",
       "      <td>0.966204</td>\n",
       "      <td>0.000703</td>\n",
       "    </tr>\n",
       "    <tr>\n",
       "      <th>460</th>\n",
       "      <td>0.977535</td>\n",
       "      <td>0.000062</td>\n",
       "      <td>0.966207</td>\n",
       "      <td>0.000706</td>\n",
       "    </tr>\n",
       "    <tr>\n",
       "      <th>461</th>\n",
       "      <td>0.977551</td>\n",
       "      <td>0.000065</td>\n",
       "      <td>0.966207</td>\n",
       "      <td>0.000702</td>\n",
       "    </tr>\n",
       "    <tr>\n",
       "      <th>462</th>\n",
       "      <td>0.977573</td>\n",
       "      <td>0.000068</td>\n",
       "      <td>0.966206</td>\n",
       "      <td>0.000704</td>\n",
       "    </tr>\n",
       "    <tr>\n",
       "      <th>463</th>\n",
       "      <td>0.977598</td>\n",
       "      <td>0.000065</td>\n",
       "      <td>0.966213</td>\n",
       "      <td>0.000703</td>\n",
       "    </tr>\n",
       "    <tr>\n",
       "      <th>464</th>\n",
       "      <td>0.977619</td>\n",
       "      <td>0.000065</td>\n",
       "      <td>0.966210</td>\n",
       "      <td>0.000707</td>\n",
       "    </tr>\n",
       "    <tr>\n",
       "      <th>465</th>\n",
       "      <td>0.977638</td>\n",
       "      <td>0.000059</td>\n",
       "      <td>0.966209</td>\n",
       "      <td>0.000703</td>\n",
       "    </tr>\n",
       "    <tr>\n",
       "      <th>466</th>\n",
       "      <td>0.977655</td>\n",
       "      <td>0.000058</td>\n",
       "      <td>0.966205</td>\n",
       "      <td>0.000703</td>\n",
       "    </tr>\n",
       "    <tr>\n",
       "      <th>467</th>\n",
       "      <td>0.977678</td>\n",
       "      <td>0.000054</td>\n",
       "      <td>0.966208</td>\n",
       "      <td>0.000703</td>\n",
       "    </tr>\n",
       "    <tr>\n",
       "      <th>468</th>\n",
       "      <td>0.977693</td>\n",
       "      <td>0.000057</td>\n",
       "      <td>0.966210</td>\n",
       "      <td>0.000701</td>\n",
       "    </tr>\n",
       "    <tr>\n",
       "      <th>469</th>\n",
       "      <td>0.977714</td>\n",
       "      <td>0.000052</td>\n",
       "      <td>0.966209</td>\n",
       "      <td>0.000708</td>\n",
       "    </tr>\n",
       "    <tr>\n",
       "      <th>470</th>\n",
       "      <td>0.977736</td>\n",
       "      <td>0.000054</td>\n",
       "      <td>0.966208</td>\n",
       "      <td>0.000707</td>\n",
       "    </tr>\n",
       "    <tr>\n",
       "      <th>471</th>\n",
       "      <td>0.977755</td>\n",
       "      <td>0.000051</td>\n",
       "      <td>0.966209</td>\n",
       "      <td>0.000711</td>\n",
       "    </tr>\n",
       "    <tr>\n",
       "      <th>472</th>\n",
       "      <td>0.977775</td>\n",
       "      <td>0.000056</td>\n",
       "      <td>0.966209</td>\n",
       "      <td>0.000707</td>\n",
       "    </tr>\n",
       "    <tr>\n",
       "      <th>473</th>\n",
       "      <td>0.977793</td>\n",
       "      <td>0.000053</td>\n",
       "      <td>0.966215</td>\n",
       "      <td>0.000705</td>\n",
       "    </tr>\n",
       "    <tr>\n",
       "      <th>474</th>\n",
       "      <td>0.977814</td>\n",
       "      <td>0.000053</td>\n",
       "      <td>0.966214</td>\n",
       "      <td>0.000704</td>\n",
       "    </tr>\n",
       "    <tr>\n",
       "      <th>475</th>\n",
       "      <td>0.977831</td>\n",
       "      <td>0.000052</td>\n",
       "      <td>0.966218</td>\n",
       "      <td>0.000707</td>\n",
       "    </tr>\n",
       "    <tr>\n",
       "      <th>476</th>\n",
       "      <td>0.977856</td>\n",
       "      <td>0.000053</td>\n",
       "      <td>0.966217</td>\n",
       "      <td>0.000705</td>\n",
       "    </tr>\n",
       "    <tr>\n",
       "      <th>477</th>\n",
       "      <td>0.977877</td>\n",
       "      <td>0.000053</td>\n",
       "      <td>0.966221</td>\n",
       "      <td>0.000702</td>\n",
       "    </tr>\n",
       "    <tr>\n",
       "      <th>478</th>\n",
       "      <td>0.977892</td>\n",
       "      <td>0.000056</td>\n",
       "      <td>0.966222</td>\n",
       "      <td>0.000703</td>\n",
       "    </tr>\n",
       "    <tr>\n",
       "      <th>479</th>\n",
       "      <td>0.977914</td>\n",
       "      <td>0.000055</td>\n",
       "      <td>0.966224</td>\n",
       "      <td>0.000702</td>\n",
       "    </tr>\n",
       "    <tr>\n",
       "      <th>480</th>\n",
       "      <td>0.977936</td>\n",
       "      <td>0.000054</td>\n",
       "      <td>0.966225</td>\n",
       "      <td>0.000699</td>\n",
       "    </tr>\n",
       "    <tr>\n",
       "      <th>481</th>\n",
       "      <td>0.977954</td>\n",
       "      <td>0.000053</td>\n",
       "      <td>0.966228</td>\n",
       "      <td>0.000698</td>\n",
       "    </tr>\n",
       "    <tr>\n",
       "      <th>482</th>\n",
       "      <td>0.977975</td>\n",
       "      <td>0.000057</td>\n",
       "      <td>0.966222</td>\n",
       "      <td>0.000702</td>\n",
       "    </tr>\n",
       "    <tr>\n",
       "      <th>483</th>\n",
       "      <td>0.977995</td>\n",
       "      <td>0.000054</td>\n",
       "      <td>0.966223</td>\n",
       "      <td>0.000702</td>\n",
       "    </tr>\n",
       "    <tr>\n",
       "      <th>484</th>\n",
       "      <td>0.978015</td>\n",
       "      <td>0.000053</td>\n",
       "      <td>0.966227</td>\n",
       "      <td>0.000695</td>\n",
       "    </tr>\n",
       "    <tr>\n",
       "      <th>485</th>\n",
       "      <td>0.978036</td>\n",
       "      <td>0.000048</td>\n",
       "      <td>0.966227</td>\n",
       "      <td>0.000699</td>\n",
       "    </tr>\n",
       "    <tr>\n",
       "      <th>486</th>\n",
       "      <td>0.978055</td>\n",
       "      <td>0.000048</td>\n",
       "      <td>0.966230</td>\n",
       "      <td>0.000697</td>\n",
       "    </tr>\n",
       "  </tbody>\n",
       "</table>\n",
       "<p>487 rows × 4 columns</p>\n",
       "</div>"
      ],
      "text/plain": [
       "     train-auc-mean  train-auc-std  test-auc-mean  test-auc-std\n",
       "0          0.920473       0.006674       0.920538      0.006222\n",
       "1          0.929447       0.003903       0.929124      0.004887\n",
       "2          0.935040       0.002564       0.934812      0.003584\n",
       "3          0.937968       0.001744       0.937540      0.002852\n",
       "4          0.940198       0.001308       0.939831      0.002158\n",
       "5          0.940572       0.001433       0.940249      0.001929\n",
       "6          0.942024       0.001156       0.941812      0.001553\n",
       "7          0.942816       0.001320       0.942682      0.001979\n",
       "8          0.943780       0.001198       0.943572      0.001637\n",
       "9          0.944717       0.000902       0.944471      0.001525\n",
       "10         0.945520       0.000548       0.945188      0.001107\n",
       "11         0.946228       0.000821       0.946013      0.000986\n",
       "12         0.946572       0.001087       0.946383      0.001268\n",
       "13         0.947127       0.000911       0.946889      0.001148\n",
       "14         0.947724       0.000832       0.947456      0.001294\n",
       "15         0.948259       0.000878       0.947974      0.001430\n",
       "16         0.948713       0.001098       0.948419      0.001337\n",
       "17         0.949248       0.000989       0.948887      0.001303\n",
       "18         0.949601       0.000860       0.949238      0.001257\n",
       "19         0.949969       0.000671       0.949632      0.001310\n",
       "20         0.950269       0.000660       0.949969      0.001141\n",
       "21         0.950697       0.000618       0.950384      0.001030\n",
       "22         0.951078       0.000476       0.950781      0.000945\n",
       "23         0.951535       0.000582       0.951221      0.001128\n",
       "24         0.952113       0.000543       0.951811      0.001158\n",
       "25         0.952490       0.000499       0.952166      0.001147\n",
       "26         0.952969       0.000474       0.952620      0.001130\n",
       "27         0.953256       0.000444       0.952901      0.001106\n",
       "28         0.953581       0.000362       0.953201      0.001128\n",
       "29         0.953922       0.000398       0.953541      0.001094\n",
       "..              ...            ...            ...           ...\n",
       "457        0.977472       0.000070       0.966193      0.000707\n",
       "458        0.977494       0.000064       0.966202      0.000706\n",
       "459        0.977513       0.000063       0.966204      0.000703\n",
       "460        0.977535       0.000062       0.966207      0.000706\n",
       "461        0.977551       0.000065       0.966207      0.000702\n",
       "462        0.977573       0.000068       0.966206      0.000704\n",
       "463        0.977598       0.000065       0.966213      0.000703\n",
       "464        0.977619       0.000065       0.966210      0.000707\n",
       "465        0.977638       0.000059       0.966209      0.000703\n",
       "466        0.977655       0.000058       0.966205      0.000703\n",
       "467        0.977678       0.000054       0.966208      0.000703\n",
       "468        0.977693       0.000057       0.966210      0.000701\n",
       "469        0.977714       0.000052       0.966209      0.000708\n",
       "470        0.977736       0.000054       0.966208      0.000707\n",
       "471        0.977755       0.000051       0.966209      0.000711\n",
       "472        0.977775       0.000056       0.966209      0.000707\n",
       "473        0.977793       0.000053       0.966215      0.000705\n",
       "474        0.977814       0.000053       0.966214      0.000704\n",
       "475        0.977831       0.000052       0.966218      0.000707\n",
       "476        0.977856       0.000053       0.966217      0.000705\n",
       "477        0.977877       0.000053       0.966221      0.000702\n",
       "478        0.977892       0.000056       0.966222      0.000703\n",
       "479        0.977914       0.000055       0.966224      0.000702\n",
       "480        0.977936       0.000054       0.966225      0.000699\n",
       "481        0.977954       0.000053       0.966228      0.000698\n",
       "482        0.977975       0.000057       0.966222      0.000702\n",
       "483        0.977995       0.000054       0.966223      0.000702\n",
       "484        0.978015       0.000053       0.966227      0.000695\n",
       "485        0.978036       0.000048       0.966227      0.000699\n",
       "486        0.978055       0.000048       0.966230      0.000697\n",
       "\n",
       "[487 rows x 4 columns]"
      ]
     },
     "execution_count": 41,
     "metadata": {},
     "output_type": "execute_result"
    }
   ],
   "source": [
    "cvresult"
   ]
  },
  {
   "cell_type": "code",
   "execution_count": 42,
   "metadata": {},
   "outputs": [
    {
     "data": {
      "text/plain": [
       "PersonalField10B      198\n",
       "SalesField5           189\n",
       "SalesField8           188\n",
       "SalesField6           187\n",
       "PersonalField9        187\n",
       "SalesField1B          173\n",
       "PersonalField10A      159\n",
       "PersonalField16       110\n",
       "SalesField2B          109\n",
       "SalesField4           106\n",
       "PersonalField84        98\n",
       "PersonalField4A        98\n",
       "SalesField1A           98\n",
       "PropertyField29        97\n",
       "PropertyField37        95\n",
       "PropertyField16B       91\n",
       "Field7                 87\n",
       "PropertyField2B        86\n",
       "Week                   84\n",
       "PropertyField39A       83\n",
       "PersonalField15        83\n",
       "PersonalField4B        81\n",
       "PropertyField1A        79\n",
       "PropertyField1B        78\n",
       "PersonalField27        78\n",
       "GeographicField61B     74\n",
       "Field8                 74\n",
       "SalesField10           73\n",
       "CoverageField11B       72\n",
       "PersonalField1         72\n",
       "CoverageField11A       71\n",
       "PersonalField18        68\n",
       "Month                  64\n",
       "PersonalField14        61\n",
       "PersonalField2         61\n",
       "SalesField2A           61\n",
       "PropertyField39B       61\n",
       "GeographicField57A     59\n",
       "SalesField3            58\n",
       "CoverageField8         57\n",
       "GeographicField29A     56\n",
       "PersonalField19        56\n",
       "GeographicField34A     56\n",
       "PersonalField17        56\n",
       "CoverageField3B        55\n",
       "GeographicField57B     55\n",
       "GeographicField1B      55\n",
       "PropertyField26B       54\n",
       "CoverageField9         54\n",
       "GeographicField5B      53\n",
       "dtype: int64"
      ]
     },
     "execution_count": 42,
     "metadata": {},
     "output_type": "execute_result"
    }
   ],
   "source": [
    "feat_imp.head(50)"
   ]
  },
  {
   "cell_type": "code",
   "execution_count": 43,
   "metadata": {},
   "outputs": [
    {
     "data": {
      "image/png": "[encoded data removed]",
      "text/plain": [
       "<Figure size 432x288 with 1 Axes>"
      ]
     },
     "metadata": {
      "needs_background": "light"
     },
     "output_type": "display_data"
    }
   ],
   "source": [
    "from sklearn.metrics import roc_curve\n",
    "logit_roc_auc = roc_auc_score(homesite_df[\"QuoteConversion_Flag\"].values, train_pred)\n",
    "fpr, tpr, thresholds = roc_curve(homesite_df[\"QuoteConversion_Flag\"].values, train_prob)\n",
    "plt.figure()\n",
    "plt.plot(fpr, tpr, label='ROC-AUC(area = %0.4f)' % logit_roc_auc)\n",
    "plt.plot([0, 1], [0, 1],'r--')\n",
    "plt.xlim([0.0, 1.0])\n",
    "plt.ylim([0.0, 1.05])\n",
    "plt.xlabel('False Positive Rate')\n",
    "plt.ylabel('True Positive Rate')\n",
    "plt.title('Receiver operating characteristic')\n",
    "plt.legend(loc=\"lower right\")\n",
    "plt.savefig('Log_ROC')\n",
    "plt.show()"
   ]
  },
  {
   "cell_type": "markdown",
   "metadata": {},
   "source": [
    "#### Test Predictions"
   ]
  },
  {
   "cell_type": "code",
   "execution_count": 44,
   "metadata": {},
   "outputs": [],
   "source": [
    "dtest_predictions = xgb1.predict(X_test)"
   ]
  },
  {
   "cell_type": "code",
   "execution_count": 45,
   "metadata": {},
   "outputs": [],
   "source": [
    "dtest_predictProba = xgb1.predict_proba(X_test)"
   ]
  },
  {
   "cell_type": "code",
   "execution_count": 46,
   "metadata": {},
   "outputs": [
    {
     "data": {
      "text/plain": [
       "array([[9.9947876e-01, 5.2127225e-04],\n",
       "       [9.6561599e-01, 3.4383990e-02],\n",
       "       [9.6971691e-01, 3.0283112e-02],\n",
       "       ...,\n",
       "       [2.8111339e-03, 9.9718887e-01],\n",
       "       [9.9986094e-01, 1.3905451e-04],\n",
       "       [8.4637749e-01, 1.5362252e-01]], dtype=float32)"
      ]
     },
     "execution_count": 46,
     "metadata": {},
     "output_type": "execute_result"
    }
   ],
   "source": [
    "dtest_predictProba"
   ]
  },
  {
   "cell_type": "code",
   "execution_count": 47,
   "metadata": {},
   "outputs": [],
   "source": [
    "sub = pd.DataFrame(columns=['QuoteNumber','QuoteConversion_Flag'])\n",
    "sub['QuoteNumber'] = test_df.QuoteNumber\n",
    "sub['QuoteConversion_Flag'] = dtest_predictProba"
   ]
  },
  {
   "cell_type": "code",
   "execution_count": 48,
   "metadata": {},
   "outputs": [
    {
     "name": "stdout",
     "output_type": "stream",
     "text": [
      "Saved file: PredictionsL14.csv\n"
     ]
    }
   ],
   "source": [
    "subfile = 'PredictionsL14.csv'\n",
    "sub.to_csv(subfile,index=False)\n",
    "print('Saved file: ' + subfile)"
   ]
  },
  {
   "cell_type": "markdown",
   "metadata": {},
   "source": [
    "### Tuning max_depth and min_child_weight"
   ]
  },
  {
   "cell_type": "code",
   "execution_count": null,
   "metadata": {
    "scrolled": true
   },
   "outputs": [],
   "source": [
    "param_test1 = {\n",
    " 'max_depth':range(3,10,2),\n",
    " 'min_child_weight':range(1,6,2)\n",
    "}\n",
    "gsearch1 = GridSearchCV(estimator = \n",
    "                        XGBClassifier( learning_rate =0.1, n_estimators=50, max_depth=5,\n",
    "                        min_child_weight=1, gamma=0, subsample=0.8, colsample_bytree=0.8,\n",
    "                        objective= 'binary:logistic', nthread=12, scale_pos_weight=1, seed=27), \n",
    "          param_grid = param_test1, scoring='roc_auc',n_jobs=4,iid=False, cv=5)\n"
   ]
  },
  {
   "cell_type": "code",
   "execution_count": null,
   "metadata": {},
   "outputs": [],
   "source": [
    "gsearch1.fit(X_train[predictors],X_train['QuoteConversion_Flag'])"
   ]
  },
  {
   "cell_type": "code",
   "execution_count": null,
   "metadata": {},
   "outputs": [],
   "source": [
    "gsearch1.cv_results_"
   ]
  },
  {
   "cell_type": "code",
   "execution_count": null,
   "metadata": {},
   "outputs": [],
   "source": [
    "gsearch1.best_params_"
   ]
  },
  {
   "cell_type": "code",
   "execution_count": null,
   "metadata": {},
   "outputs": [],
   "source": [
    "gsearch1.best_score_"
   ]
  },
  {
   "cell_type": "markdown",
   "metadata": {},
   "source": [
    "#### 2nd Try"
   ]
  },
  {
   "cell_type": "code",
   "execution_count": null,
   "metadata": {},
   "outputs": [],
   "source": [
    "param_test2 = {\n",
    " 'max_depth':[4,5,6],\n",
    " 'min_child_weight':[4,5,6]\n",
    "}\n",
    "gsearch2 = GridSearchCV(estimator = XGBClassifier( learning_rate=0.1, n_estimators=50, max_depth=5,\n",
    " min_child_weight=2, gamma=0, subsample=0.8, colsample_bytree=0.8,\n",
    " objective= 'binary:logistic', nthread=10, scale_pos_weight=1,seed=27), \n",
    " param_grid = param_test2, scoring='roc_auc',n_jobs=10,iid=False, cv=5)\n"
   ]
  },
  {
   "cell_type": "code",
   "execution_count": null,
   "metadata": {},
   "outputs": [],
   "source": [
    "gsearch2.fit(X_train[predictors],X_train['QuoteConversion_Flag'])"
   ]
  },
  {
   "cell_type": "code",
   "execution_count": null,
   "metadata": {},
   "outputs": [],
   "source": [
    "gsearch2.cv_results_"
   ]
  },
  {
   "cell_type": "code",
   "execution_count": null,
   "metadata": {},
   "outputs": [],
   "source": [
    "gsearch2.best_params_"
   ]
  },
  {
   "cell_type": "code",
   "execution_count": null,
   "metadata": {},
   "outputs": [],
   "source": [
    "gsearch2.best_score_"
   ]
  },
  {
   "cell_type": "markdown",
   "metadata": {},
   "source": [
    "### H2O "
   ]
  },
  {
   "cell_type": "code",
   "execution_count": 49,
   "metadata": {
    "scrolled": true
   },
   "outputs": [
    {
     "name": "stdout",
     "output_type": "stream",
     "text": [
      "Virtual Memory Size:  svmem(total=16902189056, available=8807493632, percent=47.9, used=8094695424, free=8807493632)\n",
      "Minimum Memory Size:  8\n"
     ]
    }
   ],
   "source": [
    "pct_memory=0.95\n",
    "virtual_memory=psutil.virtual_memory()\n",
    "print(\"Virtual Memory Size: \",virtual_memory)\n",
    "min_mem_size=int(round(int(pct_memory*virtual_memory.available)/1073741824,0))\n",
    "print(\"Minimum Memory Size: \",min_mem_size)"
   ]
  },
  {
   "cell_type": "code",
   "execution_count": 50,
   "metadata": {},
   "outputs": [
    {
     "name": "stdout",
     "output_type": "stream",
     "text": [
      "Checking whether there is an H2O instance running at http://localhost:29233..... not found.\n",
      "Attempting to start a local H2O server...\n",
      "; Java HotSpot(TM) 64-Bit Server VM (build 25.201-b09, mixed mode)\n",
      "  Starting server from C:\\Users\\kaila\\Anaconda3\\lib\\site-packages\\h2o\\backend\\bin\\h2o.jar\n",
      "  Ice root: C:\\Users\\kaila\\AppData\\Local\\Temp\\tmp1mon4qlo\n",
      "  JVM stdout: C:\\Users\\kaila\\AppData\\Local\\Temp\\tmp1mon4qlo\\h2o_Kailash_started_from_python.out\n",
      "  JVM stderr: C:\\Users\\kaila\\AppData\\Local\\Temp\\tmp1mon4qlo\\h2o_Kailash_started_from_python.err\n",
      "  Server is running at http://127.0.0.1:29233\n",
      "Connecting to H2O server at http://127.0.0.1:29233... successful.\n"
     ]
    },
    {
     "data": {
      "text/html": [
       "<div style=\"overflow:auto\"><table style=\"width:50%\"><tr><td>H2O cluster uptime:</td>\n",
       "<td>01 secs</td></tr>\n",
       "<tr><td>H2O cluster timezone:</td>\n",
       "<td>America/New_York</td></tr>\n",
       "<tr><td>H2O data parsing timezone:</td>\n",
       "<td>UTC</td></tr>\n",
       "<tr><td>H2O cluster version:</td>\n",
       "<td>3.22.1.3</td></tr>\n",
       "<tr><td>H2O cluster version age:</td>\n",
       "<td>2 months and 6 days </td></tr>\n",
       "<tr><td>H2O cluster name:</td>\n",
       "<td>H2O_from_python_Kailash_jbisbv</td></tr>\n",
       "<tr><td>H2O cluster total nodes:</td>\n",
       "<td>1</td></tr>\n",
       "<tr><td>H2O cluster free memory:</td>\n",
       "<td>7.667 Gb</td></tr>\n",
       "<tr><td>H2O cluster total cores:</td>\n",
       "<td>12</td></tr>\n",
       "<tr><td>H2O cluster allowed cores:</td>\n",
       "<td>12</td></tr>\n",
       "<tr><td>H2O cluster status:</td>\n",
       "<td>accepting new members, healthy</td></tr>\n",
       "<tr><td>H2O connection url:</td>\n",
       "<td>http://127.0.0.1:29233</td></tr>\n",
       "<tr><td>H2O connection proxy:</td>\n",
       "<td>None</td></tr>\n",
       "<tr><td>H2O internal security:</td>\n",
       "<td>False</td></tr>\n",
       "<tr><td>H2O API Extensions:</td>\n",
       "<td>Algos, AutoML, Core V3, Core V4</td></tr>\n",
       "<tr><td>Python version:</td>\n",
       "<td>3.7.1 final</td></tr></table></div>"
      ],
      "text/plain": [
       "--------------------------  -------------------------------\n",
       "H2O cluster uptime:         01 secs\n",
       "H2O cluster timezone:       America/New_York\n",
       "H2O data parsing timezone:  UTC\n",
       "H2O cluster version:        3.22.1.3\n",
       "H2O cluster version age:    2 months and 6 days\n",
       "H2O cluster name:           H2O_from_python_Kailash_jbisbv\n",
       "H2O cluster total nodes:    1\n",
       "H2O cluster free memory:    7.667 Gb\n",
       "H2O cluster total cores:    12\n",
       "H2O cluster allowed cores:  12\n",
       "H2O cluster status:         accepting new members, healthy\n",
       "H2O connection url:         http://127.0.0.1:29233\n",
       "H2O connection proxy:\n",
       "H2O internal security:      False\n",
       "H2O API Extensions:         Algos, AutoML, Core V3, Core V4\n",
       "Python version:             3.7.1 final\n",
       "--------------------------  -------------------------------"
      ]
     },
     "metadata": {},
     "output_type": "display_data"
    }
   ],
   "source": [
    "# Connect to a cluster\n",
    "port_no=random.randint(5555,55555)\n",
    "\n",
    "#  h2o.init(strict_version_check=False,min_mem_size_GB=min_mem_size,port=port_no) # start h2o\n",
    "try:\n",
    "  h2o.init(strict_version_check=False,min_mem_size_GB=min_mem_size,port=port_no) # start h2o\n",
    "except:\n",
    "  logging.critical('h2o.init')\n",
    "  h2o.download_all_logs(dirname=logs_path, filename=logfile)      \n",
    "  h2o.cluster().shutdown()\n",
    "  sys.exit(2)"
   ]
  },
  {
   "cell_type": "code",
   "execution_count": 51,
   "metadata": {
    "scrolled": true
   },
   "outputs": [
    {
     "name": "stdout",
     "output_type": "stream",
     "text": [
      "Parse progress: |█████████████████████████████████████████████████████████| 100%\n"
     ]
    }
   ],
   "source": [
    "H2O_train = h2o.import_file(\"train.csv\")"
   ]
  },
  {
   "cell_type": "code",
   "execution_count": 66,
   "metadata": {},
   "outputs": [
    {
     "name": "stdout",
     "output_type": "stream",
     "text": [
      "Parse progress: |█████████████████████████████████████████████████████████| 100%\n"
     ]
    }
   ],
   "source": [
    "H2O_test = h2o.import_file(\"test.csv\")"
   ]
  },
  {
   "cell_type": "code",
   "execution_count": 52,
   "metadata": {},
   "outputs": [],
   "source": [
    "predictors=[x for x in H2O_train.columns if x not in ['QuoteConversion_Flag']]\n",
    "Target='QuoteConversion_Flag'"
   ]
  },
  {
   "cell_type": "code",
   "execution_count": 253,
   "metadata": {},
   "outputs": [],
   "source": [
    "# val_remove='QuoteNumber'\n",
    "H2O_test = [x for x in H2O_train.columns if x not in ['QuoteNumber']]"
   ]
  },
  {
   "cell_type": "code",
   "execution_count": 53,
   "metadata": {},
   "outputs": [],
   "source": [
    "# For binary classification, response should be a factor\n",
    "H2O_train[Target] = H2O_train[Target].asfactor()"
   ]
  },
  {
   "cell_type": "code",
   "execution_count": 56,
   "metadata": {},
   "outputs": [],
   "source": [
    "aml = H2OAutoML(max_runtime_secs=3600, seed=27)"
   ]
  },
  {
   "cell_type": "code",
   "execution_count": 254,
   "metadata": {},
   "outputs": [
    {
     "ename": "FileNotFoundError",
     "evalue": "[WinError 2] The system cannot find the file specified: '../logs'",
     "output_type": "error",
     "traceback": [
      "\u001b[1;31m---------------------------------------------------------------------------\u001b[0m",
      "\u001b[1;31mFileNotFoundError\u001b[0m                         Traceback (most recent call last)",
      "\u001b[1;32m<ipython-input-254-58b72db33a7a>\u001b[0m in \u001b[0;36m<module>\u001b[1;34m\u001b[0m\n\u001b[0;32m      1\u001b[0m \u001b[0mos\u001b[0m\u001b[1;33m.\u001b[0m\u001b[0mgetcwd\u001b[0m\u001b[1;33m(\u001b[0m\u001b[1;33m)\u001b[0m\u001b[1;33m\u001b[0m\u001b[1;33m\u001b[0m\u001b[0m\n\u001b[1;32m----> 2\u001b[1;33m \u001b[0mos\u001b[0m\u001b[1;33m.\u001b[0m\u001b[0mchdir\u001b[0m\u001b[1;33m(\u001b[0m\u001b[1;34m'../logs'\u001b[0m\u001b[1;33m)\u001b[0m\u001b[1;33m\u001b[0m\u001b[1;33m\u001b[0m\u001b[0m\n\u001b[0m\u001b[0;32m      3\u001b[0m \u001b[0mlogs_path\u001b[0m \u001b[1;33m=\u001b[0m \u001b[0mos\u001b[0m\u001b[1;33m.\u001b[0m\u001b[0mgetcwd\u001b[0m\u001b[1;33m(\u001b[0m\u001b[1;33m)\u001b[0m\u001b[1;33m\u001b[0m\u001b[1;33m\u001b[0m\u001b[0m\n\u001b[0;32m      4\u001b[0m \u001b[0mlogfile\u001b[0m \u001b[1;33m=\u001b[0m \u001b[1;34m'logs.txt'\u001b[0m\u001b[1;33m\u001b[0m\u001b[1;33m\u001b[0m\u001b[0m\n",
      "\u001b[1;31mFileNotFoundError\u001b[0m: [WinError 2] The system cannot find the file specified: '../logs'"
     ]
    }
   ],
   "source": [
    "os.getcwd()\n",
    "os.chdir('/logs')\n",
    "logs_path = os.getcwd()\n",
    "logfile = 'logs.txt'"
   ]
  },
  {
   "cell_type": "code",
   "execution_count": 58,
   "metadata": {},
   "outputs": [
    {
     "name": "stdout",
     "output_type": "stream",
     "text": [
      "AutoML progress: |████████████████████████████████████████████████████████| 100%\n"
     ]
    }
   ],
   "source": [
    "model_start_time = time.time()\n",
    "aml.train(x=predictors, y=Target, training_frame=H2O_train)"
   ]
  },
  {
   "cell_type": "code",
   "execution_count": 59,
   "metadata": {},
   "outputs": [
    {
     "data": {
      "text/plain": [
       "{'model_execution_time': {'classification': 3613.703415632248}}"
      ]
     },
     "execution_count": 59,
     "metadata": {},
     "output_type": "execute_result"
    }
   ],
   "source": [
    "meta_data={}\n",
    "meta_data['model_execution_time'] = {\"classification\":(time.time() - model_start_time)}\n",
    "meta_data"
   ]
  },
  {
   "cell_type": "code",
   "execution_count": 60,
   "metadata": {},
   "outputs": [
    {
     "data": {
      "text/html": [
       "<table>\n",
       "<thead>\n",
       "<tr><th>model_id                                           </th><th style=\"text-align: right;\">     auc</th><th style=\"text-align: right;\">  logloss</th><th style=\"text-align: right;\">  mean_per_class_error</th><th style=\"text-align: right;\">    rmse</th><th style=\"text-align: right;\">      mse</th></tr>\n",
       "</thead>\n",
       "<tbody>\n",
       "<tr><td>GBM_1_AutoML_20190401_183123                       </td><td style=\"text-align: right;\">0.96388 </td><td style=\"text-align: right;\"> 0.173366</td><td style=\"text-align: right;\">              0.137265</td><td style=\"text-align: right;\">0.2298  </td><td style=\"text-align: right;\">0.052808 </td></tr>\n",
       "<tr><td>StackedEnsemble_BestOfFamily_AutoML_20190401_183123</td><td style=\"text-align: right;\">0.962323</td><td style=\"text-align: right;\"> 0.185778</td><td style=\"text-align: right;\">              0.139232</td><td style=\"text-align: right;\">0.233857</td><td style=\"text-align: right;\">0.054689 </td></tr>\n",
       "<tr><td>StackedEnsemble_AllModels_AutoML_20190401_183123   </td><td style=\"text-align: right;\">0.962323</td><td style=\"text-align: right;\"> 0.185778</td><td style=\"text-align: right;\">              0.139232</td><td style=\"text-align: right;\">0.233857</td><td style=\"text-align: right;\">0.054689 </td></tr>\n",
       "<tr><td>DRF_1_AutoML_20190401_183123                       </td><td style=\"text-align: right;\">0.952619</td><td style=\"text-align: right;\"> 0.227683</td><td style=\"text-align: right;\">              0.145782</td><td style=\"text-align: right;\">0.259564</td><td style=\"text-align: right;\">0.0673737</td></tr>\n",
       "<tr><td>XRT_1_AutoML_20190401_183123                       </td><td style=\"text-align: right;\">0.945757</td><td style=\"text-align: right;\"> 0.259927</td><td style=\"text-align: right;\">              0.154815</td><td style=\"text-align: right;\">0.275009</td><td style=\"text-align: right;\">0.0756301</td></tr>\n",
       "<tr><td>GLM_grid_1_AutoML_20190401_183123_model_1          </td><td style=\"text-align: right;\">0.944317</td><td style=\"text-align: right;\"> 0.207195</td><td style=\"text-align: right;\">              0.167292</td><td style=\"text-align: right;\">0.248745</td><td style=\"text-align: right;\">0.0618741</td></tr>\n",
       "</tbody>\n",
       "</table>"
      ]
     },
     "metadata": {},
     "output_type": "display_data"
    },
    {
     "data": {
      "text/plain": []
     },
     "execution_count": 60,
     "metadata": {},
     "output_type": "execute_result"
    }
   ],
   "source": [
    "# View the AutoML Leaderboard\n",
    "lb = aml.leaderboard\n",
    "lb.head(rows=lb.nrows)  # Print all rows instead of default (10 rows)"
   ]
  },
  {
   "cell_type": "code",
   "execution_count": 62,
   "metadata": {},
   "outputs": [],
   "source": [
    "aml_leaderboard_df=aml.leaderboard.as_data_frame()\n",
    "model_set=aml_leaderboard_df['model_id']\n",
    "mod_best1=h2o.get_model(model_set[0])"
   ]
  },
  {
   "cell_type": "code",
   "execution_count": 248,
   "metadata": {
    "scrolled": true
   },
   "outputs": [
    {
     "name": "stdout",
     "output_type": "stream",
     "text": [
      "0.9758751240942827\n"
     ]
    }
   ],
   "source": [
    "print(mod_best1.auc())"
   ]
  },
  {
   "cell_type": "code",
   "execution_count": 64,
   "metadata": {},
   "outputs": [
    {
     "name": "stdout",
     "output_type": "stream",
     "text": [
      "gbm\n"
     ]
    }
   ],
   "source": [
    "print(mod_best1.algo)"
   ]
  },
  {
   "cell_type": "code",
   "execution_count": 67,
   "metadata": {},
   "outputs": [
    {
     "name": "stdout",
     "output_type": "stream",
     "text": [
      "gbm prediction progress: |████████████████████████████████████████████████| 100%\n"
     ]
    }
   ],
   "source": [
    "pred_H2O=mod_best1.predict(H2O_test)"
   ]
  },
  {
   "cell_type": "code",
   "execution_count": 89,
   "metadata": {},
   "outputs": [
    {
     "data": {
      "text/html": [
       "<table>\n",
       "<thead>\n",
       "<tr><th style=\"text-align: right;\">  predict</th><th style=\"text-align: right;\">      p0</th><th style=\"text-align: right;\">         p1</th></tr>\n",
       "</thead>\n",
       "<tbody>\n",
       "<tr><td style=\"text-align: right;\">        0</td><td style=\"text-align: right;\">0.995144</td><td style=\"text-align: right;\">0.00485575 </td></tr>\n",
       "<tr><td style=\"text-align: right;\">        0</td><td style=\"text-align: right;\">0.962084</td><td style=\"text-align: right;\">0.0379155  </td></tr>\n",
       "<tr><td style=\"text-align: right;\">        0</td><td style=\"text-align: right;\">0.961356</td><td style=\"text-align: right;\">0.0386437  </td></tr>\n",
       "<tr><td style=\"text-align: right;\">        0</td><td style=\"text-align: right;\">0.986601</td><td style=\"text-align: right;\">0.0133986  </td></tr>\n",
       "<tr><td style=\"text-align: right;\">        0</td><td style=\"text-align: right;\">0.741064</td><td style=\"text-align: right;\">0.258936   </td></tr>\n",
       "<tr><td style=\"text-align: right;\">        0</td><td style=\"text-align: right;\">0.972113</td><td style=\"text-align: right;\">0.0278869  </td></tr>\n",
       "<tr><td style=\"text-align: right;\">        0</td><td style=\"text-align: right;\">0.998157</td><td style=\"text-align: right;\">0.00184314 </td></tr>\n",
       "<tr><td style=\"text-align: right;\">        0</td><td style=\"text-align: right;\">0.96626 </td><td style=\"text-align: right;\">0.0337405  </td></tr>\n",
       "<tr><td style=\"text-align: right;\">        0</td><td style=\"text-align: right;\">0.998383</td><td style=\"text-align: right;\">0.0016165  </td></tr>\n",
       "<tr><td style=\"text-align: right;\">        0</td><td style=\"text-align: right;\">0.999389</td><td style=\"text-align: right;\">0.000610553</td></tr>\n",
       "</tbody>\n",
       "</table>"
      ]
     },
     "metadata": {},
     "output_type": "display_data"
    },
    {
     "data": {
      "text/plain": []
     },
     "execution_count": 89,
     "metadata": {},
     "output_type": "execute_result"
    }
   ],
   "source": [
    "pred_H2O"
   ]
  },
  {
   "cell_type": "code",
   "execution_count": 85,
   "metadata": {},
   "outputs": [
    {
     "name": "stdout",
     "output_type": "stream",
     "text": [
      "GBM_1_AutoML_20190401_183123\n"
     ]
    }
   ],
   "source": [
    "print(mod_best1.model_id)"
   ]
  },
  {
   "cell_type": "code",
   "execution_count": 150,
   "metadata": {},
   "outputs": [
    {
     "data": {
      "text/plain": [
       "[\"model_id = {'__meta': {'schema_version': 3, 'schema_name': 'ModelKeyV3', 'schema_type': 'Key<Model>'}, 'name': 'GBM_1_AutoML_20190401_183123', 'type': 'Key<Model>', 'URL': '/3/Models/GBM_1_AutoML_20190401_183123'}\",\n",
       " \"training_frame = {'__meta': {'schema_version': 3, 'schema_name': 'FrameKeyV3', 'schema_type': 'Key<Frame>'}, 'name': 'automl_training_py_1_sid_9c47', 'type': 'Key<Frame>', 'URL': '/3/Frames/automl_training_py_1_sid_9c47'}\",\n",
       " 'validation_frame = None',\n",
       " 'nfolds = 5',\n",
       " 'keep_cross_validation_models = False',\n",
       " 'keep_cross_validation_predictions = True',\n",
       " 'keep_cross_validation_fold_assignment = False',\n",
       " 'score_each_iteration = False',\n",
       " 'score_tree_interval = 5',\n",
       " 'fold_assignment = Modulo',\n",
       " 'fold_column = None',\n",
       " \"response_column = {'__meta': {'schema_version': 3, 'schema_name': 'ColSpecifierV3', 'schema_type': 'VecSpecifier'}, 'column_name': 'QuoteConversion_Flag', 'is_member_of_frames': None}\",\n",
       " 'ignored_columns = []',\n",
       " 'ignore_const_cols = True',\n",
       " 'offset_column = None',\n",
       " 'weights_column = None',\n",
       " 'balance_classes = False',\n",
       " 'class_sampling_factors = None',\n",
       " 'max_after_balance_size = 5.0',\n",
       " 'max_confusion_matrix_size = 20',\n",
       " 'max_hit_ratio_k = 0',\n",
       " 'ntrees = 174',\n",
       " 'max_depth = 15',\n",
       " 'min_rows = 100.0',\n",
       " 'nbins = 20',\n",
       " 'nbins_top_level = 1024',\n",
       " 'nbins_cats = 1024',\n",
       " 'r2_stopping = 1.7976931348623157e+308',\n",
       " 'stopping_rounds = 3',\n",
       " 'stopping_metric = logloss',\n",
       " 'stopping_tolerance = 0.001958327592654004',\n",
       " 'max_runtime_secs = 602.0',\n",
       " 'seed = 27',\n",
       " 'build_tree_one_node = False',\n",
       " 'learn_rate = 0.1',\n",
       " 'learn_rate_annealing = 1.0',\n",
       " 'distribution = bernoulli',\n",
       " 'quantile_alpha = 0.5',\n",
       " 'tweedie_power = 1.5',\n",
       " 'huber_alpha = 0.9',\n",
       " 'checkpoint = None',\n",
       " 'sample_rate = 0.8',\n",
       " 'sample_rate_per_class = None',\n",
       " 'col_sample_rate = 0.8',\n",
       " 'col_sample_rate_change_per_level = 1.0',\n",
       " 'col_sample_rate_per_tree = 0.8',\n",
       " 'min_split_improvement = 1e-05',\n",
       " 'histogram_type = AUTO',\n",
       " 'max_abs_leafnode_pred = 1.7976931348623157e+308',\n",
       " 'pred_noise_bandwidth = 0.0',\n",
       " 'categorical_encoding = AUTO',\n",
       " 'calibrate_model = False',\n",
       " 'calibration_frame = None',\n",
       " 'custom_metric_func = None',\n",
       " 'export_checkpoints_dir = None',\n",
       " 'monotone_constraints = None']"
      ]
     },
     "execution_count": 150,
     "metadata": {},
     "output_type": "execute_result"
    }
   ],
   "source": [
    "params_list = []\n",
    "for key, value in mod_best1.params.items():\n",
    "    params_list.append(str(key)+\" = \"+str(value['actual']))\n",
    "params_list"
   ]
  },
  {
   "cell_type": "code",
   "execution_count": 70,
   "metadata": {
    "collapsed": true
   },
   "outputs": [
    {
     "name": "stdout",
     "output_type": "stream",
     "text": [
      "Model Details\n",
      "=============\n",
      "H2OGradientBoostingEstimator :  Gradient Boosting Machine\n",
      "Model Key:  GBM_1_AutoML_20190401_183123\n",
      "\n",
      "\n",
      "ModelMetricsBinomial: gbm\n",
      "** Reported on train data. **\n",
      "\n",
      "MSE: 0.044125363677364\n",
      "RMSE: 0.21006038102737032\n",
      "LogLoss: 0.14848211742305967\n",
      "Mean Per-Class Error: 0.08936353802302799\n",
      "AUC: 0.9758751240942827\n",
      "pr_auc: 0.909755557491706\n",
      "Gini: 0.9517502481885654\n",
      "Confusion Matrix (Act/Pred) for max f1 @ threshold = 0.39919681144371066: \n"
     ]
    },
    {
     "data": {
      "text/html": [
       "<div style=\"overflow:auto\"><table style=\"width:50%\"><tr><td><b></b></td>\n",
       "<td><b>0</b></td>\n",
       "<td><b>1</b></td>\n",
       "<td><b>Error</b></td>\n",
       "<td><b>Rate</b></td></tr>\n",
       "<tr><td>0</td>\n",
       "<td>205500.0</td>\n",
       "<td>6359.0</td>\n",
       "<td>0.03</td>\n",
       "<td> (6359.0/211859.0)</td></tr>\n",
       "<tr><td>1</td>\n",
       "<td>9358.0</td>\n",
       "<td>39536.0</td>\n",
       "<td>0.1914</td>\n",
       "<td> (9358.0/48894.0)</td></tr>\n",
       "<tr><td>Total</td>\n",
       "<td>214858.0</td>\n",
       "<td>45895.0</td>\n",
       "<td>0.0603</td>\n",
       "<td> (15717.0/260753.0)</td></tr></table></div>"
      ],
      "text/plain": [
       "       0       1      Error    Rate\n",
       "-----  ------  -----  -------  ------------------\n",
       "0      205500  6359   0.03     (6359.0/211859.0)\n",
       "1      9358    39536  0.1914   (9358.0/48894.0)\n",
       "Total  214858  45895  0.0603   (15717.0/260753.0)"
      ]
     },
     "metadata": {},
     "output_type": "display_data"
    },
    {
     "name": "stdout",
     "output_type": "stream",
     "text": [
      "Maximum Metrics: Maximum metrics at their respective thresholds\n",
      "\n"
     ]
    },
    {
     "data": {
      "text/html": [
       "<div style=\"overflow:auto\"><table style=\"width:50%\"><tr><td><b>metric</b></td>\n",
       "<td><b>threshold</b></td>\n",
       "<td><b>value</b></td>\n",
       "<td><b>idx</b></td></tr>\n",
       "<tr><td>max f1</td>\n",
       "<td>0.3991968</td>\n",
       "<td>0.8341896</td>\n",
       "<td>182.0</td></tr>\n",
       "<tr><td>max f2</td>\n",
       "<td>0.2016316</td>\n",
       "<td>0.8599142</td>\n",
       "<td>260.0</td></tr>\n",
       "<tr><td>max f0point5</td>\n",
       "<td>0.5909984</td>\n",
       "<td>0.8892301</td>\n",
       "<td>119.0</td></tr>\n",
       "<tr><td>max accuracy</td>\n",
       "<td>0.4667009</td>\n",
       "<td>0.9409786</td>\n",
       "<td>158.0</td></tr>\n",
       "<tr><td>max precision</td>\n",
       "<td>0.9989818</td>\n",
       "<td>1.0</td>\n",
       "<td>0.0</td></tr>\n",
       "<tr><td>max recall</td>\n",
       "<td>0.0036860</td>\n",
       "<td>1.0</td>\n",
       "<td>391.0</td></tr>\n",
       "<tr><td>max specificity</td>\n",
       "<td>0.9989818</td>\n",
       "<td>1.0</td>\n",
       "<td>0.0</td></tr>\n",
       "<tr><td>max absolute_mcc</td>\n",
       "<td>0.4140555</td>\n",
       "<td>0.7987672</td>\n",
       "<td>177.0</td></tr>\n",
       "<tr><td>max min_per_class_accuracy</td>\n",
       "<td>0.2198792</td>\n",
       "<td>0.9103319</td>\n",
       "<td>252.0</td></tr>\n",
       "<tr><td>max mean_per_class_accuracy</td>\n",
       "<td>0.2270783</td>\n",
       "<td>0.9106365</td>\n",
       "<td>249.0</td></tr></table></div>"
      ],
      "text/plain": [
       "metric                       threshold    value     idx\n",
       "---------------------------  -----------  --------  -----\n",
       "max f1                       0.399197     0.83419   182\n",
       "max f2                       0.201632     0.859914  260\n",
       "max f0point5                 0.590998     0.88923   119\n",
       "max accuracy                 0.466701     0.940979  158\n",
       "max precision                0.998982     1         0\n",
       "max recall                   0.00368604   1         391\n",
       "max specificity              0.998982     1         0\n",
       "max absolute_mcc             0.414056     0.798767  177\n",
       "max min_per_class_accuracy   0.219879     0.910332  252\n",
       "max mean_per_class_accuracy  0.227078     0.910636  249"
      ]
     },
     "metadata": {},
     "output_type": "display_data"
    },
    {
     "name": "stdout",
     "output_type": "stream",
     "text": [
      "Gains/Lift Table: Avg response rate: 18.75 %, avg score: 18.75 %\n",
      "\n"
     ]
    },
    {
     "data": {
      "text/html": [
       "<div style=\"overflow:auto\"><table style=\"width:50%\"><tr><td><b></b></td>\n",
       "<td><b>group</b></td>\n",
       "<td><b>cumulative_data_fraction</b></td>\n",
       "<td><b>lower_threshold</b></td>\n",
       "<td><b>lift</b></td>\n",
       "<td><b>cumulative_lift</b></td>\n",
       "<td><b>response_rate</b></td>\n",
       "<td><b>score</b></td>\n",
       "<td><b>cumulative_response_rate</b></td>\n",
       "<td><b>cumulative_score</b></td>\n",
       "<td><b>capture_rate</b></td>\n",
       "<td><b>cumulative_capture_rate</b></td>\n",
       "<td><b>gain</b></td>\n",
       "<td><b>cumulative_gain</b></td></tr>\n",
       "<tr><td></td>\n",
       "<td>1</td>\n",
       "<td>0.0100018</td>\n",
       "<td>0.9973599</td>\n",
       "<td>5.3330265</td>\n",
       "<td>5.3330265</td>\n",
       "<td>1.0</td>\n",
       "<td>0.9983091</td>\n",
       "<td>1.0</td>\n",
       "<td>0.9983091</td>\n",
       "<td>0.0533399</td>\n",
       "<td>0.0533399</td>\n",
       "<td>433.3026547</td>\n",
       "<td>433.3026547</td></tr>\n",
       "<tr><td></td>\n",
       "<td>2</td>\n",
       "<td>0.0200036</td>\n",
       "<td>0.9942464</td>\n",
       "<td>5.3309817</td>\n",
       "<td>5.3320041</td>\n",
       "<td>0.9996166</td>\n",
       "<td>0.9957509</td>\n",
       "<td>0.9998083</td>\n",
       "<td>0.9970300</td>\n",
       "<td>0.0533194</td>\n",
       "<td>0.1066593</td>\n",
       "<td>433.0981675</td>\n",
       "<td>433.2004111</td></tr>\n",
       "<tr><td></td>\n",
       "<td>3</td>\n",
       "<td>0.0300016</td>\n",
       "<td>0.9924084</td>\n",
       "<td>5.3309809</td>\n",
       "<td>5.3316631</td>\n",
       "<td>0.9996164</td>\n",
       "<td>0.9932494</td>\n",
       "<td>0.9997443</td>\n",
       "<td>0.9957701</td>\n",
       "<td>0.0532990</td>\n",
       "<td>0.1599583</td>\n",
       "<td>433.0980891</td>\n",
       "<td>433.1663125</td></tr>\n",
       "<tr><td></td>\n",
       "<td>4</td>\n",
       "<td>0.0400034</td>\n",
       "<td>0.9908991</td>\n",
       "<td>5.3289368</td>\n",
       "<td>5.3309815</td>\n",
       "<td>0.9992331</td>\n",
       "<td>0.9916361</td>\n",
       "<td>0.9996165</td>\n",
       "<td>0.9947365</td>\n",
       "<td>0.0532990</td>\n",
       "<td>0.2132573</td>\n",
       "<td>432.8936803</td>\n",
       "<td>433.0981479</td></tr>\n",
       "<tr><td></td>\n",
       "<td>5</td>\n",
       "<td>0.0500013</td>\n",
       "<td>0.9892065</td>\n",
       "<td>5.3248439</td>\n",
       "<td>5.3297542</td>\n",
       "<td>0.9984657</td>\n",
       "<td>0.9900926</td>\n",
       "<td>0.9993864</td>\n",
       "<td>0.9938080</td>\n",
       "<td>0.0532376</td>\n",
       "<td>0.2664949</td>\n",
       "<td>432.4843921</td>\n",
       "<td>432.9754250</td></tr>\n",
       "<tr><td></td>\n",
       "<td>6</td>\n",
       "<td>0.1000027</td>\n",
       "<td>0.9002243</td>\n",
       "<td>5.3056211</td>\n",
       "<td>5.3176877</td>\n",
       "<td>0.9948612</td>\n",
       "<td>0.9660166</td>\n",
       "<td>0.9971238</td>\n",
       "<td>0.9799123</td>\n",
       "<td>0.2652882</td>\n",
       "<td>0.5317830</td>\n",
       "<td>430.5621057</td>\n",
       "<td>431.7687654</td></tr>\n",
       "<tr><td></td>\n",
       "<td>7</td>\n",
       "<td>0.1500002</td>\n",
       "<td>0.4966947</td>\n",
       "<td>4.1692266</td>\n",
       "<td>4.9348869</td>\n",
       "<td>0.7817749</td>\n",
       "<td>0.6614041</td>\n",
       "<td>0.9253445</td>\n",
       "<td>0.8737483</td>\n",
       "<td>0.2084509</td>\n",
       "<td>0.7402340</td>\n",
       "<td>316.9226553</td>\n",
       "<td>393.4886862</td></tr>\n",
       "<tr><td></td>\n",
       "<td>8</td>\n",
       "<td>0.2000015</td>\n",
       "<td>0.3243973</td>\n",
       "<td>2.2779280</td>\n",
       "<td>4.2706344</td>\n",
       "<td>0.4271361</td>\n",
       "<td>0.4035406</td>\n",
       "<td>0.8007900</td>\n",
       "<td>0.7561941</td>\n",
       "<td>0.1138995</td>\n",
       "<td>0.8541334</td>\n",
       "<td>127.7927968</td>\n",
       "<td>327.0634401</td></tr>\n",
       "<tr><td></td>\n",
       "<td>9</td>\n",
       "<td>0.3000004</td>\n",
       "<td>0.1235426</td>\n",
       "<td>0.9874536</td>\n",
       "<td>3.1762548</td>\n",
       "<td>0.1851582</td>\n",
       "<td>0.2114380</td>\n",
       "<td>0.5955820</td>\n",
       "<td>0.5746111</td>\n",
       "<td>0.0987442</td>\n",
       "<td>0.9528777</td>\n",
       "<td>-1.2546417</td>\n",
       "<td>217.6254785</td></tr>\n",
       "<tr><td></td>\n",
       "<td>10</td>\n",
       "<td>0.3999992</td>\n",
       "<td>0.0545189</td>\n",
       "<td>0.3299011</td>\n",
       "<td>2.4646732</td>\n",
       "<td>0.0618600</td>\n",
       "<td>0.0820002</td>\n",
       "<td>0.4621528</td>\n",
       "<td>0.4514596</td>\n",
       "<td>0.0329897</td>\n",
       "<td>0.9858674</td>\n",
       "<td>-67.0098876</td>\n",
       "<td>146.4673193</td></tr>\n",
       "<tr><td></td>\n",
       "<td>11</td>\n",
       "<td>0.5000019</td>\n",
       "<td>0.0280637</td>\n",
       "<td>0.1088039</td>\n",
       "<td>1.9934885</td>\n",
       "<td>0.0204019</td>\n",
       "<td>0.0400203</td>\n",
       "<td>0.3738006</td>\n",
       "<td>0.3691698</td>\n",
       "<td>0.0108807</td>\n",
       "<td>0.9967481</td>\n",
       "<td>-89.1196114</td>\n",
       "<td>99.3488489</td></tr>\n",
       "<tr><td></td>\n",
       "<td>12</td>\n",
       "<td>0.6000008</td>\n",
       "<td>0.0097305</td>\n",
       "<td>0.0294518</td>\n",
       "<td>1.6661532</td>\n",
       "<td>0.0055225</td>\n",
       "<td>0.0185314</td>\n",
       "<td>0.3124217</td>\n",
       "<td>0.3107308</td>\n",
       "<td>0.0029451</td>\n",
       "<td>0.9996932</td>\n",
       "<td>-97.0548195</td>\n",
       "<td>66.6153227</td></tr>\n",
       "<tr><td></td>\n",
       "<td>13</td>\n",
       "<td>0.6999996</td>\n",
       "<td>0.0032777</td>\n",
       "<td>0.0030679</td>\n",
       "<td>1.4285722</td>\n",
       "<td>0.0005753</td>\n",
       "<td>0.0054834</td>\n",
       "<td>0.2678727</td>\n",
       "<td>0.2671245</td>\n",
       "<td>0.0003068</td>\n",
       "<td>1.0</td>\n",
       "<td>-99.6932104</td>\n",
       "<td>42.8572211</td></tr>\n",
       "<tr><td></td>\n",
       "<td>14</td>\n",
       "<td>0.7999985</td>\n",
       "<td>0.0020207</td>\n",
       "<td>0.0</td>\n",
       "<td>1.2500024</td>\n",
       "<td>0.0</td>\n",
       "<td>0.0025292</td>\n",
       "<td>0.2343889</td>\n",
       "<td>0.2340504</td>\n",
       "<td>0.0</td>\n",
       "<td>1.0</td>\n",
       "<td>-100.0</td>\n",
       "<td>25.0002397</td></tr>\n",
       "<tr><td></td>\n",
       "<td>15</td>\n",
       "<td>0.8999973</td>\n",
       "<td>0.0013700</td>\n",
       "<td>0.0</td>\n",
       "<td>1.1111144</td>\n",
       "<td>0.0</td>\n",
       "<td>0.0016870</td>\n",
       "<td>0.2083459</td>\n",
       "<td>0.2082325</td>\n",
       "<td>0.0</td>\n",
       "<td>1.0</td>\n",
       "<td>-100.0</td>\n",
       "<td>11.1114425</td></tr>\n",
       "<tr><td></td>\n",
       "<td>16</td>\n",
       "<td>1.0</td>\n",
       "<td>0.0000771</td>\n",
       "<td>0.0</td>\n",
       "<td>1.0</td>\n",
       "<td>0.0</td>\n",
       "<td>0.0006339</td>\n",
       "<td>0.1875108</td>\n",
       "<td>0.1874721</td>\n",
       "<td>0.0</td>\n",
       "<td>1.0</td>\n",
       "<td>-100.0</td>\n",
       "<td>0.0</td></tr></table></div>"
      ],
      "text/plain": [
       "    group    cumulative_data_fraction    lower_threshold    lift       cumulative_lift    response_rate    score        cumulative_response_rate    cumulative_score    capture_rate    cumulative_capture_rate    gain      cumulative_gain\n",
       "--  -------  --------------------------  -----------------  ---------  -----------------  ---------------  -----------  --------------------------  ------------------  --------------  -------------------------  --------  -----------------\n",
       "    1        0.0100018                   0.99736            5.33303    5.33303            1                0.998309     1                           0.998309            0.0533399       0.0533399                  433.303   433.303\n",
       "    2        0.0200036                   0.994246           5.33098    5.332              0.999617         0.995751     0.999808                    0.99703             0.0533194       0.106659                   433.098   433.2\n",
       "    3        0.0300016                   0.992408           5.33098    5.33166            0.999616         0.993249     0.999744                    0.99577             0.053299        0.159958                   433.098   433.166\n",
       "    4        0.0400034                   0.990899           5.32894    5.33098            0.999233         0.991636     0.999617                    0.994737            0.053299        0.213257                   432.894   433.098\n",
       "    5        0.0500013                   0.989206           5.32484    5.32975            0.998466         0.990093     0.999386                    0.993808            0.0532376       0.266495                   432.484   432.975\n",
       "    6        0.100003                    0.900224           5.30562    5.31769            0.994861         0.966017     0.997124                    0.979912            0.265288        0.531783                   430.562   431.769\n",
       "    7        0.15                        0.496695           4.16923    4.93489            0.781775         0.661404     0.925345                    0.873748            0.208451        0.740234                   316.923   393.489\n",
       "    8        0.200002                    0.324397           2.27793    4.27063            0.427136         0.403541     0.80079                     0.756194            0.113899        0.854133                   127.793   327.063\n",
       "    9        0.3                         0.123543           0.987454   3.17625            0.185158         0.211438     0.595582                    0.574611            0.0987442       0.952878                   -1.25464  217.625\n",
       "    10       0.399999                    0.0545189          0.329901   2.46467            0.06186          0.0820002    0.462153                    0.45146             0.0329897       0.985867                   -67.0099  146.467\n",
       "    11       0.500002                    0.0280637          0.108804   1.99349            0.0204019        0.0400203    0.373801                    0.36917             0.0108807       0.996748                   -89.1196  99.3488\n",
       "    12       0.600001                    0.00973052         0.0294518  1.66615            0.00552253       0.0185314    0.312422                    0.310731            0.00294515      0.999693                   -97.0548  66.6153\n",
       "    13       0.7                         0.00327772         0.0030679  1.42857            0.000575264      0.00548336   0.267873                    0.267125            0.000306786     1                          -99.6932  42.8572\n",
       "    14       0.799998                    0.00202067         0          1.25               0                0.00252915   0.234389                    0.23405             0               1                          -100      25.0002\n",
       "    15       0.899997                    0.00137003         0          1.11111            0                0.001687     0.208346                    0.208232            0               1                          -100      11.1114\n",
       "    16       1                           7.70775e-05        0          1                  0                0.000633937  0.187511                    0.187472            0               1                          -100      0"
      ]
     },
     "metadata": {},
     "output_type": "display_data"
    },
    {
     "name": "stdout",
     "output_type": "stream",
     "text": [
      "\n",
      "\n",
      "ModelMetricsBinomial: gbm\n",
      "** Reported on cross-validation data. **\n",
      "\n",
      "MSE: 0.052807955887870094\n",
      "RMSE: 0.2297998169883303\n",
      "LogLoss: 0.17336579218896572\n",
      "Mean Per-Class Error: 0.11077331368998644\n",
      "AUC: 0.9638802347924962\n",
      "pr_auc: 0.8654830925607323\n",
      "Gini: 0.9277604695849924\n",
      "Confusion Matrix (Act/Pred) for max f1 @ threshold = 0.3863562344923601: \n"
     ]
    },
    {
     "data": {
      "text/html": [
       "<div style=\"overflow:auto\"><table style=\"width:50%\"><tr><td><b></b></td>\n",
       "<td><b>0</b></td>\n",
       "<td><b>1</b></td>\n",
       "<td><b>Error</b></td>\n",
       "<td><b>Rate</b></td></tr>\n",
       "<tr><td>0</td>\n",
       "<td>203003.0</td>\n",
       "<td>8856.0</td>\n",
       "<td>0.0418</td>\n",
       "<td> (8856.0/211859.0)</td></tr>\n",
       "<tr><td>1</td>\n",
       "<td>11379.0</td>\n",
       "<td>37515.0</td>\n",
       "<td>0.2327</td>\n",
       "<td> (11379.0/48894.0)</td></tr>\n",
       "<tr><td>Total</td>\n",
       "<td>214382.0</td>\n",
       "<td>46371.0</td>\n",
       "<td>0.0776</td>\n",
       "<td> (20235.0/260753.0)</td></tr></table></div>"
      ],
      "text/plain": [
       "       0       1      Error    Rate\n",
       "-----  ------  -----  -------  ------------------\n",
       "0      203003  8856   0.0418   (8856.0/211859.0)\n",
       "1      11379   37515  0.2327   (11379.0/48894.0)\n",
       "Total  214382  46371  0.0776   (20235.0/260753.0)"
      ]
     },
     "metadata": {},
     "output_type": "display_data"
    },
    {
     "name": "stdout",
     "output_type": "stream",
     "text": [
      "Maximum Metrics: Maximum metrics at their respective thresholds\n",
      "\n"
     ]
    },
    {
     "data": {
      "text/html": [
       "<div style=\"overflow:auto\"><table style=\"width:50%\"><tr><td><b>metric</b></td>\n",
       "<td><b>threshold</b></td>\n",
       "<td><b>value</b></td>\n",
       "<td><b>idx</b></td></tr>\n",
       "<tr><td>max f1</td>\n",
       "<td>0.3863562</td>\n",
       "<td>0.7875925</td>\n",
       "<td>187.0</td></tr>\n",
       "<tr><td>max f2</td>\n",
       "<td>0.1501882</td>\n",
       "<td>0.8294022</td>\n",
       "<td>282.0</td></tr>\n",
       "<tr><td>max f0point5</td>\n",
       "<td>0.7170038</td>\n",
       "<td>0.8616067</td>\n",
       "<td>88.0</td></tr>\n",
       "<tr><td>max accuracy</td>\n",
       "<td>0.4781745</td>\n",
       "<td>0.9259644</td>\n",
       "<td>156.0</td></tr>\n",
       "<tr><td>max precision</td>\n",
       "<td>0.9987827</td>\n",
       "<td>1.0</td>\n",
       "<td>0.0</td></tr>\n",
       "<tr><td>max recall</td>\n",
       "<td>0.0020496</td>\n",
       "<td>1.0</td>\n",
       "<td>395.0</td></tr>\n",
       "<tr><td>max specificity</td>\n",
       "<td>0.9987827</td>\n",
       "<td>1.0</td>\n",
       "<td>0.0</td></tr>\n",
       "<tr><td>max absolute_mcc</td>\n",
       "<td>0.4746004</td>\n",
       "<td>0.7440989</td>\n",
       "<td>157.0</td></tr>\n",
       "<tr><td>max min_per_class_accuracy</td>\n",
       "<td>0.1896779</td>\n",
       "<td>0.8885957</td>\n",
       "<td>264.0</td></tr>\n",
       "<tr><td>max mean_per_class_accuracy</td>\n",
       "<td>0.1938014</td>\n",
       "<td>0.8892267</td>\n",
       "<td>262.0</td></tr></table></div>"
      ],
      "text/plain": [
       "metric                       threshold    value     idx\n",
       "---------------------------  -----------  --------  -----\n",
       "max f1                       0.386356     0.787593  187\n",
       "max f2                       0.150188     0.829402  282\n",
       "max f0point5                 0.717004     0.861607  88\n",
       "max accuracy                 0.478175     0.925964  156\n",
       "max precision                0.998783     1         0\n",
       "max recall                   0.00204961   1         395\n",
       "max specificity              0.998783     1         0\n",
       "max absolute_mcc             0.4746       0.744099  157\n",
       "max min_per_class_accuracy   0.189678     0.888596  264\n",
       "max mean_per_class_accuracy  0.193801     0.889227  262"
      ]
     },
     "metadata": {},
     "output_type": "display_data"
    },
    {
     "name": "stdout",
     "output_type": "stream",
     "text": [
      "Gains/Lift Table: Avg response rate: 18.75 %, avg score: 18.62 %\n",
      "\n"
     ]
    },
    {
     "data": {
      "text/html": [
       "<div style=\"overflow:auto\"><table style=\"width:50%\"><tr><td><b></b></td>\n",
       "<td><b>group</b></td>\n",
       "<td><b>cumulative_data_fraction</b></td>\n",
       "<td><b>lower_threshold</b></td>\n",
       "<td><b>lift</b></td>\n",
       "<td><b>cumulative_lift</b></td>\n",
       "<td><b>response_rate</b></td>\n",
       "<td><b>score</b></td>\n",
       "<td><b>cumulative_response_rate</b></td>\n",
       "<td><b>cumulative_score</b></td>\n",
       "<td><b>capture_rate</b></td>\n",
       "<td><b>cumulative_capture_rate</b></td>\n",
       "<td><b>gain</b></td>\n",
       "<td><b>cumulative_gain</b></td></tr>\n",
       "<tr><td></td>\n",
       "<td>1</td>\n",
       "<td>0.0100018</td>\n",
       "<td>0.9975308</td>\n",
       "<td>5.3330265</td>\n",
       "<td>5.3330265</td>\n",
       "<td>1.0</td>\n",
       "<td>0.9984569</td>\n",
       "<td>1.0</td>\n",
       "<td>0.9984569</td>\n",
       "<td>0.0533399</td>\n",
       "<td>0.0533399</td>\n",
       "<td>433.3026547</td>\n",
       "<td>433.3026547</td></tr>\n",
       "<tr><td></td>\n",
       "<td>2</td>\n",
       "<td>0.0200036</td>\n",
       "<td>0.9945922</td>\n",
       "<td>5.3248471</td>\n",
       "<td>5.3289368</td>\n",
       "<td>0.9984663</td>\n",
       "<td>0.9959556</td>\n",
       "<td>0.9992331</td>\n",
       "<td>0.9972063</td>\n",
       "<td>0.0532581</td>\n",
       "<td>0.1065979</td>\n",
       "<td>432.4847059</td>\n",
       "<td>432.8936803</td></tr>\n",
       "<tr><td></td>\n",
       "<td>3</td>\n",
       "<td>0.0300016</td>\n",
       "<td>0.9927359</td>\n",
       "<td>5.3187070</td>\n",
       "<td>5.3255277</td>\n",
       "<td>0.9973149</td>\n",
       "<td>0.9936156</td>\n",
       "<td>0.9985939</td>\n",
       "<td>0.9960097</td>\n",
       "<td>0.0531763</td>\n",
       "<td>0.1597742</td>\n",
       "<td>431.8706952</td>\n",
       "<td>432.5527724</td></tr>\n",
       "<tr><td></td>\n",
       "<td>4</td>\n",
       "<td>0.0400034</td>\n",
       "<td>0.9909811</td>\n",
       "<td>5.3248471</td>\n",
       "<td>5.3253575</td>\n",
       "<td>0.9984663</td>\n",
       "<td>0.9918693</td>\n",
       "<td>0.9985620</td>\n",
       "<td>0.9949745</td>\n",
       "<td>0.0532581</td>\n",
       "<td>0.2130323</td>\n",
       "<td>432.4847059</td>\n",
       "<td>432.5357542</td></tr>\n",
       "<tr><td></td>\n",
       "<td>5</td>\n",
       "<td>0.0500013</td>\n",
       "<td>0.9889665</td>\n",
       "<td>5.3207526</td>\n",
       "<td>5.3244368</td>\n",
       "<td>0.9976985</td>\n",
       "<td>0.9900153</td>\n",
       "<td>0.9983893</td>\n",
       "<td>0.9939829</td>\n",
       "<td>0.0531967</td>\n",
       "<td>0.2662290</td>\n",
       "<td>432.0752608</td>\n",
       "<td>432.4436767</td></tr>\n",
       "<tr><td></td>\n",
       "<td>6</td>\n",
       "<td>0.1000027</td>\n",
       "<td>0.8908320</td>\n",
       "<td>5.2737162</td>\n",
       "<td>5.2990765</td>\n",
       "<td>0.9888787</td>\n",
       "<td>0.9644029</td>\n",
       "<td>0.9936340</td>\n",
       "<td>0.9791929</td>\n",
       "<td>0.2636929</td>\n",
       "<td>0.5299219</td>\n",
       "<td>427.3716158</td>\n",
       "<td>429.9076463</td></tr>\n",
       "<tr><td></td>\n",
       "<td>7</td>\n",
       "<td>0.1500002</td>\n",
       "<td>0.4875772</td>\n",
       "<td>3.4398573</td>\n",
       "<td>4.6793684</td>\n",
       "<td>0.6450104</td>\n",
       "<td>0.6447096</td>\n",
       "<td>0.8774321</td>\n",
       "<td>0.8677042</td>\n",
       "<td>0.1719843</td>\n",
       "<td>0.7019062</td>\n",
       "<td>243.9857347</td>\n",
       "<td>367.9368447</td></tr>\n",
       "<tr><td></td>\n",
       "<td>8</td>\n",
       "<td>0.2000015</td>\n",
       "<td>0.3203183</td>\n",
       "<td>2.1818042</td>\n",
       "<td>4.0549654</td>\n",
       "<td>0.4091118</td>\n",
       "<td>0.3980806</td>\n",
       "<td>0.7603498</td>\n",
       "<td>0.7502960</td>\n",
       "<td>0.1090931</td>\n",
       "<td>0.8109993</td>\n",
       "<td>118.1804234</td>\n",
       "<td>305.4965421</td></tr>\n",
       "<tr><td></td>\n",
       "<td>9</td>\n",
       "<td>0.3000004</td>\n",
       "<td>0.1226323</td>\n",
       "<td>1.1580286</td>\n",
       "<td>3.0893322</td>\n",
       "<td>0.2171429</td>\n",
       "<td>0.2089355</td>\n",
       "<td>0.5792831</td>\n",
       "<td>0.5698448</td>\n",
       "<td>0.1158015</td>\n",
       "<td>0.9268008</td>\n",
       "<td>15.8028622</td>\n",
       "<td>208.9332166</td></tr>\n",
       "<tr><td></td>\n",
       "<td>10</td>\n",
       "<td>0.3999992</td>\n",
       "<td>0.0550727</td>\n",
       "<td>0.4657067</td>\n",
       "<td>2.4334321</td>\n",
       "<td>0.0873250</td>\n",
       "<td>0.0820288</td>\n",
       "<td>0.4562948</td>\n",
       "<td>0.4478920</td>\n",
       "<td>0.0465701</td>\n",
       "<td>0.9733710</td>\n",
       "<td>-53.4293329</td>\n",
       "<td>143.3432081</td></tr>\n",
       "<tr><td></td>\n",
       "<td>11</td>\n",
       "<td>0.5000019</td>\n",
       "<td>0.0289881</td>\n",
       "<td>0.1838622</td>\n",
       "<td>1.9835078</td>\n",
       "<td>0.0344761</td>\n",
       "<td>0.0406587</td>\n",
       "<td>0.3719291</td>\n",
       "<td>0.3664435</td>\n",
       "<td>0.0183867</td>\n",
       "<td>0.9917577</td>\n",
       "<td>-81.6137795</td>\n",
       "<td>98.3507753</td></tr>\n",
       "<tr><td></td>\n",
       "<td>12</td>\n",
       "<td>0.6000008</td>\n",
       "<td>0.0096745</td>\n",
       "<td>0.0717888</td>\n",
       "<td>1.6648920</td>\n",
       "<td>0.0134612</td>\n",
       "<td>0.0190305</td>\n",
       "<td>0.3121852</td>\n",
       "<td>0.3085420</td>\n",
       "<td>0.0071788</td>\n",
       "<td>0.9989365</td>\n",
       "<td>-92.8211225</td>\n",
       "<td>66.4891996</td></tr>\n",
       "<tr><td></td>\n",
       "<td>13</td>\n",
       "<td>0.6999996</td>\n",
       "<td>0.0034788</td>\n",
       "<td>0.0100218</td>\n",
       "<td>1.4284846</td>\n",
       "<td>0.0018792</td>\n",
       "<td>0.0055956</td>\n",
       "<td>0.2678563</td>\n",
       "<td>0.2652645</td>\n",
       "<td>0.0010022</td>\n",
       "<td>0.9999386</td>\n",
       "<td>-98.9978205</td>\n",
       "<td>42.8484558</td></tr>\n",
       "<tr><td></td>\n",
       "<td>14</td>\n",
       "<td>0.7999985</td>\n",
       "<td>0.0020535</td>\n",
       "<td>0.0004091</td>\n",
       "<td>1.2499768</td>\n",
       "<td>0.0000767</td>\n",
       "<td>0.0026511</td>\n",
       "<td>0.2343841</td>\n",
       "<td>0.2324381</td>\n",
       "<td>0.0000409</td>\n",
       "<td>0.9999795</td>\n",
       "<td>-99.9590947</td>\n",
       "<td>24.9976831</td></tr>\n",
       "<tr><td></td>\n",
       "<td>15</td>\n",
       "<td>0.8999973</td>\n",
       "<td>0.0012848</td>\n",
       "<td>0.0002045</td>\n",
       "<td>1.1111144</td>\n",
       "<td>0.0000384</td>\n",
       "<td>0.0016653</td>\n",
       "<td>0.2083459</td>\n",
       "<td>0.2067969</td>\n",
       "<td>0.0000205</td>\n",
       "<td>1.0</td>\n",
       "<td>-99.9795474</td>\n",
       "<td>11.1114425</td></tr>\n",
       "<tr><td></td>\n",
       "<td>16</td>\n",
       "<td>1.0</td>\n",
       "<td>0.0000457</td>\n",
       "<td>0.0</td>\n",
       "<td>1.0</td>\n",
       "<td>0.0</td>\n",
       "<td>0.0006327</td>\n",
       "<td>0.1875108</td>\n",
       "<td>0.1861799</td>\n",
       "<td>0.0</td>\n",
       "<td>1.0</td>\n",
       "<td>-100.0</td>\n",
       "<td>0.0</td></tr></table></div>"
      ],
      "text/plain": [
       "    group    cumulative_data_fraction    lower_threshold    lift         cumulative_lift    response_rate    score        cumulative_response_rate    cumulative_score    capture_rate    cumulative_capture_rate    gain      cumulative_gain\n",
       "--  -------  --------------------------  -----------------  -----------  -----------------  ---------------  -----------  --------------------------  ------------------  --------------  -------------------------  --------  -----------------\n",
       "    1        0.0100018                   0.997531           5.33303      5.33303            1                0.998457     1                           0.998457            0.0533399       0.0533399                  433.303   433.303\n",
       "    2        0.0200036                   0.994592           5.32485      5.32894            0.998466         0.995956     0.999233                    0.997206            0.0532581       0.106598                   432.485   432.894\n",
       "    3        0.0300016                   0.992736           5.31871      5.32553            0.997315         0.993616     0.998594                    0.99601             0.0531763       0.159774                   431.871   432.553\n",
       "    4        0.0400034                   0.990981           5.32485      5.32536            0.998466         0.991869     0.998562                    0.994974            0.0532581       0.213032                   432.485   432.536\n",
       "    5        0.0500013                   0.988966           5.32075      5.32444            0.997699         0.990015     0.998389                    0.993983            0.0531967       0.266229                   432.075   432.444\n",
       "    6        0.100003                    0.890832           5.27372      5.29908            0.988879         0.964403     0.993634                    0.979193            0.263693        0.529922                   427.372   429.908\n",
       "    7        0.15                        0.487577           3.43986      4.67937            0.64501          0.64471      0.877432                    0.867704            0.171984        0.701906                   243.986   367.937\n",
       "    8        0.200002                    0.320318           2.1818       4.05497            0.409112         0.398081     0.76035                     0.750296            0.109093        0.810999                   118.18    305.497\n",
       "    9        0.3                         0.122632           1.15803      3.08933            0.217143         0.208935     0.579283                    0.569845            0.115802        0.926801                   15.8029   208.933\n",
       "    10       0.399999                    0.0550727          0.465707     2.43343            0.087325         0.0820288    0.456295                    0.447892            0.0465701       0.973371                   -53.4293  143.343\n",
       "    11       0.500002                    0.0289881          0.183862     1.98351            0.0344761        0.0406587    0.371929                    0.366443            0.0183867       0.991758                   -81.6138  98.3508\n",
       "    12       0.600001                    0.00967449         0.0717888    1.66489            0.0134612        0.0190305    0.312185                    0.308542            0.00717879      0.998936                   -92.8211  66.4892\n",
       "    13       0.7                         0.00347879         0.0100218    1.42848            0.00187919       0.00559557   0.267856                    0.265264            0.00100217      0.999939                   -98.9978  42.8485\n",
       "    14       0.799998                    0.00205353         0.000409053  1.24998            7.67018e-05      0.00265106   0.234384                    0.232438            4.09048e-05     0.99998                    -99.9591  24.9977\n",
       "    15       0.899997                    0.00128481         0.000204526  1.11111            3.83509e-05      0.00166528   0.208346                    0.206797            2.04524e-05     1                          -99.9795  11.1114\n",
       "    16       1                           4.56671e-05        0            1                  0                0.000632664  0.187511                    0.18618             0               1                          -100      0"
      ]
     },
     "metadata": {},
     "output_type": "display_data"
    },
    {
     "name": "stdout",
     "output_type": "stream",
     "text": [
      "\n",
      "Cross-Validation Metrics Summary: \n"
     ]
    },
    {
     "data": {
      "text/html": [
       "<div style=\"overflow:auto\"><table style=\"width:50%\"><tr><td><b></b></td>\n",
       "<td><b>mean</b></td>\n",
       "<td><b>sd</b></td>\n",
       "<td><b>cv_1_valid</b></td>\n",
       "<td><b>cv_2_valid</b></td>\n",
       "<td><b>cv_3_valid</b></td>\n",
       "<td><b>cv_4_valid</b></td>\n",
       "<td><b>cv_5_valid</b></td></tr>\n",
       "<tr><td>accuracy</td>\n",
       "<td>0.922835</td>\n",
       "<td>0.0013391</td>\n",
       "<td>0.9210753</td>\n",
       "<td>0.9262143</td>\n",
       "<td>0.9230312</td>\n",
       "<td>0.9228572</td>\n",
       "<td>0.9209971</td></tr>\n",
       "<tr><td>auc</td>\n",
       "<td>0.9638849</td>\n",
       "<td>0.0007797</td>\n",
       "<td>0.9632000</td>\n",
       "<td>0.9654171</td>\n",
       "<td>0.9630066</td>\n",
       "<td>0.9650165</td>\n",
       "<td>0.9627845</td></tr>\n",
       "<tr><td>err</td>\n",
       "<td>0.0771650</td>\n",
       "<td>0.0013391</td>\n",
       "<td>0.0789247</td>\n",
       "<td>0.0737857</td>\n",
       "<td>0.0769688</td>\n",
       "<td>0.0771429</td>\n",
       "<td>0.0790029</td></tr>\n",
       "<tr><td>err_count</td>\n",
       "<td>4024.2</td>\n",
       "<td>69.82607</td>\n",
       "<td>4116.0</td>\n",
       "<td>3848.0</td>\n",
       "<td>4014.0</td>\n",
       "<td>4023.0</td>\n",
       "<td>4120.0</td></tr>\n",
       "<tr><td>f0point5</td>\n",
       "<td>0.8025666</td>\n",
       "<td>0.0077438</td>\n",
       "<td>0.7939445</td>\n",
       "<td>0.8223759</td>\n",
       "<td>0.8053023</td>\n",
       "<td>0.7993802</td>\n",
       "<td>0.79183</td></tr>\n",
       "<tr><td>f1</td>\n",
       "<td>0.7882330</td>\n",
       "<td>0.0023464</td>\n",
       "<td>0.7877038</td>\n",
       "<td>0.7903911</td>\n",
       "<td>0.7894902</td>\n",
       "<td>0.7915004</td>\n",
       "<td>0.7820798</td></tr>\n",
       "<tr><td>f2</td>\n",
       "<td>0.7745979</td>\n",
       "<td>0.0057206</td>\n",
       "<td>0.7815602</td>\n",
       "<td>0.7608012</td>\n",
       "<td>0.7742871</td>\n",
       "<td>0.7837744</td>\n",
       "<td>0.7725667</td></tr>\n",
       "<tr><td>lift_top_group</td>\n",
       "<td>5.333301</td>\n",
       "<td>0.0271518</td>\n",
       "<td>5.3101516</td>\n",
       "<td>5.3356867</td>\n",
       "<td>5.2966685</td>\n",
       "<td>5.3181725</td>\n",
       "<td>5.4058256</td></tr>\n",
       "<tr><td>logloss</td>\n",
       "<td>0.1733658</td>\n",
       "<td>0.0013787</td>\n",
       "<td>0.1755256</td>\n",
       "<td>0.1707146</td>\n",
       "<td>0.1744988</td>\n",
       "<td>0.1713382</td>\n",
       "<td>0.1747518</td></tr>\n",
       "<tr><td>max_per_class_error</td>\n",
       "<td>0.234135</td>\n",
       "<td>0.0092701</td>\n",
       "<td>0.2224824</td>\n",
       "<td>0.2577246</td>\n",
       "<td>0.2355271</td>\n",
       "<td>0.2212931</td>\n",
       "<td>0.2336478</td></tr>\n",
       "<tr><td>mcc</td>\n",
       "<td>0.741796</td>\n",
       "<td>0.0033767</td>\n",
       "<td>0.7393371</td>\n",
       "<td>0.7481604</td>\n",
       "<td>0.7430539</td>\n",
       "<td>0.7443407</td>\n",
       "<td>0.7340882</td></tr>\n",
       "<tr><td>mean_per_class_accuracy</td>\n",
       "<td>0.8624616</td>\n",
       "<td>0.0029655</td>\n",
       "<td>0.8659499</td>\n",
       "<td>0.855457</td>\n",
       "<td>0.8622034</td>\n",
       "<td>0.8674731</td>\n",
       "<td>0.8612247</td></tr>\n",
       "<tr><td>mean_per_class_error</td>\n",
       "<td>0.1375384</td>\n",
       "<td>0.0029655</td>\n",
       "<td>0.1340501</td>\n",
       "<td>0.1445430</td>\n",
       "<td>0.1377967</td>\n",
       "<td>0.1325269</td>\n",
       "<td>0.1387753</td></tr>\n",
       "<tr><td>mse</td>\n",
       "<td>0.0528080</td>\n",
       "<td>0.0004280</td>\n",
       "<td>0.0535343</td>\n",
       "<td>0.0518995</td>\n",
       "<td>0.0530680</td>\n",
       "<td>0.0523171</td>\n",
       "<td>0.0532209</td></tr>\n",
       "<tr><td>precision</td>\n",
       "<td>0.8125451</td>\n",
       "<td>0.0124280</td>\n",
       "<td>0.7981603</td>\n",
       "<td>0.8451770</td>\n",
       "<td>0.8162004</td>\n",
       "<td>0.8047212</td>\n",
       "<td>0.7984664</td></tr>\n",
       "<tr><td>r2</td>\n",
       "<td>0.6533621</td>\n",
       "<td>0.0032161</td>\n",
       "<td>0.6497698</td>\n",
       "<td>0.6592106</td>\n",
       "<td>0.6534976</td>\n",
       "<td>0.6573358</td>\n",
       "<td>0.6469969</td></tr>\n",
       "<tr><td>recall</td>\n",
       "<td>0.765865</td>\n",
       "<td>0.0092701</td>\n",
       "<td>0.7775176</td>\n",
       "<td>0.7422754</td>\n",
       "<td>0.7644729</td>\n",
       "<td>0.7787069</td>\n",
       "<td>0.7663522</td></tr>\n",
       "<tr><td>rmse</td>\n",
       "<td>0.2297960</td>\n",
       "<td>0.0009322</td>\n",
       "<td>0.2313748</td>\n",
       "<td>0.2278147</td>\n",
       "<td>0.2303649</td>\n",
       "<td>0.2287294</td>\n",
       "<td>0.2306964</td></tr>\n",
       "<tr><td>specificity</td>\n",
       "<td>0.9590583</td>\n",
       "<td>0.0036212</td>\n",
       "<td>0.9543822</td>\n",
       "<td>0.9686387</td>\n",
       "<td>0.9599338</td>\n",
       "<td>0.9562394</td>\n",
       "<td>0.9560973</td></tr></table></div>"
      ],
      "text/plain": [
       "                         mean      sd           cv_1_valid    cv_2_valid    cv_3_valid    cv_4_valid    cv_5_valid\n",
       "-----------------------  --------  -----------  ------------  ------------  ------------  ------------  ------------\n",
       "accuracy                 0.922835  0.00133913   0.921075      0.926214      0.923031      0.922857      0.920997\n",
       "auc                      0.963885  0.000779714  0.9632        0.965417      0.963007      0.965017      0.962784\n",
       "err                      0.077165  0.00133913   0.0789247     0.0737857     0.0769688     0.0771429     0.0790029\n",
       "err_count                4024.2    69.8261      4116          3848          4014          4023          4120\n",
       "f0point5                 0.802567  0.00774376   0.793945      0.822376      0.805302      0.79938       0.79183\n",
       "f1                       0.788233  0.00234641   0.787704      0.790391      0.78949       0.7915        0.78208\n",
       "f2                       0.774598  0.00572061   0.78156       0.760801      0.774287      0.783774      0.772567\n",
       "lift_top_group           5.3333    0.0271518    5.31015       5.33569       5.29667       5.31817       5.40583\n",
       "logloss                  0.173366  0.00137875   0.175526      0.170715      0.174499      0.171338      0.174752\n",
       "max_per_class_error      0.234135  0.00927006   0.222482      0.257725      0.235527      0.221293      0.233648\n",
       "mcc                      0.741796  0.00337666   0.739337      0.74816       0.743054      0.744341      0.734088\n",
       "mean_per_class_accuracy  0.862462  0.00296554   0.86595       0.855457      0.862203      0.867473      0.861225\n",
       "mean_per_class_error     0.137538  0.00296554   0.13405       0.144543      0.137797      0.132527      0.138775\n",
       "mse                      0.052808  0.000428     0.0535343     0.0518995     0.053068      0.0523171     0.0532209\n",
       "precision                0.812545  0.012428     0.79816       0.845177      0.8162        0.804721      0.798466\n",
       "r2                       0.653362  0.00321611   0.64977       0.659211      0.653498      0.657336      0.646997\n",
       "recall                   0.765865  0.00927006   0.777518      0.742275      0.764473      0.778707      0.766352\n",
       "rmse                     0.229796  0.000932227  0.231375      0.227815      0.230365      0.228729      0.230696\n",
       "specificity              0.959058  0.00362118   0.954382      0.968639      0.959934      0.956239      0.956097"
      ]
     },
     "metadata": {},
     "output_type": "display_data"
    },
    {
     "name": "stdout",
     "output_type": "stream",
     "text": [
      "Scoring History: \n"
     ]
    },
    {
     "data": {
      "text/html": [
       "<div style=\"overflow:auto\"><table style=\"width:50%\"><tr><td><b></b></td>\n",
       "<td><b>timestamp</b></td>\n",
       "<td><b>duration</b></td>\n",
       "<td><b>number_of_trees</b></td>\n",
       "<td><b>training_rmse</b></td>\n",
       "<td><b>training_logloss</b></td>\n",
       "<td><b>training_auc</b></td>\n",
       "<td><b>training_pr_auc</b></td>\n",
       "<td><b>training_lift</b></td>\n",
       "<td><b>training_classification_error</b></td></tr>\n",
       "<tr><td></td>\n",
       "<td>2019-04-01 19:19:58</td>\n",
       "<td> 9 min 36.982 sec</td>\n",
       "<td>0.0</td>\n",
       "<td>0.3903210</td>\n",
       "<td>0.4825934</td>\n",
       "<td>0.5</td>\n",
       "<td>0.0</td>\n",
       "<td>1.0</td>\n",
       "<td>0.8124892</td></tr>\n",
       "<tr><td></td>\n",
       "<td>2019-04-01 19:20:00</td>\n",
       "<td> 9 min 39.322 sec</td>\n",
       "<td>5.0</td>\n",
       "<td>0.3221087</td>\n",
       "<td>0.3490591</td>\n",
       "<td>0.9314414</td>\n",
       "<td>0.8228374</td>\n",
       "<td>5.3303399</td>\n",
       "<td>0.1048770</td></tr>\n",
       "<tr><td></td>\n",
       "<td>2019-04-01 19:20:02</td>\n",
       "<td> 9 min 41.529 sec</td>\n",
       "<td>10.0</td>\n",
       "<td>0.2811422</td>\n",
       "<td>0.2805046</td>\n",
       "<td>0.9488263</td>\n",
       "<td>0.8599254</td>\n",
       "<td>5.3303792</td>\n",
       "<td>0.0969116</td></tr>\n",
       "<tr><td></td>\n",
       "<td>2019-04-01 19:20:05</td>\n",
       "<td> 9 min 43.743 sec</td>\n",
       "<td>15.0</td>\n",
       "<td>0.2641666</td>\n",
       "<td>0.2495652</td>\n",
       "<td>0.9533991</td>\n",
       "<td>0.8715532</td>\n",
       "<td>5.3330265</td>\n",
       "<td>0.0867219</td></tr>\n",
       "<tr><td></td>\n",
       "<td>2019-04-01 19:20:07</td>\n",
       "<td> 9 min 45.951 sec</td>\n",
       "<td>20.0</td>\n",
       "<td>0.2522064</td>\n",
       "<td>0.2269919</td>\n",
       "<td>0.9552588</td>\n",
       "<td>0.8778788</td>\n",
       "<td>5.3330265</td>\n",
       "<td>0.0818131</td></tr>\n",
       "<tr><td>---</td>\n",
       "<td>---</td>\n",
       "<td>---</td>\n",
       "<td>---</td>\n",
       "<td>---</td>\n",
       "<td>---</td>\n",
       "<td>---</td>\n",
       "<td>---</td>\n",
       "<td>---</td>\n",
       "<td>---</td></tr>\n",
       "<tr><td></td>\n",
       "<td>2019-04-01 19:21:11</td>\n",
       "<td>10 min 50.419 sec</td>\n",
       "<td>155.0</td>\n",
       "<td>0.2121658</td>\n",
       "<td>0.1512994</td>\n",
       "<td>0.9747264</td>\n",
       "<td>0.9092177</td>\n",
       "<td>5.3330265</td>\n",
       "<td>0.0618440</td></tr>\n",
       "<tr><td></td>\n",
       "<td>2019-04-01 19:21:14</td>\n",
       "<td>10 min 52.815 sec</td>\n",
       "<td>160.0</td>\n",
       "<td>0.2115525</td>\n",
       "<td>0.1504827</td>\n",
       "<td>0.9750835</td>\n",
       "<td>0.9094480</td>\n",
       "<td>5.3330265</td>\n",
       "<td>0.0610118</td></tr>\n",
       "<tr><td></td>\n",
       "<td>2019-04-01 19:21:16</td>\n",
       "<td>10 min 55.298 sec</td>\n",
       "<td>165.0</td>\n",
       "<td>0.2108446</td>\n",
       "<td>0.1495469</td>\n",
       "<td>0.9754697</td>\n",
       "<td>0.9103449</td>\n",
       "<td>5.3330265</td>\n",
       "<td>0.0609619</td></tr>\n",
       "<tr><td></td>\n",
       "<td>2019-04-01 19:21:18</td>\n",
       "<td>10 min 57.656 sec</td>\n",
       "<td>170.0</td>\n",
       "<td>0.2104677</td>\n",
       "<td>0.1490212</td>\n",
       "<td>0.9756577</td>\n",
       "<td>0.9088034</td>\n",
       "<td>5.3330265</td>\n",
       "<td>0.0607471</td></tr>\n",
       "<tr><td></td>\n",
       "<td>2019-04-01 19:21:20</td>\n",
       "<td>10 min 59.553 sec</td>\n",
       "<td>174.0</td>\n",
       "<td>0.2100604</td>\n",
       "<td>0.1484821</td>\n",
       "<td>0.9758751</td>\n",
       "<td>0.9097556</td>\n",
       "<td>5.3330265</td>\n",
       "<td>0.0602754</td></tr></table></div>"
      ],
      "text/plain": [
       "     timestamp            duration           number_of_trees    training_rmse        training_logloss     training_auc        training_pr_auc     training_lift      training_classification_error\n",
       "---  -------------------  -----------------  -----------------  -------------------  -------------------  ------------------  ------------------  -----------------  -------------------------------\n",
       "     2019-04-01 19:19:58  9 min 36.982 sec   0.0                0.3903210104223659   0.4825933808088175   0.5                 0.0                 1.0                0.8124892139304246\n",
       "     2019-04-01 19:20:00  9 min 39.322 sec   5.0                0.3221086510345878   0.34905908628724985  0.93144140789199    0.8228374104068121  5.330339883976636  0.10487702921922279\n",
       "     2019-04-01 19:20:02  9 min 41.529 sec   10.0               0.2811422124196773   0.28050460169500546  0.9488262674148559  0.8599254131164396  5.330379227022462  0.09691163668299119\n",
       "     2019-04-01 19:20:05  9 min 43.743 sec   15.0               0.26416661685881404  0.2495651774712035   0.953399075832156   0.8715531608819147  5.333026547224609  0.08672191690987256\n",
       "     2019-04-01 19:20:07  9 min 45.951 sec   20.0               0.25220640308929954  0.22699191969578245  0.9552587560371352  0.8778788122261922  5.333026547224609  0.08181305680088052\n",
       "---  ---                  ---                ---                ---                  ---                  ---                 ---                 ---                ---\n",
       "     2019-04-01 19:21:11  10 min 50.419 sec  155.0              0.2121657805291751   0.1512994040219014   0.9747263572721291  0.9092177348522472  5.333026547224609  0.06184396727937934\n",
       "     2019-04-01 19:21:14  10 min 52.815 sec  160.0              0.21155254285750522  0.150482653813162    0.9750834974625523  0.9094480162609448  5.333026547224609  0.06101176208902678\n",
       "     2019-04-01 19:21:16  10 min 55.298 sec  165.0              0.21084456256601905  0.14954691836336007  0.9754697074127114  0.9103448540312714  5.333026547224609  0.06096190647854483\n",
       "     2019-04-01 19:21:18  10 min 57.656 sec  170.0              0.21046774427239015  0.14902121910248586  0.9756576724001943  0.9088034146309147  5.333026547224609  0.06074714384877643\n",
       "     2019-04-01 19:21:20  10 min 59.553 sec  174.0              0.21006038102737032  0.14848211742305967  0.9758751240942827  0.909755557491706   5.333026547224609  0.06027543307267798"
      ]
     },
     "metadata": {},
     "output_type": "display_data"
    },
    {
     "name": "stdout",
     "output_type": "stream",
     "text": [
      "\n",
      "See the whole table with table.as_data_frame()\n",
      "Variable Importances: \n"
     ]
    },
    {
     "data": {
      "text/html": [
       "<div style=\"overflow:auto\"><table style=\"width:50%\"><tr><td><b>variable</b></td>\n",
       "<td><b>relative_importance</b></td>\n",
       "<td><b>scaled_importance</b></td>\n",
       "<td><b>percentage</b></td></tr>\n",
       "<tr><td>SalesField5</td>\n",
       "<td>29626.6347656</td>\n",
       "<td>1.0</td>\n",
       "<td>0.2474339</td></tr>\n",
       "<tr><td>PropertyField37</td>\n",
       "<td>29068.9843750</td>\n",
       "<td>0.9811774</td>\n",
       "<td>0.2427765</td></tr>\n",
       "<tr><td>PersonalField9</td>\n",
       "<td>6456.6596680</td>\n",
       "<td>0.2179343</td>\n",
       "<td>0.0539243</td></tr>\n",
       "<tr><td>PersonalField2</td>\n",
       "<td>5854.2363281</td>\n",
       "<td>0.1976004</td>\n",
       "<td>0.0488930</td></tr>\n",
       "<tr><td>PersonalField1</td>\n",
       "<td>5749.0659180</td>\n",
       "<td>0.1940506</td>\n",
       "<td>0.0480147</td></tr>\n",
       "<tr><td>---</td>\n",
       "<td>---</td>\n",
       "<td>---</td>\n",
       "<td>---</td></tr>\n",
       "<tr><td>PropertyField5</td>\n",
       "<td>0.0</td>\n",
       "<td>0.0</td>\n",
       "<td>0.0</td></tr>\n",
       "<tr><td>PropertyField20</td>\n",
       "<td>0.0</td>\n",
       "<td>0.0</td>\n",
       "<td>0.0</td></tr>\n",
       "<tr><td>GeographicField5A</td>\n",
       "<td>0.0</td>\n",
       "<td>0.0</td>\n",
       "<td>0.0</td></tr>\n",
       "<tr><td>GeographicField10B</td>\n",
       "<td>0.0</td>\n",
       "<td>0.0</td>\n",
       "<td>0.0</td></tr>\n",
       "<tr><td>GeographicField23A</td>\n",
       "<td>0.0</td>\n",
       "<td>0.0</td>\n",
       "<td>0.0</td></tr></table></div>"
      ],
      "text/plain": [
       "variable            relative_importance    scaled_importance    percentage\n",
       "------------------  ---------------------  -------------------  --------------------\n",
       "SalesField5         29626.634765625        1.0                  0.24743385499341355\n",
       "PropertyField37     29068.984375           0.9811773967905384   0.24277650572028506\n",
       "PersonalField9      6456.65966796875       0.21793429186430047  0.05392432197124359\n",
       "PersonalField2      5854.236328125         0.19760044886763567  0.048893040811747994\n",
       "PersonalField1      5749.06591796875       0.19405058871685416  0.04801468522995263\n",
       "---                 ---                    ---                  ---\n",
       "PropertyField5      0.0                    0.0                  0.0\n",
       "PropertyField20     0.0                    0.0                  0.0\n",
       "GeographicField5A   0.0                    0.0                  0.0\n",
       "GeographicField10B  0.0                    0.0                  0.0\n",
       "GeographicField23A  0.0                    0.0                  0.0"
      ]
     },
     "metadata": {},
     "output_type": "display_data"
    },
    {
     "name": "stdout",
     "output_type": "stream",
     "text": [
      "\n",
      "See the whole table with table.as_data_frame()\n",
      "<bound method ModelBase.gini of >\n"
     ]
    }
   ],
   "source": [
    "print(mod_best1.gini)"
   ]
  },
  {
   "cell_type": "code",
   "execution_count": 107,
   "metadata": {
    "scrolled": true
   },
   "outputs": [
    {
     "data": {
      "text/plain": [
       "0.9857477574968263"
      ]
     },
     "execution_count": 107,
     "metadata": {},
     "output_type": "execute_result"
    }
   ],
   "source": [
    "mod_best2=h2o.get_model(model_set[1])\n",
    "mod_best2.auc()"
   ]
  },
  {
   "cell_type": "code",
   "execution_count": 108,
   "metadata": {
    "scrolled": false
   },
   "outputs": [
    {
     "data": {
      "text/plain": [
       "'stackedensemble'"
      ]
     },
     "execution_count": 108,
     "metadata": {},
     "output_type": "execute_result"
    }
   ],
   "source": [
    "mod_best2.algo"
   ]
  },
  {
   "cell_type": "code",
   "execution_count": 151,
   "metadata": {
    "scrolled": false
   },
   "outputs": [
    {
     "data": {
      "text/plain": [
       "[\"model_id = {'__meta': {'schema_version': 3, 'schema_name': 'ModelKeyV3', 'schema_type': 'Key<Model>'}, 'name': 'StackedEnsemble_BestOfFamily_AutoML_20190401_183123', 'type': 'Key<Model>', 'URL': '/3/Models/StackedEnsemble_BestOfFamily_AutoML_20190401_183123'}\",\n",
       " \"training_frame = {'__meta': {'schema_version': 3, 'schema_name': 'FrameKeyV3', 'schema_type': 'Key<Frame>'}, 'name': 'automl_training_py_1_sid_9c47', 'type': 'Key<Frame>', 'URL': '/3/Frames/automl_training_py_1_sid_9c47'}\",\n",
       " \"response_column = {'__meta': {'schema_version': 3, 'schema_name': 'ColSpecifierV3', 'schema_type': 'VecSpecifier'}, 'column_name': 'QuoteConversion_Flag', 'is_member_of_frames': None}\",\n",
       " 'validation_frame = None',\n",
       " \"base_models = [{'__meta': {'schema_version': 3, 'schema_name': 'ModelKeyV3', 'schema_type': 'Key<Model>'}, 'name': 'GBM_1_AutoML_20190401_183123', 'type': 'Key<Model>', 'URL': '/3/Models/GBM_1_AutoML_20190401_183123'}, {'__meta': {'schema_version': 3, 'schema_name': 'ModelKeyV3', 'schema_type': 'Key<Model>'}, 'name': 'DRF_1_AutoML_20190401_183123', 'type': 'Key<Model>', 'URL': '/3/Models/DRF_1_AutoML_20190401_183123'}, {'__meta': {'schema_version': 3, 'schema_name': 'ModelKeyV3', 'schema_type': 'Key<Model>'}, 'name': 'XRT_1_AutoML_20190401_183123', 'type': 'Key<Model>', 'URL': '/3/Models/XRT_1_AutoML_20190401_183123'}, {'__meta': {'schema_version': 3, 'schema_name': 'ModelKeyV3', 'schema_type': 'Key<Model>'}, 'name': 'GLM_grid_1_AutoML_20190401_183123_model_1', 'type': 'Key<Model>', 'URL': '/3/Models/GLM_grid_1_AutoML_20190401_183123_model_1'}]\",\n",
       " 'metalearner_algorithm = AUTO',\n",
       " 'metalearner_nfolds = 5',\n",
       " 'metalearner_fold_assignment = None',\n",
       " 'metalearner_fold_column = None',\n",
       " 'keep_levelone_frame = True',\n",
       " 'metalearner_params = ',\n",
       " 'seed = 27',\n",
       " 'export_checkpoints_dir = None']"
      ]
     },
     "execution_count": 151,
     "metadata": {},
     "output_type": "execute_result"
    }
   ],
   "source": [
    "params_list = []\n",
    "for key, value in mod_best2.params.items():\n",
    "    params_list.append(str(key)+\" = \"+str(value['actual']))\n",
    "params_list"
   ]
  },
  {
   "cell_type": "code",
   "execution_count": 250,
   "metadata": {
    "scrolled": true
   },
   "outputs": [],
   "source": [
    "# pred_H2O_stackedensemble = mod_best2.predict(H2O_test)"
   ]
  },
  {
   "cell_type": "markdown",
   "metadata": {},
   "source": [
    "#### Save Models"
   ]
  },
  {
   "cell_type": "code",
   "execution_count": 121,
   "metadata": {},
   "outputs": [
    {
     "data": {
      "text/plain": [
       "'C:\\\\Users\\\\kaila\\\\OneDrive\\\\Desktop\\\\DSMT\\\\Assignment_3_KaggleCompetition\\\\homesite-quote-conversion\\\\bestModel2.csv\\\\GBM_1_AutoML_20190401_183123'"
      ]
     },
     "execution_count": 121,
     "metadata": {},
     "output_type": "execute_result"
    }
   ],
   "source": [
    "# uncomment if you want to export the best model\n",
    "h2o.save_model(mod_best1, \"C://Users//kaila//OneDrive//Desktop//DSMT//Assignment_3_KaggleCompetition//homesite-quote-conversion//bestModel2.csv\", force=True)"
   ]
  },
  {
   "cell_type": "code",
   "execution_count": 122,
   "metadata": {},
   "outputs": [
    {
     "name": "stdout",
     "output_type": "stream",
     "text": [
      "Export File progress: |███████████████████████████████████████████████████| 100%\n"
     ]
    }
   ],
   "source": [
    "h2o.export_file(pred_H2O, \"/tmp/bestPreds1.csv\", force=True)"
   ]
  },
  {
   "cell_type": "markdown",
   "metadata": {},
   "source": [
    "#### 2nd Iteration"
   ]
  },
  {
   "cell_type": "code",
   "execution_count": null,
   "metadata": {},
   "outputs": [],
   "source": [
    "aml2 = H2OAutoML(max_runtime_secs=7200, seed=27)"
   ]
  },
  {
   "cell_type": "code",
   "execution_count": null,
   "metadata": {},
   "outputs": [],
   "source": [
    "model_start_time = time.time()\n",
    "aml2.train(x=predictors, y=Target, training_frame=H2O_train)"
   ]
  },
  {
   "cell_type": "code",
   "execution_count": null,
   "metadata": {},
   "outputs": [],
   "source": [
    "meta_data={}\n",
    "meta_data['model_execution_time'] = {\"classification\":(time.time() - model_start_time)}\n",
    "meta_data"
   ]
  },
  {
   "cell_type": "code",
   "execution_count": null,
   "metadata": {},
   "outputs": [],
   "source": [
    "# View the AutoML Leaderboard\n",
    "lb = aml.leaderboard\n",
    "lb.head(rows=lb.nrows) "
   ]
  },
  {
   "cell_type": "code",
   "execution_count": null,
   "metadata": {},
   "outputs": [],
   "source": [
    "aml_leaderboard_df=aml.leaderboard.as_data_frame()\n",
    "model_set1=aml_leaderboard_df['model_id']\n",
    "mod_best1=h2o.get_model(model_set1[0])"
   ]
  },
  {
   "cell_type": "code",
   "execution_count": null,
   "metadata": {},
   "outputs": [],
   "source": [
    "print(mod_best1.auc())"
   ]
  },
  {
   "cell_type": "code",
   "execution_count": null,
   "metadata": {},
   "outputs": [],
   "source": [
    "print(mod_best1.algo)"
   ]
  },
  {
   "cell_type": "code",
   "execution_count": null,
   "metadata": {},
   "outputs": [],
   "source": [
    "print(mod_best1.model_id)"
   ]
  },
  {
   "cell_type": "code",
   "execution_count": null,
   "metadata": {},
   "outputs": [],
   "source": [
    "print(np.array(mod_best1.params))"
   ]
  },
  {
   "cell_type": "code",
   "execution_count": null,
   "metadata": {},
   "outputs": [],
   "source": [
    "print(mod_best1.gini)"
   ]
  },
  {
   "cell_type": "code",
   "execution_count": null,
   "metadata": {},
   "outputs": [],
   "source": [
    "aml_leaderboard_df"
   ]
  },
  {
   "cell_type": "code",
   "execution_count": null,
   "metadata": {},
   "outputs": [],
   "source": []
  },
  {
   "cell_type": "code",
   "execution_count": null,
   "metadata": {},
   "outputs": [],
   "source": []
  },
  {
   "cell_type": "markdown",
   "metadata": {},
   "source": [
    "#### GBM"
   ]
  },
  {
   "cell_type": "code",
   "execution_count": 124,
   "metadata": {},
   "outputs": [],
   "source": [
    "X_train = homesite_df.drop(\"QuoteConversion_Flag\",axis=1)\n",
    "Y_train = homesite_df[\"QuoteConversion_Flag\"]\n",
    "X_test  = test_df.drop(\"QuoteNumber\",axis=1).copy()"
   ]
  },
  {
   "cell_type": "code",
   "execution_count": 125,
   "metadata": {
    "scrolled": true
   },
   "outputs": [],
   "source": [
    "X_train_sub, X_validation_sub, y_train_sub, y_validation_sub = train_test_split(X_train, Y_train, random_state=20)"
   ]
  },
  {
   "cell_type": "code",
   "execution_count": 126,
   "metadata": {},
   "outputs": [],
   "source": [
    "from sklearn.ensemble import GradientBoostingClassifier\n",
    "classifiers = [GradientBoostingClassifier()]"
   ]
  },
  {
   "cell_type": "code",
   "execution_count": 127,
   "metadata": {},
   "outputs": [
    {
     "name": "stdout",
     "output_type": "stream",
     "text": [
      "[GradientBoostingClassifier(criterion='friedman_mse', init=None,\n",
      "              learning_rate=0.1, loss='deviance', max_depth=3,\n",
      "              max_features=None, max_leaf_nodes=None,\n",
      "              min_impurity_decrease=0.0, min_impurity_split=None,\n",
      "              min_samples_leaf=1, min_samples_split=2,\n",
      "              min_weight_fraction_leaf=0.0, n_estimators=100,\n",
      "              n_iter_no_change=None, presort='auto', random_state=None,\n",
      "              subsample=1.0, tol=0.0001, validation_fraction=0.1,\n",
      "              verbose=0, warm_start=False)]\n"
     ]
    }
   ],
   "source": [
    "print(classifiers)"
   ]
  },
  {
   "cell_type": "code",
   "execution_count": 128,
   "metadata": {},
   "outputs": [
    {
     "name": "stdout",
     "output_type": "stream",
     "text": [
      "<class 'sklearn.ensemble.gradient_boosting.GradientBoostingClassifier'>\n",
      "accuracy_score1: 0.9219807022657197\n",
      "log_loss1: 0.1905459699232268\n"
     ]
    }
   ],
   "source": [
    "for classifier in classifiers:\n",
    "    homesite_log = classifier \n",
    "    homesite_log.fit(X_train_sub, y_train_sub)\n",
    "\n",
    "    show_validation = True\n",
    "\n",
    "    if (show_validation == True):\n",
    "        y_probs = homesite_log.predict_proba(X_validation_sub)\n",
    "        y_pred = homesite_log.predict(X_validation_sub)\n",
    "        print(type(classifier))\n",
    "        print(\"accuracy_score1:\", accuracy_score(y_validation_sub, y_pred))\n",
    "        print(\"log_loss1:\", log_loss(y_validation_sub, y_probs))\n",
    "    \n",
    "    elif (show_validation == False):\n",
    "        y_probs = homesite_log.predict_proba(X_train_sub)\n",
    "        y_pred = homesite_log.predict(X_train_sub)\n",
    "        print(type(classifier))\n",
    "        print(\"accuracy_score:\", accuracy_score(y_train_sub, y_pred))\n",
    "        print(\"log_loss:\", log_loss(y_train_sub, y_probs))"
   ]
  },
  {
   "cell_type": "code",
   "execution_count": 129,
   "metadata": {},
   "outputs": [],
   "source": [
    "def modelfit(alg, dtrain, predictors, performCV=True, printFeatureImportance=True, cv_folds=5):\n",
    "    #Fit the algorithm on the data\n",
    "    alg.fit(dtrain[predictors], dtrain['QuoteConversion_Flag'])\n",
    "        \n",
    "    #Predict training set:\n",
    "    dtrain_predictions = alg.predict(dtrain[predictors])\n",
    "    dtrain_predprob = alg.predict_proba(dtrain[predictors])[:,1]\n",
    "    \n",
    "    #Perform cross-validation:\n",
    "    if performCV:\n",
    "        cv_score = cross_val_score(alg, dtrain[predictors], dtrain['QuoteConversion_Flag'], cv=cv_folds, scoring='roc_auc')\n",
    "    \n",
    "    #Print model report:\n",
    "    print (\"\\nModel Report\")\n",
    "    print (\"Accuracy : %.4g\" % metrics.accuracy_score(dtrain['QuoteConversion_Flag'].values, dtrain_predictions))\n",
    "    print (\"AUC Score (Train): %f\" % metrics.roc_auc_score(dtrain['QuoteConversion_Flag'], dtrain_predprob))\n",
    "    \n",
    "    if performCV:\n",
    "        print (\"CV Score : Mean - %.7g | Std - %.7g | Min - %.7g | Max - %.7g\" % (np.mean(cv_score),np.std(cv_score),np.min(cv_score),np.max(cv_score)))\n",
    "        \n",
    "    #Print Feature Importance:\n",
    "    if printFeatureImportance:\n",
    "        feat_imp = pd.Series(alg.feature_importances_, predictors).sort_values(ascending=False)\n",
    "        feat_imp.plot(kind='bar', title='Feature Importances',figsize=(20,12))\n",
    "        plt.ylabel('Feature Importance Score')"
   ]
  },
  {
   "cell_type": "code",
   "execution_count": 130,
   "metadata": {},
   "outputs": [
    {
     "name": "stdout",
     "output_type": "stream",
     "text": [
      "\n",
      "Model Report\n",
      "Accuracy : 0.9232\n",
      "AUC Score (Train): 0.959501\n",
      "CV Score : Mean - 0.9592153 | Std - 0.0009584875 | Min - 0.9575986 | Max - 0.9605393\n"
     ]
    },
    {
     "data": {
      "image/png": "[encoded data removed]",
      "text/plain": [
       "<Figure size 432x288 with 1 Axes>"
      ]
     },
     "metadata": {
      "needs_background": "light"
     },
     "output_type": "display_data"
    }
   ],
   "source": [
    "#Choose all predictors except target & IDcols\n",
    "target='QuoteConversion_Flag'\n",
    "predictors = [x for x in homesite_df.columns if x not in [target]]\n",
    "gbm0 = GradientBoostingClassifier(random_state=10)\n",
    "modelfit(gbm0, homesite_df, predictors)"
   ]
  },
  {
   "cell_type": "code",
   "execution_count": 131,
   "metadata": {},
   "outputs": [
    {
     "data": {
      "text/plain": [
       "array([0, 0, 0, ..., 1, 0, 0], dtype=int64)"
      ]
     },
     "execution_count": 131,
     "metadata": {},
     "output_type": "execute_result"
    }
   ],
   "source": [
    "gbm0.predict(X_test)"
   ]
  },
  {
   "cell_type": "code",
   "execution_count": 134,
   "metadata": {},
   "outputs": [],
   "source": [
    "gbm_proba=gbm0.predict_proba(X_test)"
   ]
  },
  {
   "cell_type": "code",
   "execution_count": 135,
   "metadata": {},
   "outputs": [],
   "source": [
    "sub = pd.DataFrame(columns=['QuoteNumber','QuoteConversion_Flag'])\n",
    "sub['QuoteNumber'] = test_df.QuoteNumber\n",
    "sub['QuoteConversion_Flag'] = gbm_proba"
   ]
  },
  {
   "cell_type": "code",
   "execution_count": 136,
   "metadata": {},
   "outputs": [
    {
     "name": "stdout",
     "output_type": "stream",
     "text": [
      "Saved file: Predictions_GBM1.csv\n"
     ]
    }
   ],
   "source": [
    "subfile = 'Predictions_GBM1.csv'\n",
    "sub.to_csv(subfile,index=False)\n",
    "print('Saved file: ' + subfile)"
   ]
  },
  {
   "cell_type": "markdown",
   "metadata": {},
   "source": [
    "### XGBoost Using H20"
   ]
  },
  {
   "cell_type": "code",
   "execution_count": null,
   "metadata": {},
   "outputs": [],
   "source": []
  },
  {
   "cell_type": "code",
   "execution_count": null,
   "metadata": {},
   "outputs": [],
   "source": []
  },
  {
   "cell_type": "code",
   "execution_count": null,
   "metadata": {},
   "outputs": [],
   "source": []
  },
  {
   "cell_type": "code",
   "execution_count": null,
   "metadata": {},
   "outputs": [],
   "source": []
  },
  {
   "cell_type": "markdown",
   "metadata": {},
   "source": [
    "### Stack Ensembled USing H2O"
   ]
  },
  {
   "cell_type": "code",
   "execution_count": 213,
   "metadata": {},
   "outputs": [
    {
     "name": "stdout",
     "output_type": "stream",
     "text": [
      "Parse progress: |█████████████████████████████████████████████████████████| 100%\n",
      "Parse progress: |█████████████████████████████████████████████████████████| 100%\n"
     ]
    }
   ],
   "source": [
    "train = h2o.import_file(\"train.csv\")\n",
    "test = h2o.import_file(\"test.csv\")"
   ]
  },
  {
   "cell_type": "code",
   "execution_count": 215,
   "metadata": {},
   "outputs": [],
   "source": [
    "# Identify predictors and response\n",
    "x = train.columns\n",
    "y = \"QuoteConversion_Flag\"\n",
    "x.remove(y)"
   ]
  },
  {
   "cell_type": "code",
   "execution_count": 216,
   "metadata": {},
   "outputs": [],
   "source": [
    "# For binary classification, response should be a factor\n",
    "train[y] = train[y].asfactor()\n",
    "# test[y] = test[y].asfactor()"
   ]
  },
  {
   "cell_type": "code",
   "execution_count": 217,
   "metadata": {},
   "outputs": [],
   "source": [
    "# Number of CV folds (to generate level-one data for stacking)\n",
    "nfolds = 5"
   ]
  },
  {
   "cell_type": "code",
   "execution_count": 218,
   "metadata": {},
   "outputs": [
    {
     "name": "stdout",
     "output_type": "stream",
     "text": [
      "gbm Model Build progress: |███████████████████████████████████████████████| 100%\n"
     ]
    }
   ],
   "source": [
    "# Train and cross-validate a GBM\n",
    "my_gbm = H2OGradientBoostingEstimator(distribution=\"bernoulli\",\n",
    "                                      ntrees=100,\n",
    "                                      max_depth=7,\n",
    "                                      min_rows=5,\n",
    "                                      learn_rate=0.2,\n",
    "                                      nfolds=nfolds,\n",
    "                                      fold_assignment=\"Modulo\",\n",
    "                                      keep_cross_validation_predictions=True,\n",
    "                                      seed=27)\n",
    "my_gbm.train(x=x, y=y, training_frame=train)"
   ]
  },
  {
   "cell_type": "code",
   "execution_count": 219,
   "metadata": {},
   "outputs": [
    {
     "name": "stdout",
     "output_type": "stream",
     "text": [
      "drf Model Build progress: |███████████████████████████████████████████████| 100%\n"
     ]
    }
   ],
   "source": [
    "# Train and cross-validate a RF\n",
    "my_rf = H2ORandomForestEstimator(ntrees=100,\n",
    "                                 nfolds=nfolds,\n",
    "                                 fold_assignment=\"Modulo\",\n",
    "                                 keep_cross_validation_predictions=True,\n",
    "                                 seed=27)\n",
    "my_rf.train(x=x, y=y, training_frame=train)"
   ]
  },
  {
   "cell_type": "code",
   "execution_count": 220,
   "metadata": {},
   "outputs": [
    {
     "name": "stdout",
     "output_type": "stream",
     "text": [
      "stackedensemble Model Build progress: |███████████████████████████████████| 100%\n"
     ]
    }
   ],
   "source": [
    "# Train a stacked ensemble using the GBM and GLM above\n",
    "ensemble = H2OStackedEnsembleEstimator(model_id=\"my_ensemble_binomial\",\n",
    "                                       base_models=[my_gbm, my_rf])\n",
    "ensemble.train(x=x, y=y, training_frame=train)"
   ]
  },
  {
   "cell_type": "code",
   "execution_count": 221,
   "metadata": {},
   "outputs": [],
   "source": [
    "# Eval ensemble performance on the test data\n",
    "perf_stack_test = ensemble.model_performance(train)"
   ]
  },
  {
   "cell_type": "code",
   "execution_count": 222,
   "metadata": {},
   "outputs": [
    {
     "name": "stdout",
     "output_type": "stream",
     "text": [
      "\n",
      "ModelMetricsBinomialGLM: stackedensemble\n",
      "** Reported on test data. **\n",
      "\n",
      "MSE: 0.02595822341584187\n",
      "RMSE: 0.1611155591984892\n",
      "LogLoss: 0.09983947514565716\n",
      "Null degrees of freedom: 260752\n",
      "Residual degrees of freedom: 260750\n",
      "Null deviance: 251675.34365208313\n",
      "Residual deviance: 52066.88532531109\n",
      "AIC: 52072.88532531109\n",
      "AUC: 0.9922392124850552\n",
      "pr_auc: 0.9367097620052114\n",
      "Gini: 0.9844784249701104\n",
      "Confusion Matrix (Act/Pred) for max f1 @ threshold = 0.4282448308481734: \n"
     ]
    },
    {
     "data": {
      "text/html": [
       "<div style=\"overflow:auto\"><table style=\"width:50%\"><tr><td><b></b></td>\n",
       "<td><b>0</b></td>\n",
       "<td><b>1</b></td>\n",
       "<td><b>Error</b></td>\n",
       "<td><b>Rate</b></td></tr>\n",
       "<tr><td>0</td>\n",
       "<td>208855.0</td>\n",
       "<td>3004.0</td>\n",
       "<td>0.0142</td>\n",
       "<td> (3004.0/211859.0)</td></tr>\n",
       "<tr><td>1</td>\n",
       "<td>5700.0</td>\n",
       "<td>43194.0</td>\n",
       "<td>0.1166</td>\n",
       "<td> (5700.0/48894.0)</td></tr>\n",
       "<tr><td>Total</td>\n",
       "<td>214555.0</td>\n",
       "<td>46198.0</td>\n",
       "<td>0.0334</td>\n",
       "<td> (8704.0/260753.0)</td></tr></table></div>"
      ],
      "text/plain": [
       "       0       1      Error    Rate\n",
       "-----  ------  -----  -------  -----------------\n",
       "0      208855  3004   0.0142   (3004.0/211859.0)\n",
       "1      5700    43194  0.1166   (5700.0/48894.0)\n",
       "Total  214555  46198  0.0334   (8704.0/260753.0)"
      ]
     },
     "metadata": {},
     "output_type": "display_data"
    },
    {
     "name": "stdout",
     "output_type": "stream",
     "text": [
      "Maximum Metrics: Maximum metrics at their respective thresholds\n",
      "\n"
     ]
    },
    {
     "data": {
      "text/html": [
       "<div style=\"overflow:auto\"><table style=\"width:50%\"><tr><td><b>metric</b></td>\n",
       "<td><b>threshold</b></td>\n",
       "<td><b>value</b></td>\n",
       "<td><b>idx</b></td></tr>\n",
       "<tr><td>max f1</td>\n",
       "<td>0.4282448</td>\n",
       "<td>0.9084676</td>\n",
       "<td>197.0</td></tr>\n",
       "<tr><td>max f2</td>\n",
       "<td>0.1817429</td>\n",
       "<td>0.9168274</td>\n",
       "<td>282.0</td></tr>\n",
       "<tr><td>max f0point5</td>\n",
       "<td>0.6444449</td>\n",
       "<td>0.9416620</td>\n",
       "<td>132.0</td></tr>\n",
       "<tr><td>max accuracy</td>\n",
       "<td>0.4601008</td>\n",
       "<td>0.9667195</td>\n",
       "<td>186.0</td></tr>\n",
       "<tr><td>max precision</td>\n",
       "<td>0.9927700</td>\n",
       "<td>1.0</td>\n",
       "<td>0.0</td></tr>\n",
       "<tr><td>max recall</td>\n",
       "<td>0.0248174</td>\n",
       "<td>1.0</td>\n",
       "<td>378.0</td></tr>\n",
       "<tr><td>max specificity</td>\n",
       "<td>0.9927700</td>\n",
       "<td>1.0</td>\n",
       "<td>0.0</td></tr>\n",
       "<tr><td>max absolute_mcc</td>\n",
       "<td>0.4369486</td>\n",
       "<td>0.8887489</td>\n",
       "<td>194.0</td></tr>\n",
       "<tr><td>max min_per_class_accuracy</td>\n",
       "<td>0.1895768</td>\n",
       "<td>0.9482145</td>\n",
       "<td>279.0</td></tr>\n",
       "<tr><td>max mean_per_class_accuracy</td>\n",
       "<td>0.2053486</td>\n",
       "<td>0.9484126</td>\n",
       "<td>273.0</td></tr></table></div>"
      ],
      "text/plain": [
       "metric                       threshold    value     idx\n",
       "---------------------------  -----------  --------  -----\n",
       "max f1                       0.428245     0.908468  197\n",
       "max f2                       0.181743     0.916827  282\n",
       "max f0point5                 0.644445     0.941662  132\n",
       "max accuracy                 0.460101     0.966719  186\n",
       "max precision                0.99277      1         0\n",
       "max recall                   0.0248174    1         378\n",
       "max specificity              0.99277      1         0\n",
       "max absolute_mcc             0.436949     0.888749  194\n",
       "max min_per_class_accuracy   0.189577     0.948215  279\n",
       "max mean_per_class_accuracy  0.205349     0.948413  273"
      ]
     },
     "metadata": {},
     "output_type": "display_data"
    },
    {
     "name": "stdout",
     "output_type": "stream",
     "text": [
      "Gains/Lift Table: Avg response rate: 18.75 %, avg score: 19.19 %\n",
      "\n"
     ]
    },
    {
     "data": {
      "text/html": [
       "<div style=\"overflow:auto\"><table style=\"width:50%\"><tr><td><b></b></td>\n",
       "<td><b>group</b></td>\n",
       "<td><b>cumulative_data_fraction</b></td>\n",
       "<td><b>lower_threshold</b></td>\n",
       "<td><b>lift</b></td>\n",
       "<td><b>cumulative_lift</b></td>\n",
       "<td><b>response_rate</b></td>\n",
       "<td><b>score</b></td>\n",
       "<td><b>cumulative_response_rate</b></td>\n",
       "<td><b>cumulative_score</b></td>\n",
       "<td><b>capture_rate</b></td>\n",
       "<td><b>cumulative_capture_rate</b></td>\n",
       "<td><b>gain</b></td>\n",
       "<td><b>cumulative_gain</b></td></tr>\n",
       "<tr><td></td>\n",
       "<td>1</td>\n",
       "<td>0.0100018</td>\n",
       "<td>0.9917365</td>\n",
       "<td>5.3330265</td>\n",
       "<td>5.3330265</td>\n",
       "<td>1.0</td>\n",
       "<td>0.9925710</td>\n",
       "<td>1.0</td>\n",
       "<td>0.9925710</td>\n",
       "<td>0.0533399</td>\n",
       "<td>0.0533399</td>\n",
       "<td>433.3026547</td>\n",
       "<td>433.3026547</td></tr>\n",
       "<tr><td></td>\n",
       "<td>2</td>\n",
       "<td>0.0200036</td>\n",
       "<td>0.9903173</td>\n",
       "<td>5.3330265</td>\n",
       "<td>5.3330265</td>\n",
       "<td>1.0</td>\n",
       "<td>0.9910039</td>\n",
       "<td>1.0</td>\n",
       "<td>0.9917875</td>\n",
       "<td>0.0533399</td>\n",
       "<td>0.1066798</td>\n",
       "<td>433.3026547</td>\n",
       "<td>433.3026547</td></tr>\n",
       "<tr><td></td>\n",
       "<td>3</td>\n",
       "<td>0.0300016</td>\n",
       "<td>0.9891350</td>\n",
       "<td>5.3330265</td>\n",
       "<td>5.3330265</td>\n",
       "<td>1.0</td>\n",
       "<td>0.9897254</td>\n",
       "<td>1.0</td>\n",
       "<td>0.9911003</td>\n",
       "<td>0.0533194</td>\n",
       "<td>0.1599992</td>\n",
       "<td>433.3026547</td>\n",
       "<td>433.3026547</td></tr>\n",
       "<tr><td></td>\n",
       "<td>4</td>\n",
       "<td>0.0400034</td>\n",
       "<td>0.9877502</td>\n",
       "<td>5.3330265</td>\n",
       "<td>5.3330265</td>\n",
       "<td>1.0</td>\n",
       "<td>0.9884775</td>\n",
       "<td>1.0</td>\n",
       "<td>0.9904445</td>\n",
       "<td>0.0533399</td>\n",
       "<td>0.2133391</td>\n",
       "<td>433.3026547</td>\n",
       "<td>433.3026547</td></tr>\n",
       "<tr><td></td>\n",
       "<td>5</td>\n",
       "<td>0.0500013</td>\n",
       "<td>0.9860405</td>\n",
       "<td>5.3330265</td>\n",
       "<td>5.3330265</td>\n",
       "<td>1.0</td>\n",
       "<td>0.9869261</td>\n",
       "<td>1.0</td>\n",
       "<td>0.9897410</td>\n",
       "<td>0.0533194</td>\n",
       "<td>0.2666585</td>\n",
       "<td>433.3026547</td>\n",
       "<td>433.3026547</td></tr>\n",
       "<tr><td></td>\n",
       "<td>6</td>\n",
       "<td>0.1000027</td>\n",
       "<td>0.9556064</td>\n",
       "<td>5.3326175</td>\n",
       "<td>5.3328220</td>\n",
       "<td>0.9999233</td>\n",
       "<td>0.9757976</td>\n",
       "<td>0.9999617</td>\n",
       "<td>0.9827693</td>\n",
       "<td>0.2666380</td>\n",
       "<td>0.5332965</td>\n",
       "<td>433.2617510</td>\n",
       "<td>433.2822029</td></tr>\n",
       "<tr><td></td>\n",
       "<td>7</td>\n",
       "<td>0.1500002</td>\n",
       "<td>0.6898105</td>\n",
       "<td>5.1280832</td>\n",
       "<td>5.2645792</td>\n",
       "<td>0.9615709</td>\n",
       "<td>0.8613591</td>\n",
       "<td>0.9871654</td>\n",
       "<td>0.9423013</td>\n",
       "<td>0.2563914</td>\n",
       "<td>0.7896879</td>\n",
       "<td>412.8083209</td>\n",
       "<td>426.4579245</td></tr>\n",
       "<tr><td></td>\n",
       "<td>8</td>\n",
       "<td>0.2000015</td>\n",
       "<td>0.2720687</td>\n",
       "<td>2.7200971</td>\n",
       "<td>4.6284465</td>\n",
       "<td>0.5100476</td>\n",
       "<td>0.4578919</td>\n",
       "<td>0.8678836</td>\n",
       "<td>0.8211966</td>\n",
       "<td>0.1360085</td>\n",
       "<td>0.9256964</td>\n",
       "<td>172.0097142</td>\n",
       "<td>362.8446522</td></tr>\n",
       "<tr><td></td>\n",
       "<td>9</td>\n",
       "<td>0.3000004</td>\n",
       "<td>0.0558126</td>\n",
       "<td>0.6677788</td>\n",
       "<td>3.3082408</td>\n",
       "<td>0.1252157</td>\n",
       "<td>0.1281096</td>\n",
       "<td>0.6203308</td>\n",
       "<td>0.5901706</td>\n",
       "<td>0.0667771</td>\n",
       "<td>0.9924735</td>\n",
       "<td>-33.2221220</td>\n",
       "<td>230.8240818</td></tr>\n",
       "<tr><td></td>\n",
       "<td>10</td>\n",
       "<td>0.3999992</td>\n",
       "<td>0.0293723</td>\n",
       "<td>0.0705616</td>\n",
       "<td>2.4988288</td>\n",
       "<td>0.0132311</td>\n",
       "<td>0.0385316</td>\n",
       "<td>0.4685573</td>\n",
       "<td>0.4522622</td>\n",
       "<td>0.0070561</td>\n",
       "<td>0.9995296</td>\n",
       "<td>-92.9438383</td>\n",
       "<td>149.8828778</td></tr>\n",
       "<tr><td></td>\n",
       "<td>11</td>\n",
       "<td>0.5000019</td>\n",
       "<td>0.0226322</td>\n",
       "<td>0.0047039</td>\n",
       "<td>1.9999923</td>\n",
       "<td>0.0008820</td>\n",
       "<td>0.0256011</td>\n",
       "<td>0.3750201</td>\n",
       "<td>0.3669280</td>\n",
       "<td>0.0004704</td>\n",
       "<td>1.0</td>\n",
       "<td>-99.5296073</td>\n",
       "<td>99.9992330</td></tr>\n",
       "<tr><td></td>\n",
       "<td>12</td>\n",
       "<td>0.6000008</td>\n",
       "<td>0.0182748</td>\n",
       "<td>0.0</td>\n",
       "<td>1.6666645</td>\n",
       "<td>0.0</td>\n",
       "<td>0.0202999</td>\n",
       "<td>0.3125176</td>\n",
       "<td>0.3091574</td>\n",
       "<td>0.0</td>\n",
       "<td>1.0</td>\n",
       "<td>-100.0</td>\n",
       "<td>66.6664536</td></tr>\n",
       "<tr><td></td>\n",
       "<td>13</td>\n",
       "<td>0.6999996</td>\n",
       "<td>0.0165438</td>\n",
       "<td>0.0</td>\n",
       "<td>1.4285722</td>\n",
       "<td>0.0</td>\n",
       "<td>0.0171890</td>\n",
       "<td>0.2678727</td>\n",
       "<td>0.2674481</td>\n",
       "<td>0.0</td>\n",
       "<td>1.0</td>\n",
       "<td>-100.0</td>\n",
       "<td>42.8572211</td></tr>\n",
       "<tr><td></td>\n",
       "<td>14</td>\n",
       "<td>0.7999985</td>\n",
       "<td>0.0158118</td>\n",
       "<td>0.0</td>\n",
       "<td>1.2500024</td>\n",
       "<td>0.0</td>\n",
       "<td>0.0161848</td>\n",
       "<td>0.2343889</td>\n",
       "<td>0.2360405</td>\n",
       "<td>0.0</td>\n",
       "<td>1.0</td>\n",
       "<td>-100.0</td>\n",
       "<td>25.0002397</td></tr>\n",
       "<tr><td></td>\n",
       "<td>15</td>\n",
       "<td>0.8999973</td>\n",
       "<td>0.0153430</td>\n",
       "<td>0.0</td>\n",
       "<td>1.1111144</td>\n",
       "<td>0.0</td>\n",
       "<td>0.0154451</td>\n",
       "<td>0.2083459</td>\n",
       "<td>0.2115301</td>\n",
       "<td>0.0</td>\n",
       "<td>1.0</td>\n",
       "<td>-100.0</td>\n",
       "<td>11.1114425</td></tr>\n",
       "<tr><td></td>\n",
       "<td>16</td>\n",
       "<td>1.0</td>\n",
       "<td>0.0150450</td>\n",
       "<td>0.0</td>\n",
       "<td>1.0</td>\n",
       "<td>0.0</td>\n",
       "<td>0.0152062</td>\n",
       "<td>0.1875108</td>\n",
       "<td>0.1918972</td>\n",
       "<td>0.0</td>\n",
       "<td>1.0</td>\n",
       "<td>-100.0</td>\n",
       "<td>0.0</td></tr></table></div>"
      ],
      "text/plain": [
       "    group    cumulative_data_fraction    lower_threshold    lift        cumulative_lift    response_rate    score      cumulative_response_rate    cumulative_score    capture_rate    cumulative_capture_rate    gain      cumulative_gain\n",
       "--  -------  --------------------------  -----------------  ----------  -----------------  ---------------  ---------  --------------------------  ------------------  --------------  -------------------------  --------  -----------------\n",
       "    1        0.0100018                   0.991736           5.33303     5.33303            1                0.992571   1                           0.992571            0.0533399       0.0533399                  433.303   433.303\n",
       "    2        0.0200036                   0.990317           5.33303     5.33303            1                0.991004   1                           0.991787            0.0533399       0.10668                    433.303   433.303\n",
       "    3        0.0300016                   0.989135           5.33303     5.33303            1                0.989725   1                           0.9911              0.0533194       0.159999                   433.303   433.303\n",
       "    4        0.0400034                   0.98775            5.33303     5.33303            1                0.988478   1                           0.990445            0.0533399       0.213339                   433.303   433.303\n",
       "    5        0.0500013                   0.986041           5.33303     5.33303            1                0.986926   1                           0.989741            0.0533194       0.266658                   433.303   433.303\n",
       "    6        0.100003                    0.955606           5.33262     5.33282            0.999923         0.975798   0.999962                    0.982769            0.266638        0.533297                   433.262   433.282\n",
       "    7        0.15                        0.689811           5.12808     5.26458            0.961571         0.861359   0.987165                    0.942301            0.256391        0.789688                   412.808   426.458\n",
       "    8        0.200002                    0.272069           2.7201      4.62845            0.510048         0.457892   0.867884                    0.821197            0.136009        0.925696                   172.01    362.845\n",
       "    9        0.3                         0.0558126          0.667779    3.30824            0.125216         0.12811    0.620331                    0.590171            0.0667771       0.992474                   -33.2221  230.824\n",
       "    10       0.399999                    0.0293723          0.0705616   2.49883            0.0132311        0.0385316  0.468557                    0.452262            0.00705608      0.99953                    -92.9438  149.883\n",
       "    11       0.500002                    0.0226322          0.00470393  1.99999            0.000882037      0.0256011  0.37502                     0.366928            0.000470405     1                          -99.5296  99.9992\n",
       "    12       0.600001                    0.0182748          0           1.66666            0                0.0202999  0.312518                    0.309157            0               1                          -100      66.6665\n",
       "    13       0.7                         0.0165438          0           1.42857            0                0.017189   0.267873                    0.267448            0               1                          -100      42.8572\n",
       "    14       0.799998                    0.0158118          0           1.25               0                0.0161848  0.234389                    0.23604             0               1                          -100      25.0002\n",
       "    15       0.899997                    0.015343           0           1.11111            0                0.0154451  0.208346                    0.21153             0               1                          -100      11.1114\n",
       "    16       1                           0.015045           0           1                  0                0.0152062  0.187511                    0.191897            0               1                          -100      0"
      ]
     },
     "metadata": {},
     "output_type": "display_data"
    },
    {
     "name": "stdout",
     "output_type": "stream",
     "text": [
      "\n"
     ]
    },
    {
     "data": {
      "text/plain": []
     },
     "execution_count": 222,
     "metadata": {},
     "output_type": "execute_result"
    }
   ],
   "source": [
    "perf_stack_test"
   ]
  },
  {
   "cell_type": "code",
   "execution_count": 223,
   "metadata": {},
   "outputs": [
    {
     "name": "stdout",
     "output_type": "stream",
     "text": [
      "Best Base-learner Test AUC:  0.9954389055307583\n",
      "Ensemble Test AUC:  0.9922392124850552\n"
     ]
    }
   ],
   "source": [
    "# Compare to base learner performance on the test set\n",
    "perf_gbm_test = my_gbm.model_performance(train)\n",
    "perf_rf_test = my_rf.model_performance(train)\n",
    "baselearner_best_auc_test = max(perf_gbm_test.auc(), perf_rf_test.auc())\n",
    "stack_auc_test = perf_stack_test.auc()\n",
    "print(\"Best Base-learner Test AUC:  {0}\".format(baselearner_best_auc_test))\n",
    "print(\"Ensemble Test AUC:  {0}\".format(stack_auc_test))"
   ]
  },
  {
   "cell_type": "code",
   "execution_count": 224,
   "metadata": {},
   "outputs": [
    {
     "name": "stdout",
     "output_type": "stream",
     "text": [
      "stackedensemble prediction progress: |████████████████████████████████████| 100%\n"
     ]
    }
   ],
   "source": [
    "pred_stack = ensemble.predict(test)"
   ]
  },
  {
   "cell_type": "code",
   "execution_count": 225,
   "metadata": {
    "scrolled": true
   },
   "outputs": [
    {
     "data": {
      "text/html": [
       "<table>\n",
       "<thead>\n",
       "<tr><th style=\"text-align: right;\">  predict</th><th style=\"text-align: right;\">       p0</th><th style=\"text-align: right;\">       p1</th></tr>\n",
       "</thead>\n",
       "<tbody>\n",
       "<tr><td style=\"text-align: right;\">        0</td><td style=\"text-align: right;\">0.982941 </td><td style=\"text-align: right;\">0.0170594</td></tr>\n",
       "<tr><td style=\"text-align: right;\">        0</td><td style=\"text-align: right;\">0.974815 </td><td style=\"text-align: right;\">0.0251851</td></tr>\n",
       "<tr><td style=\"text-align: right;\">        0</td><td style=\"text-align: right;\">0.976915 </td><td style=\"text-align: right;\">0.0230849</td></tr>\n",
       "<tr><td style=\"text-align: right;\">        0</td><td style=\"text-align: right;\">0.983233 </td><td style=\"text-align: right;\">0.0167668</td></tr>\n",
       "<tr><td style=\"text-align: right;\">        0</td><td style=\"text-align: right;\">0.754973 </td><td style=\"text-align: right;\">0.245027 </td></tr>\n",
       "<tr><td style=\"text-align: right;\">        0</td><td style=\"text-align: right;\">0.976873 </td><td style=\"text-align: right;\">0.0231269</td></tr>\n",
       "<tr><td style=\"text-align: right;\">        0</td><td style=\"text-align: right;\">0.984497 </td><td style=\"text-align: right;\">0.015503 </td></tr>\n",
       "<tr><td style=\"text-align: right;\">        0</td><td style=\"text-align: right;\">0.973764 </td><td style=\"text-align: right;\">0.0262361</td></tr>\n",
       "<tr><td style=\"text-align: right;\">        0</td><td style=\"text-align: right;\">0.984649 </td><td style=\"text-align: right;\">0.0153514</td></tr>\n",
       "<tr><td style=\"text-align: right;\">        0</td><td style=\"text-align: right;\">0.983892 </td><td style=\"text-align: right;\">0.0161077</td></tr>\n",
       "<tr><td style=\"text-align: right;\">        0</td><td style=\"text-align: right;\">0.974993 </td><td style=\"text-align: right;\">0.0250074</td></tr>\n",
       "<tr><td style=\"text-align: right;\">        0</td><td style=\"text-align: right;\">0.724496 </td><td style=\"text-align: right;\">0.275504 </td></tr>\n",
       "<tr><td style=\"text-align: right;\">        0</td><td style=\"text-align: right;\">0.984866 </td><td style=\"text-align: right;\">0.015134 </td></tr>\n",
       "<tr><td style=\"text-align: right;\">        0</td><td style=\"text-align: right;\">0.885495 </td><td style=\"text-align: right;\">0.114505 </td></tr>\n",
       "<tr><td style=\"text-align: right;\">        0</td><td style=\"text-align: right;\">0.942187 </td><td style=\"text-align: right;\">0.0578129</td></tr>\n",
       "<tr><td style=\"text-align: right;\">        0</td><td style=\"text-align: right;\">0.956487 </td><td style=\"text-align: right;\">0.0435128</td></tr>\n",
       "<tr><td style=\"text-align: right;\">        0</td><td style=\"text-align: right;\">0.983041 </td><td style=\"text-align: right;\">0.0169586</td></tr>\n",
       "<tr><td style=\"text-align: right;\">        0</td><td style=\"text-align: right;\">0.98463  </td><td style=\"text-align: right;\">0.0153698</td></tr>\n",
       "<tr><td style=\"text-align: right;\">        0</td><td style=\"text-align: right;\">0.951345 </td><td style=\"text-align: right;\">0.0486545</td></tr>\n",
       "<tr><td style=\"text-align: right;\">        0</td><td style=\"text-align: right;\">0.962608 </td><td style=\"text-align: right;\">0.0373922</td></tr>\n",
       "<tr><td style=\"text-align: right;\">        0</td><td style=\"text-align: right;\">0.936527 </td><td style=\"text-align: right;\">0.0634732</td></tr>\n",
       "<tr><td style=\"text-align: right;\">        0</td><td style=\"text-align: right;\">0.855002 </td><td style=\"text-align: right;\">0.144998 </td></tr>\n",
       "<tr><td style=\"text-align: right;\">        0</td><td style=\"text-align: right;\">0.931568 </td><td style=\"text-align: right;\">0.068432 </td></tr>\n",
       "<tr><td style=\"text-align: right;\">        0</td><td style=\"text-align: right;\">0.955198 </td><td style=\"text-align: right;\">0.0448024</td></tr>\n",
       "<tr><td style=\"text-align: right;\">        1</td><td style=\"text-align: right;\">0.0742518</td><td style=\"text-align: right;\">0.925748 </td></tr>\n",
       "<tr><td style=\"text-align: right;\">        1</td><td style=\"text-align: right;\">0.265467 </td><td style=\"text-align: right;\">0.734533 </td></tr>\n",
       "<tr><td style=\"text-align: right;\">        1</td><td style=\"text-align: right;\">0.0098091</td><td style=\"text-align: right;\">0.990191 </td></tr>\n",
       "<tr><td style=\"text-align: right;\">        0</td><td style=\"text-align: right;\">0.976048 </td><td style=\"text-align: right;\">0.0239522</td></tr>\n",
       "<tr><td style=\"text-align: right;\">        0</td><td style=\"text-align: right;\">0.984898 </td><td style=\"text-align: right;\">0.0151018</td></tr>\n",
       "<tr><td style=\"text-align: right;\">        0</td><td style=\"text-align: right;\">0.981101 </td><td style=\"text-align: right;\">0.0188994</td></tr>\n",
       "<tr><td style=\"text-align: right;\">        0</td><td style=\"text-align: right;\">0.59942  </td><td style=\"text-align: right;\">0.40058  </td></tr>\n",
       "<tr><td style=\"text-align: right;\">        0</td><td style=\"text-align: right;\">0.901691 </td><td style=\"text-align: right;\">0.0983088</td></tr>\n",
       "<tr><td style=\"text-align: right;\">        0</td><td style=\"text-align: right;\">0.984673 </td><td style=\"text-align: right;\">0.0153266</td></tr>\n",
       "<tr><td style=\"text-align: right;\">        1</td><td style=\"text-align: right;\">0.122197 </td><td style=\"text-align: right;\">0.877803 </td></tr>\n",
       "<tr><td style=\"text-align: right;\">        0</td><td style=\"text-align: right;\">0.984019 </td><td style=\"text-align: right;\">0.0159812</td></tr>\n",
       "<tr><td style=\"text-align: right;\">        0</td><td style=\"text-align: right;\">0.980754 </td><td style=\"text-align: right;\">0.019246 </td></tr>\n",
       "<tr><td style=\"text-align: right;\">        0</td><td style=\"text-align: right;\">0.636189 </td><td style=\"text-align: right;\">0.363811 </td></tr>\n",
       "<tr><td style=\"text-align: right;\">        0</td><td style=\"text-align: right;\">0.903828 </td><td style=\"text-align: right;\">0.0961721</td></tr>\n",
       "<tr><td style=\"text-align: right;\">        0</td><td style=\"text-align: right;\">0.979999 </td><td style=\"text-align: right;\">0.0200005</td></tr>\n",
       "<tr><td style=\"text-align: right;\">        1</td><td style=\"text-align: right;\">0.516317 </td><td style=\"text-align: right;\">0.483683 </td></tr>\n",
       "</tbody>\n",
       "</table>"
      ]
     },
     "metadata": {},
     "output_type": "display_data"
    },
    {
     "data": {
      "text/plain": []
     },
     "execution_count": 225,
     "metadata": {},
     "output_type": "execute_result"
    }
   ],
   "source": [
    "pred_stack.head(40)"
   ]
  },
  {
   "cell_type": "code",
   "execution_count": 226,
   "metadata": {},
   "outputs": [
    {
     "data": {
      "text/plain": [
       "[\"model_id = {'__meta': {'schema_version': 3, 'schema_name': 'ModelKeyV3', 'schema_type': 'Key<Model>'}, 'name': 'my_ensemble_binomial', 'type': 'Key<Model>', 'URL': '/3/Models/my_ensemble_binomial'}\",\n",
       " \"training_frame = {'__meta': {'schema_version': 3, 'schema_name': 'FrameKeyV3', 'schema_type': 'Key<Frame>'}, 'name': 'py_12_sid_9c47', 'type': 'Key<Frame>', 'URL': '/3/Frames/py_12_sid_9c47'}\",\n",
       " \"response_column = {'__meta': {'schema_version': 3, 'schema_name': 'ColSpecifierV3', 'schema_type': 'VecSpecifier'}, 'column_name': 'QuoteConversion_Flag', 'is_member_of_frames': None}\",\n",
       " 'validation_frame = None',\n",
       " \"base_models = [{'__meta': {'schema_version': 3, 'schema_name': 'ModelKeyV3', 'schema_type': 'Key<Model>'}, 'name': 'GBM_model_python_1554157670459_1549', 'type': 'Key<Model>', 'URL': '/3/Models/GBM_model_python_1554157670459_1549'}, {'__meta': {'schema_version': 3, 'schema_name': 'ModelKeyV3', 'schema_type': 'Key<Model>'}, 'name': 'DRF_model_python_1554157670459_1884', 'type': 'Key<Model>', 'URL': '/3/Models/DRF_model_python_1554157670459_1884'}]\",\n",
       " 'metalearner_algorithm = AUTO',\n",
       " 'metalearner_nfolds = 0',\n",
       " 'metalearner_fold_assignment = None',\n",
       " 'metalearner_fold_column = None',\n",
       " 'keep_levelone_frame = False',\n",
       " 'metalearner_params = ',\n",
       " 'seed = -4770630657820997072',\n",
       " 'export_checkpoints_dir = None']"
      ]
     },
     "execution_count": 226,
     "metadata": {},
     "output_type": "execute_result"
    }
   ],
   "source": [
    "params_list = []\n",
    "for key, value in ensemble.params.items():\n",
    "    params_list.append(str(key)+\" = \"+str(value['actual']))\n",
    "params_list"
   ]
  },
  {
   "cell_type": "markdown",
   "metadata": {},
   "source": [
    "#### Saving file"
   ]
  },
  {
   "cell_type": "code",
   "execution_count": 227,
   "metadata": {
    "scrolled": true
   },
   "outputs": [
    {
     "data": {
      "text/plain": [
       "'C:\\\\Users\\\\kaila\\\\OneDrive\\\\Desktop\\\\DSMT\\\\Assignment_3_KaggleCompetition\\\\homesite-quote-conversion\\\\StackEnsembleModel_0.99.csv\\\\my_ensemble_binomial'"
      ]
     },
     "execution_count": 227,
     "metadata": {},
     "output_type": "execute_result"
    }
   ],
   "source": [
    "# uncomment if you want to export the best model\n",
    "h2o.save_model(ensemble, \"C://Users//kaila//OneDrive//Desktop//DSMT//Assignment_3_KaggleCompetition//homesite-quote-conversion//StackEnsembleModel_0.99.csv\", force=True)"
   ]
  },
  {
   "cell_type": "code",
   "execution_count": 228,
   "metadata": {},
   "outputs": [
    {
     "name": "stdout",
     "output_type": "stream",
     "text": [
      "Export File progress: |███████████████████████████████████████████████████| 100%\n"
     ]
    }
   ],
   "source": [
    "h2o.export_file(pred_stack, \"C://Users//kaila//OneDrive//Desktop//DSMT//Assignment_3_KaggleCompetition//homesite-quote-conversion//StackEnsembleModelpred2.csv\", force=True)"
   ]
  },
  {
   "cell_type": "code",
   "execution_count": 173,
   "metadata": {},
   "outputs": [],
   "source": [
    "df_read=pd.read_csv(\"C://Users//kaila//OneDrive//Desktop//DSMT//Assignment_3_KaggleCompetition//homesite-quote-conversion//StackEnsembleModelpred2.csv\")"
   ]
  },
  {
   "cell_type": "code",
   "execution_count": 192,
   "metadata": {},
   "outputs": [],
   "source": [
    "df_read['QuoteConversion_Flag'] = np.where(df_read['p0'] >100, df_read['p0'] ,df_read['p0'])"
   ]
  },
  {
   "cell_type": "code",
   "execution_count": 193,
   "metadata": {
    "collapsed": true
   },
   "outputs": [
    {
     "data": {
      "text/plain": [
       "0         0.986626\n",
       "1         0.977378\n",
       "2         0.978729\n",
       "3         0.985654\n",
       "4         0.910024\n",
       "5         0.976472\n",
       "6         0.988904\n",
       "7         0.973513\n",
       "8         0.988936\n",
       "9         0.986412\n",
       "10        0.978132\n",
       "11        0.751206\n",
       "12        0.988426\n",
       "13        0.925089\n",
       "14        0.931767\n",
       "15        0.965539\n",
       "16        0.989342\n",
       "17        0.989010\n",
       "18        0.966392\n",
       "19        0.959851\n",
       "20        0.928491\n",
       "21        0.730863\n",
       "22        0.919627\n",
       "23        0.924594\n",
       "24        0.442502\n",
       "25        0.500990\n",
       "26        0.003462\n",
       "27        0.979556\n",
       "28        0.988830\n",
       "29        0.984798\n",
       "            ...   \n",
       "173806    0.014845\n",
       "173807    0.566487\n",
       "173808    0.960435\n",
       "173809    0.974810\n",
       "173810    0.032034\n",
       "173811    0.940547\n",
       "173812    0.475428\n",
       "173813    0.968963\n",
       "173814    0.587302\n",
       "173815    0.892047\n",
       "173816    0.967736\n",
       "173817    0.966636\n",
       "173818    0.970737\n",
       "173819    0.872007\n",
       "173820    0.988936\n",
       "173821    0.205729\n",
       "173822    0.154498\n",
       "173823    0.345092\n",
       "173824    0.002694\n",
       "173825    0.594492\n",
       "173826    0.954997\n",
       "173827    0.987916\n",
       "173828    0.988417\n",
       "173829    0.026366\n",
       "173830    0.547763\n",
       "173831    0.861072\n",
       "173832    0.817998\n",
       "173833    0.068280\n",
       "173834    0.987398\n",
       "173835    0.904716\n",
       "Name: QuoteConversion_Flag, Length: 173836, dtype: float64"
      ]
     },
     "execution_count": 193,
     "metadata": {},
     "output_type": "execute_result"
    }
   ],
   "source": [
    "df_read['QuoteConversion_Flag']"
   ]
  },
  {
   "cell_type": "code",
   "execution_count": 194,
   "metadata": {},
   "outputs": [
    {
     "data": {
      "text/html": [
       "<table>\n",
       "<thead>\n",
       "<tr><th style=\"text-align: right;\">  QuoteNumber</th></tr>\n",
       "</thead>\n",
       "<tbody>\n",
       "<tr><td style=\"text-align: right;\">            3</td></tr>\n",
       "<tr><td style=\"text-align: right;\">            5</td></tr>\n",
       "<tr><td style=\"text-align: right;\">            7</td></tr>\n",
       "<tr><td style=\"text-align: right;\">            9</td></tr>\n",
       "<tr><td style=\"text-align: right;\">           10</td></tr>\n",
       "<tr><td style=\"text-align: right;\">           11</td></tr>\n",
       "<tr><td style=\"text-align: right;\">           15</td></tr>\n",
       "<tr><td style=\"text-align: right;\">           16</td></tr>\n",
       "<tr><td style=\"text-align: right;\">           17</td></tr>\n",
       "<tr><td style=\"text-align: right;\">           21</td></tr>\n",
       "</tbody>\n",
       "</table>"
      ]
     },
     "metadata": {},
     "output_type": "display_data"
    },
    {
     "data": {
      "text/plain": []
     },
     "execution_count": 194,
     "metadata": {},
     "output_type": "execute_result"
    }
   ],
   "source": [
    "test['QuoteNumber']"
   ]
  },
  {
   "cell_type": "code",
   "execution_count": 195,
   "metadata": {},
   "outputs": [
    {
     "name": "stdout",
     "output_type": "stream",
     "text": [
      "Saved file: Combine_stack_op_p0_p2.csv\n"
     ]
    }
   ],
   "source": [
    "sub = pd.DataFrame(columns=['QuoteNumber','QuoteConversion_Flag'])\n",
    "sub['QuoteNumber'] = test_df.QuoteNumber\n",
    "sub['QuoteConversion_Flag'] = df_read['QuoteConversion_Flag']\n",
    "\n",
    "\n",
    "subfile = 'Combine_stack_op_p0_p2.csv'\n",
    "sub.to_csv(subfile,index=False)\n",
    "print('Saved file: ' + subfile)"
   ]
  },
  {
   "cell_type": "code",
   "execution_count": null,
   "metadata": {},
   "outputs": [],
   "source": []
  },
  {
   "cell_type": "code",
   "execution_count": 234,
   "metadata": {},
   "outputs": [],
   "source": [
    "# 2. Generate a random grid of models and stack them together\n",
    "\n",
    "# Specify GBM hyperparameters for the grid\n",
    "hyper_params = {\"learn_rate\": [0.1, 0.07],\n",
    "                \"max_depth\": [3, 4, 5, 6, 9],\n",
    "                \"sample_rate\": [0.7, 0.8, 0.9, 1.0],\n",
    "                \"col_sample_rate\": [0.2, 0.3, 0.4, 0.5, 0.6, 0.7, 0.8]}\n",
    "search_criteria = {\"strategy\": \"RandomDiscrete\", \"max_models\": 6, \"seed\": 27}"
   ]
  },
  {
   "cell_type": "code",
   "execution_count": 235,
   "metadata": {},
   "outputs": [
    {
     "name": "stdout",
     "output_type": "stream",
     "text": [
      "gbm Grid Build progress: |████████████████████████████████████████████████| 100%\n"
     ]
    }
   ],
   "source": [
    "# Train the grid\n",
    "grid = H2OGridSearch(model=H2OGradientBoostingEstimator(ntrees=200,\n",
    "                                                        seed=27,\n",
    "                                                        nfolds=nfolds,\n",
    "                                                        fold_assignment=\"Modulo\",\n",
    "                                                        keep_cross_validation_predictions=True),\n",
    "                     hyper_params=hyper_params,\n",
    "                     search_criteria=search_criteria,\n",
    "                     grid_id=\"gbm_grid_binomial\")\n",
    "grid.train(x=x, y=y, training_frame=train)\n"
   ]
  },
  {
   "cell_type": "code",
   "execution_count": 236,
   "metadata": {},
   "outputs": [
    {
     "name": "stdout",
     "output_type": "stream",
     "text": [
      "stackedensemble Model Build progress: |███████████████████████████████████| 100%\n"
     ]
    }
   ],
   "source": [
    "# Train a stacked ensemble using the GBM grid\n",
    "ensemble = H2OStackedEnsembleEstimator(model_id=\"my_ensemble_gbm_grid_binomial\",\n",
    "                                       base_models=grid.model_ids)\n",
    "ensemble.train(x=x, y=y, training_frame=train)\n"
   ]
  },
  {
   "cell_type": "code",
   "execution_count": 237,
   "metadata": {},
   "outputs": [],
   "source": [
    "perf_stack_test = ensemble.model_performance(train)"
   ]
  },
  {
   "cell_type": "code",
   "execution_count": 238,
   "metadata": {},
   "outputs": [
    {
     "name": "stdout",
     "output_type": "stream",
     "text": [
      "\n",
      "ModelMetricsBinomialGLM: stackedensemble\n",
      "** Reported on test data. **\n",
      "\n",
      "MSE: 0.042811471968583134\n",
      "RMSE: 0.2069093327247061\n",
      "LogLoss: 0.15225261591608222\n",
      "Null degrees of freedom: 260752\n",
      "Residual degrees of freedom: 260744\n",
      "Null deviance: 251675.34365208313\n",
      "Residual deviance: 79400.65271593237\n",
      "AIC: 79418.65271593237\n",
      "AUC: 0.9762446444403008\n",
      "pr_auc: 0.8825859013341169\n",
      "Gini: 0.9524892888806016\n",
      "Confusion Matrix (Act/Pred) for max f1 @ threshold = 0.37783912546515475: \n"
     ]
    },
    {
     "data": {
      "text/html": [
       "<div style=\"overflow:auto\"><table style=\"width:50%\"><tr><td><b></b></td>\n",
       "<td><b>0</b></td>\n",
       "<td><b>1</b></td>\n",
       "<td><b>Error</b></td>\n",
       "<td><b>Rate</b></td></tr>\n",
       "<tr><td>0</td>\n",
       "<td>205257.0</td>\n",
       "<td>6602.0</td>\n",
       "<td>0.0312</td>\n",
       "<td> (6602.0/211859.0)</td></tr>\n",
       "<tr><td>1</td>\n",
       "<td>8867.0</td>\n",
       "<td>40027.0</td>\n",
       "<td>0.1814</td>\n",
       "<td> (8867.0/48894.0)</td></tr>\n",
       "<tr><td>Total</td>\n",
       "<td>214124.0</td>\n",
       "<td>46629.0</td>\n",
       "<td>0.0593</td>\n",
       "<td> (15469.0/260753.0)</td></tr></table></div>"
      ],
      "text/plain": [
       "       0       1      Error    Rate\n",
       "-----  ------  -----  -------  ------------------\n",
       "0      205257  6602   0.0312   (6602.0/211859.0)\n",
       "1      8867    40027  0.1814   (8867.0/48894.0)\n",
       "Total  214124  46629  0.0593   (15469.0/260753.0)"
      ]
     },
     "metadata": {},
     "output_type": "display_data"
    },
    {
     "name": "stdout",
     "output_type": "stream",
     "text": [
      "Maximum Metrics: Maximum metrics at their respective thresholds\n",
      "\n"
     ]
    },
    {
     "data": {
      "text/html": [
       "<div style=\"overflow:auto\"><table style=\"width:50%\"><tr><td><b>metric</b></td>\n",
       "<td><b>threshold</b></td>\n",
       "<td><b>value</b></td>\n",
       "<td><b>idx</b></td></tr>\n",
       "<tr><td>max f1</td>\n",
       "<td>0.3778391</td>\n",
       "<td>0.8380599</td>\n",
       "<td>207.0</td></tr>\n",
       "<tr><td>max f2</td>\n",
       "<td>0.1274541</td>\n",
       "<td>0.8591370</td>\n",
       "<td>305.0</td></tr>\n",
       "<tr><td>max f0point5</td>\n",
       "<td>0.6969919</td>\n",
       "<td>0.8929456</td>\n",
       "<td>106.0</td></tr>\n",
       "<tr><td>max accuracy</td>\n",
       "<td>0.5018770</td>\n",
       "<td>0.9424705</td>\n",
       "<td>167.0</td></tr>\n",
       "<tr><td>max precision</td>\n",
       "<td>0.9929997</td>\n",
       "<td>1.0</td>\n",
       "<td>0.0</td></tr>\n",
       "<tr><td>max recall</td>\n",
       "<td>0.0221136</td>\n",
       "<td>1.0</td>\n",
       "<td>391.0</td></tr>\n",
       "<tr><td>max specificity</td>\n",
       "<td>0.9929997</td>\n",
       "<td>1.0</td>\n",
       "<td>0.0</td></tr>\n",
       "<tr><td>max absolute_mcc</td>\n",
       "<td>0.4551806</td>\n",
       "<td>0.8041746</td>\n",
       "<td>182.0</td></tr>\n",
       "<tr><td>max min_per_class_accuracy</td>\n",
       "<td>0.1398046</td>\n",
       "<td>0.9102139</td>\n",
       "<td>299.0</td></tr>\n",
       "<tr><td>max mean_per_class_accuracy</td>\n",
       "<td>0.1572648</td>\n",
       "<td>0.9104832</td>\n",
       "<td>290.0</td></tr></table></div>"
      ],
      "text/plain": [
       "metric                       threshold    value     idx\n",
       "---------------------------  -----------  --------  -----\n",
       "max f1                       0.377839     0.83806   207\n",
       "max f2                       0.127454     0.859137  305\n",
       "max f0point5                 0.696992     0.892946  106\n",
       "max accuracy                 0.501877     0.94247   167\n",
       "max precision                0.993        1         0\n",
       "max recall                   0.0221136    1         391\n",
       "max specificity              0.993        1         0\n",
       "max absolute_mcc             0.455181     0.804175  182\n",
       "max min_per_class_accuracy   0.139805     0.910214  299\n",
       "max mean_per_class_accuracy  0.157265     0.910483  290"
      ]
     },
     "metadata": {},
     "output_type": "display_data"
    },
    {
     "name": "stdout",
     "output_type": "stream",
     "text": [
      "Gains/Lift Table: Avg response rate: 18.75 %, avg score: 18.98 %\n",
      "\n"
     ]
    },
    {
     "data": {
      "text/html": [
       "<div style=\"overflow:auto\"><table style=\"width:50%\"><tr><td><b></b></td>\n",
       "<td><b>group</b></td>\n",
       "<td><b>cumulative_data_fraction</b></td>\n",
       "<td><b>lower_threshold</b></td>\n",
       "<td><b>lift</b></td>\n",
       "<td><b>cumulative_lift</b></td>\n",
       "<td><b>response_rate</b></td>\n",
       "<td><b>score</b></td>\n",
       "<td><b>cumulative_response_rate</b></td>\n",
       "<td><b>cumulative_score</b></td>\n",
       "<td><b>capture_rate</b></td>\n",
       "<td><b>cumulative_capture_rate</b></td>\n",
       "<td><b>gain</b></td>\n",
       "<td><b>cumulative_gain</b></td></tr>\n",
       "<tr><td></td>\n",
       "<td>1</td>\n",
       "<td>0.0100018</td>\n",
       "<td>0.9914314</td>\n",
       "<td>5.3330265</td>\n",
       "<td>5.3330265</td>\n",
       "<td>1.0</td>\n",
       "<td>0.9928045</td>\n",
       "<td>1.0</td>\n",
       "<td>0.9928045</td>\n",
       "<td>0.0533399</td>\n",
       "<td>0.0533399</td>\n",
       "<td>433.3026547</td>\n",
       "<td>433.3026547</td></tr>\n",
       "<tr><td></td>\n",
       "<td>2</td>\n",
       "<td>0.0200036</td>\n",
       "<td>0.9911492</td>\n",
       "<td>5.3330265</td>\n",
       "<td>5.3330265</td>\n",
       "<td>1.0</td>\n",
       "<td>0.9912779</td>\n",
       "<td>1.0</td>\n",
       "<td>0.9920412</td>\n",
       "<td>0.0533399</td>\n",
       "<td>0.1066798</td>\n",
       "<td>433.3026547</td>\n",
       "<td>433.3026547</td></tr>\n",
       "<tr><td></td>\n",
       "<td>3</td>\n",
       "<td>0.0300016</td>\n",
       "<td>0.9908489</td>\n",
       "<td>5.3268896</td>\n",
       "<td>5.3309814</td>\n",
       "<td>0.9988493</td>\n",
       "<td>0.9910223</td>\n",
       "<td>0.9996165</td>\n",
       "<td>0.9917016</td>\n",
       "<td>0.0532581</td>\n",
       "<td>0.1599378</td>\n",
       "<td>432.6889578</td>\n",
       "<td>433.0981414</td></tr>\n",
       "<tr><td></td>\n",
       "<td>4</td>\n",
       "<td>0.0400034</td>\n",
       "<td>0.9891530</td>\n",
       "<td>5.3248471</td>\n",
       "<td>5.3294477</td>\n",
       "<td>0.9984663</td>\n",
       "<td>0.9900532</td>\n",
       "<td>0.9993289</td>\n",
       "<td>0.9912895</td>\n",
       "<td>0.0532581</td>\n",
       "<td>0.2131959</td>\n",
       "<td>432.4847059</td>\n",
       "<td>432.9447678</td></tr>\n",
       "<tr><td></td>\n",
       "<td>5</td>\n",
       "<td>0.0500013</td>\n",
       "<td>0.9879216</td>\n",
       "<td>5.3248439</td>\n",
       "<td>5.3285271</td>\n",
       "<td>0.9984657</td>\n",
       "<td>0.9884967</td>\n",
       "<td>0.9991563</td>\n",
       "<td>0.9907311</td>\n",
       "<td>0.0532376</td>\n",
       "<td>0.2664335</td>\n",
       "<td>432.4843921</td>\n",
       "<td>432.8527138</td></tr>\n",
       "<tr><td></td>\n",
       "<td>6</td>\n",
       "<td>0.1000027</td>\n",
       "<td>0.9563630</td>\n",
       "<td>5.3011216</td>\n",
       "<td>5.3148244</td>\n",
       "<td>0.9940175</td>\n",
       "<td>0.9778683</td>\n",
       "<td>0.9965869</td>\n",
       "<td>0.9842997</td>\n",
       "<td>0.2650632</td>\n",
       "<td>0.5314967</td>\n",
       "<td>430.1121648</td>\n",
       "<td>431.4824393</td></tr>\n",
       "<tr><td></td>\n",
       "<td>7</td>\n",
       "<td>0.1500002</td>\n",
       "<td>0.5723557</td>\n",
       "<td>4.2567672</td>\n",
       "<td>4.9621567</td>\n",
       "<td>0.7981898</td>\n",
       "<td>0.7793118</td>\n",
       "<td>0.9304579</td>\n",
       "<td>0.9159739</td>\n",
       "<td>0.2128277</td>\n",
       "<td>0.7443245</td>\n",
       "<td>325.6767220</td>\n",
       "<td>396.2156703</td></tr>\n",
       "<tr><td></td>\n",
       "<td>8</td>\n",
       "<td>0.2000015</td>\n",
       "<td>0.2724246</td>\n",
       "<td>2.2656569</td>\n",
       "<td>4.2880188</td>\n",
       "<td>0.4248351</td>\n",
       "<td>0.4064233</td>\n",
       "<td>0.8040498</td>\n",
       "<td>0.7885838</td>\n",
       "<td>0.1132859</td>\n",
       "<td>0.8576103</td>\n",
       "<td>126.5656853</td>\n",
       "<td>328.8018814</td></tr>\n",
       "<tr><td></td>\n",
       "<td>9</td>\n",
       "<td>0.3000004</td>\n",
       "<td>0.0652546</td>\n",
       "<td>0.9424578</td>\n",
       "<td>3.1728461</td>\n",
       "<td>0.1767210</td>\n",
       "<td>0.1399882</td>\n",
       "<td>0.5949429</td>\n",
       "<td>0.5723880</td>\n",
       "<td>0.0942447</td>\n",
       "<td>0.9518550</td>\n",
       "<td>-5.7542231</td>\n",
       "<td>217.2846055</td></tr>\n",
       "<tr><td></td>\n",
       "<td>10</td>\n",
       "<td>0.3999992</td>\n",
       "<td>0.0336819</td>\n",
       "<td>0.3470813</td>\n",
       "<td>2.4664117</td>\n",
       "<td>0.0650815</td>\n",
       "<td>0.0447055</td>\n",
       "<td>0.4624788</td>\n",
       "<td>0.4404687</td>\n",
       "<td>0.0347077</td>\n",
       "<td>0.9865628</td>\n",
       "<td>-65.2918656</td>\n",
       "<td>146.6411650</td></tr>\n",
       "<tr><td></td>\n",
       "<td>11</td>\n",
       "<td>0.5000019</td>\n",
       "<td>0.0275209</td>\n",
       "<td>0.1026683</td>\n",
       "<td>1.9936521</td>\n",
       "<td>0.0192514</td>\n",
       "<td>0.0302042</td>\n",
       "<td>0.3738313</td>\n",
       "<td>0.3584139</td>\n",
       "<td>0.0102671</td>\n",
       "<td>0.9968299</td>\n",
       "<td>-89.7331672</td>\n",
       "<td>99.3652108</td></tr>\n",
       "<tr><td></td>\n",
       "<td>12</td>\n",
       "<td>0.6000008</td>\n",
       "<td>0.0239834</td>\n",
       "<td>0.0304744</td>\n",
       "<td>1.6664600</td>\n",
       "<td>0.0057143</td>\n",
       "<td>0.0256573</td>\n",
       "<td>0.3124792</td>\n",
       "<td>0.3029552</td>\n",
       "<td>0.0030474</td>\n",
       "<td>0.9998773</td>\n",
       "<td>-96.9525563</td>\n",
       "<td>66.6460012</td></tr>\n",
       "<tr><td></td>\n",
       "<td>13</td>\n",
       "<td>0.6999996</td>\n",
       "<td>0.0202474</td>\n",
       "<td>0.0012272</td>\n",
       "<td>1.4285722</td>\n",
       "<td>0.0002301</td>\n",
       "<td>0.0217859</td>\n",
       "<td>0.2678727</td>\n",
       "<td>0.2627886</td>\n",
       "<td>0.0001227</td>\n",
       "<td>1.0</td>\n",
       "<td>-99.8772841</td>\n",
       "<td>42.8572211</td></tr>\n",
       "<tr><td></td>\n",
       "<td>14</td>\n",
       "<td>0.7999985</td>\n",
       "<td>0.0196679</td>\n",
       "<td>0.0</td>\n",
       "<td>1.2500024</td>\n",
       "<td>0.0</td>\n",
       "<td>0.0200260</td>\n",
       "<td>0.2343889</td>\n",
       "<td>0.2324435</td>\n",
       "<td>0.0</td>\n",
       "<td>1.0</td>\n",
       "<td>-100.0</td>\n",
       "<td>25.0002397</td></tr>\n",
       "<tr><td></td>\n",
       "<td>15</td>\n",
       "<td>0.8999973</td>\n",
       "<td>0.0193237</td>\n",
       "<td>0.0</td>\n",
       "<td>1.1111144</td>\n",
       "<td>0.0</td>\n",
       "<td>0.0194806</td>\n",
       "<td>0.2083459</td>\n",
       "<td>0.2087812</td>\n",
       "<td>0.0</td>\n",
       "<td>1.0</td>\n",
       "<td>-100.0</td>\n",
       "<td>11.1114425</td></tr>\n",
       "<tr><td></td>\n",
       "<td>16</td>\n",
       "<td>1.0</td>\n",
       "<td>0.0184351</td>\n",
       "<td>0.0</td>\n",
       "<td>1.0</td>\n",
       "<td>0.0</td>\n",
       "<td>0.0188298</td>\n",
       "<td>0.1875108</td>\n",
       "<td>0.1897855</td>\n",
       "<td>0.0</td>\n",
       "<td>1.0</td>\n",
       "<td>-100.0</td>\n",
       "<td>0.0</td></tr></table></div>"
      ],
      "text/plain": [
       "    group    cumulative_data_fraction    lower_threshold    lift        cumulative_lift    response_rate    score      cumulative_response_rate    cumulative_score    capture_rate    cumulative_capture_rate    gain      cumulative_gain\n",
       "--  -------  --------------------------  -----------------  ----------  -----------------  ---------------  ---------  --------------------------  ------------------  --------------  -------------------------  --------  -----------------\n",
       "    1        0.0100018                   0.991431           5.33303     5.33303            1                0.992804   1                           0.992804            0.0533399       0.0533399                  433.303   433.303\n",
       "    2        0.0200036                   0.991149           5.33303     5.33303            1                0.991278   1                           0.992041            0.0533399       0.10668                    433.303   433.303\n",
       "    3        0.0300016                   0.990849           5.32689     5.33098            0.998849         0.991022   0.999617                    0.991702            0.0532581       0.159938                   432.689   433.098\n",
       "    4        0.0400034                   0.989153           5.32485     5.32945            0.998466         0.990053   0.999329                    0.991289            0.0532581       0.213196                   432.485   432.945\n",
       "    5        0.0500013                   0.987922           5.32484     5.32853            0.998466         0.988497   0.999156                    0.990731            0.0532376       0.266434                   432.484   432.853\n",
       "    6        0.100003                    0.956363           5.30112     5.31482            0.994017         0.977868   0.996587                    0.9843              0.265063        0.531497                   430.112   431.482\n",
       "    7        0.15                        0.572356           4.25677     4.96216            0.79819          0.779312   0.930458                    0.915974            0.212828        0.744324                   325.677   396.216\n",
       "    8        0.200002                    0.272425           2.26566     4.28802            0.424835         0.406423   0.80405                     0.788584            0.113286        0.85761                    126.566   328.802\n",
       "    9        0.3                         0.0652546          0.942458    3.17285            0.176721         0.139988   0.594943                    0.572388            0.0942447       0.951855                   -5.75422  217.285\n",
       "    10       0.399999                    0.0336819          0.347081    2.46641            0.0650815        0.0447055  0.462479                    0.440469            0.0347077       0.986563                   -65.2919  146.641\n",
       "    11       0.500002                    0.0275209          0.102668    1.99365            0.0192514        0.0302042  0.373831                    0.358414            0.0102671       0.99683                    -89.7332  99.3652\n",
       "    12       0.600001                    0.0239834          0.0304744   1.66646            0.00571429       0.0256573  0.312479                    0.302955            0.00304741      0.999877                   -96.9526  66.646\n",
       "    13       0.7                         0.0202474          0.00122716  1.42857            0.000230105      0.0217859  0.267873                    0.262789            0.000122714     1                          -99.8773  42.8572\n",
       "    14       0.799998                    0.0196679          0           1.25               0                0.020026   0.234389                    0.232444            0               1                          -100      25.0002\n",
       "    15       0.899997                    0.0193237          0           1.11111            0                0.0194806  0.208346                    0.208781            0               1                          -100      11.1114\n",
       "    16       1                           0.0184351          0           1                  0                0.0188298  0.187511                    0.189786            0               1                          -100      0"
      ]
     },
     "metadata": {},
     "output_type": "display_data"
    },
    {
     "name": "stdout",
     "output_type": "stream",
     "text": [
      "\n"
     ]
    },
    {
     "data": {
      "text/plain": []
     },
     "execution_count": 238,
     "metadata": {},
     "output_type": "execute_result"
    }
   ],
   "source": [
    "perf_stack_test"
   ]
  },
  {
   "cell_type": "code",
   "execution_count": null,
   "metadata": {},
   "outputs": [],
   "source": [
    "# # Compare to base learner performance on the test set\n",
    "# baselearner_best_auc_test = max([h2o.get_model(model).model_performance(test_data=test).auc() for model in grid.model_ids])\n",
    "# stack_auc_test = perf_stack_test.auc()\n",
    "# print(\"Best Base-learner Test AUC:  {0}\".format(baselearner_best_auc_test))\n",
    "# print(\"Ensemble Test AUC:  {0}\".format(stack_auc_test))"
   ]
  },
  {
   "cell_type": "code",
   "execution_count": 239,
   "metadata": {},
   "outputs": [
    {
     "name": "stdout",
     "output_type": "stream",
     "text": [
      "stackedensemble prediction progress: |████████████████████████████████████| 100%\n"
     ]
    }
   ],
   "source": [
    "# Generate predictions on a test set (if neccessary)\n",
    "pred_stack2 = ensemble.predict(test)"
   ]
  },
  {
   "cell_type": "code",
   "execution_count": 240,
   "metadata": {},
   "outputs": [
    {
     "data": {
      "text/html": [
       "<table>\n",
       "<thead>\n",
       "<tr><th style=\"text-align: right;\">  predict</th><th style=\"text-align: right;\">      p0</th><th style=\"text-align: right;\">       p1</th></tr>\n",
       "</thead>\n",
       "<tbody>\n",
       "<tr><td style=\"text-align: right;\">        0</td><td style=\"text-align: right;\">0.979681</td><td style=\"text-align: right;\">0.0203191</td></tr>\n",
       "<tr><td style=\"text-align: right;\">        0</td><td style=\"text-align: right;\">0.972725</td><td style=\"text-align: right;\">0.0272747</td></tr>\n",
       "<tr><td style=\"text-align: right;\">        0</td><td style=\"text-align: right;\">0.968681</td><td style=\"text-align: right;\">0.0313191</td></tr>\n",
       "<tr><td style=\"text-align: right;\">        0</td><td style=\"text-align: right;\">0.976908</td><td style=\"text-align: right;\">0.0230921</td></tr>\n",
       "<tr><td style=\"text-align: right;\">        0</td><td style=\"text-align: right;\">0.880858</td><td style=\"text-align: right;\">0.119142 </td></tr>\n",
       "<tr><td style=\"text-align: right;\">        0</td><td style=\"text-align: right;\">0.973976</td><td style=\"text-align: right;\">0.0260238</td></tr>\n",
       "<tr><td style=\"text-align: right;\">        0</td><td style=\"text-align: right;\">0.980347</td><td style=\"text-align: right;\">0.0196531</td></tr>\n",
       "<tr><td style=\"text-align: right;\">        0</td><td style=\"text-align: right;\">0.972554</td><td style=\"text-align: right;\">0.0274456</td></tr>\n",
       "<tr><td style=\"text-align: right;\">        0</td><td style=\"text-align: right;\">0.98072 </td><td style=\"text-align: right;\">0.01928  </td></tr>\n",
       "<tr><td style=\"text-align: right;\">        0</td><td style=\"text-align: right;\">0.980917</td><td style=\"text-align: right;\">0.0190827</td></tr>\n",
       "</tbody>\n",
       "</table>"
      ]
     },
     "metadata": {},
     "output_type": "display_data"
    },
    {
     "data": {
      "text/plain": []
     },
     "execution_count": 240,
     "metadata": {},
     "output_type": "execute_result"
    }
   ],
   "source": [
    "pred_stack2"
   ]
  },
  {
   "cell_type": "code",
   "execution_count": 241,
   "metadata": {},
   "outputs": [
    {
     "data": {
      "text/plain": [
       "0.9762446444403008"
      ]
     },
     "execution_count": 241,
     "metadata": {},
     "output_type": "execute_result"
    }
   ],
   "source": [
    "ensemble.auc()"
   ]
  },
  {
   "cell_type": "code",
   "execution_count": 242,
   "metadata": {},
   "outputs": [
    {
     "data": {
      "text/plain": [
       "'C:\\\\Users\\\\kaila\\\\OneDrive\\\\Desktop\\\\DSMT\\\\Assignment_3_KaggleCompetition\\\\homesite-quote-conversion\\\\StackEnsemblerandom_randomgrid.csv\\\\my_ensemble_gbm_grid_binomial'"
      ]
     },
     "execution_count": 242,
     "metadata": {},
     "output_type": "execute_result"
    }
   ],
   "source": [
    "# uncomment if you want to export the best model\n",
    "h2o.save_model(ensemble, \"C://Users//kaila//OneDrive//Desktop//DSMT//Assignment_3_KaggleCompetition//homesite-quote-conversion//StackEnsemblerandom_randomgrid.csv\", force=True)"
   ]
  },
  {
   "cell_type": "code",
   "execution_count": 245,
   "metadata": {},
   "outputs": [
    {
     "name": "stdout",
     "output_type": "stream",
     "text": [
      "Export File progress: |███████████████████████████████████████████████████| 100%\n"
     ]
    }
   ],
   "source": [
    "h2o.export_file(pred_stack2, \"C://Users//kaila//OneDrive//Desktop//DSMT//Assignment_3_KaggleCompetition//homesite-quote-conversion//StackEnsembleModelpred4.csv\", force=True)"
   ]
  },
  {
   "cell_type": "code",
   "execution_count": null,
   "metadata": {},
   "outputs": [],
   "source": []
  }
 ],
 "metadata": {
  "kernelspec": {
   "display_name": "Python 3",
   "language": "python",
   "name": "python3"
  },
  "language_info": {
   "codemirror_mode": {
    "name": "ipython",
    "version": 3
   },
   "file_extension": ".py",
   "mimetype": "text/x-python",
   "name": "python",
   "nbconvert_exporter": "python",
   "pygments_lexer": "ipython3",
   "version": "3.7.1"
  }
 },
 "nbformat": 4,
 "nbformat_minor": 2
}
